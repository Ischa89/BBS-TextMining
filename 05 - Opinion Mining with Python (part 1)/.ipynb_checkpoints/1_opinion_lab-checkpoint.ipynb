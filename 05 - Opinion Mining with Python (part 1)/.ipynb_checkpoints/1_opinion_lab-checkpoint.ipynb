{
  "nbformat": 4,
  "nbformat_minor": 0,
  "metadata": {
    "kernelspec": {
      "display_name": "Python 3",
      "language": "python",
      "name": "python3"
    },
    "language_info": {
      "codemirror_mode": {
        "name": "ipython",
        "version": 3
      },
      "file_extension": ".py",
      "mimetype": "text/x-python",
      "name": "python",
      "nbconvert_exporter": "python",
      "pygments_lexer": "ipython3",
      "version": "3.5.2"
    },
    "colab": {
      "name": "1-opinion-lab.ipynb",
      "provenance": [],
      "collapsed_sections": [
        "ZwNfCgBU9IOR",
        "Qr17VRMp9IOw"
      ]
    }
  },
  "cells": [
    {
      "cell_type": "markdown",
      "metadata": {
        "id": "9Ff1tWjz9IMU"
      },
      "source": [
        "# Opinion Mining & Sentiment Analysis: Lab Activities\n",
        "\n",
        "**Text Mining unit**\n",
        "\n",
        "_Prof. Gianluca Moro, Dott. Ing. Nicola Piscaglia – DISI, University of Bologna_\n",
        "\n",
        "**Bologna Business School** - Alma Mater Studiorum Università di Bologna"
      ]
    },
    {
      "cell_type": "markdown",
      "metadata": {
        "id": "UNVEJNfK9IMV"
      },
      "source": [
        "## Setup\n",
        "\n",
        "Import external libraries (thus verifying they are correctly installed)"
      ]
    },
    {
      "cell_type": "code",
      "metadata": {
        "id": "mahnniQH9IMV"
      },
      "source": [
        "import pandas as pd\n",
        "import matplotlib.pyplot as plt\n",
        "import sklearn\n",
        "import nltk"
      ],
      "execution_count": null,
      "outputs": []
    },
    {
      "cell_type": "markdown",
      "metadata": {
        "id": "LqGAJAwE9IMY"
      },
      "source": [
        "If using IPython/Jupyter, run the following to render plots inline"
      ]
    },
    {
      "cell_type": "code",
      "metadata": {
        "id": "4F4jCZtw9IMY"
      },
      "source": [
        "%matplotlib inline"
      ],
      "execution_count": null,
      "outputs": []
    },
    {
      "cell_type": "markdown",
      "metadata": {
        "id": "7XQSMiSN9IMa"
      },
      "source": [
        "Set some options in pandas for printing DataFrames"
      ]
    },
    {
      "cell_type": "code",
      "metadata": {
        "id": "p72mmuD39IMb"
      },
      "source": [
        "pd.options.display.max_colwidth = 100\n",
        "pd.options.display.precision = 3"
      ],
      "execution_count": null,
      "outputs": []
    },
    {
      "cell_type": "markdown",
      "metadata": {
        "id": "naIH999P9IMd"
      },
      "source": [
        "Define a utility function to download data files if they are not already present in working directory"
      ]
    },
    {
      "cell_type": "code",
      "metadata": {
        "id": "N8v0EsMy9IMd"
      },
      "source": [
        "import os\n",
        "from urllib.request import urlretrieve\n",
        "def download(file, url):\n",
        "    if not os.path.exists(file):\n",
        "        urlretrieve(url, file)"
      ],
      "execution_count": null,
      "outputs": []
    },
    {
      "cell_type": "markdown",
      "metadata": {
        "id": "ELPuiZa99IMf"
      },
      "source": [
        "## Activity 1: Twitter Opinion Mining\n",
        "\n",
        "**Goal:** evaluate from Twitter how much customers are satisfied of airline companies\n",
        "\n",
        "1. Collect tweets citing airline companies\n",
        "2. Define lists of opinion keywords\n",
        "3. Evaluate sentiment of each tweet\n",
        "4. Summarize sentiment for each airline company\n",
        "5. Extract customer satisfaction for companies from the ACSI website\n",
        "6. Compare scores estimated from Twitter with those extracted from ACSI"
      ]
    },
    {
      "cell_type": "markdown",
      "metadata": {
        "id": "wAkDuqRx9IMf"
      },
      "source": [
        "This is a list of the Twitter accounts of airline companies taken into consideration"
      ]
    },
    {
      "cell_type": "code",
      "metadata": {
        "id": "EZwtwx3F9IMg"
      },
      "source": [
        "airlines = [\n",
        "    \"delta\",\n",
        "    \"americanair\",\n",
        "    \"jetblue\",\n",
        "    \"southwestair\",\n",
        "    \"united\"\n",
        "]"
      ],
      "execution_count": null,
      "outputs": []
    },
    {
      "cell_type": "markdown",
      "metadata": {
        "id": "VeYYAQJN9IMj"
      },
      "source": [
        "### Collect tweets citing airline companies\n",
        "\n",
        "Recent tweets matching a given query can be searched using the Twitter Search API; many libraries exist for Python and other languages providing easy access to the API\n",
        "\n",
        "We see here how to obtain tweets using the `TwitterSearch` package, installable with `pip install TwitterSearch`; a Twitter account with an associated mobile number is needed in order to use the API\n",
        "\n",
        "If you can't or don't want to use your Twitter account and/or install the package, you can use a set of pre-collected tweets we provide"
      ]
    },
    {
      "cell_type": "code",
      "metadata": {
        "colab": {
          "base_uri": "https://localhost:8080/"
        },
        "id": "-OoGLa6FsR9P",
        "outputId": "b825389d-0289-4d58-e910-6ed576cb9756"
      },
      "source": [
        "!pip install TwitterSearch"
      ],
      "execution_count": null,
      "outputs": [
        {
          "output_type": "stream",
          "text": [
            "Collecting TwitterSearch\n",
            "  Downloading https://files.pythonhosted.org/packages/52/77/3731f0d25c97ef1d1e5d034563f9e8ec2445946c1633b3813c22c7f363ee/TwitterSearch-1.0.2.tar.gz\n",
            "Requirement already satisfied: requests>=1.0.0 in /usr/local/lib/python3.7/dist-packages (from TwitterSearch) (2.23.0)\n",
            "Requirement already satisfied: requests-oauthlib>=0.3.0 in /usr/local/lib/python3.7/dist-packages (from TwitterSearch) (1.3.0)\n",
            "Requirement already satisfied: urllib3!=1.25.0,!=1.25.1,<1.26,>=1.21.1 in /usr/local/lib/python3.7/dist-packages (from requests>=1.0.0->TwitterSearch) (1.24.3)\n",
            "Requirement already satisfied: chardet<4,>=3.0.2 in /usr/local/lib/python3.7/dist-packages (from requests>=1.0.0->TwitterSearch) (3.0.4)\n",
            "Requirement already satisfied: certifi>=2017.4.17 in /usr/local/lib/python3.7/dist-packages (from requests>=1.0.0->TwitterSearch) (2020.12.5)\n",
            "Requirement already satisfied: idna<3,>=2.5 in /usr/local/lib/python3.7/dist-packages (from requests>=1.0.0->TwitterSearch) (2.10)\n",
            "Requirement already satisfied: oauthlib>=3.0.0 in /usr/local/lib/python3.7/dist-packages (from requests-oauthlib>=0.3.0->TwitterSearch) (3.1.0)\n",
            "Building wheels for collected packages: TwitterSearch\n",
            "  Building wheel for TwitterSearch (setup.py) ... \u001b[?25l\u001b[?25hdone\n",
            "  Created wheel for TwitterSearch: filename=TwitterSearch-1.0.2-cp37-none-any.whl size=18462 sha256=51f89caf81c16b88df1550e3d1a25d92983ad6830f4c29c3ff0c759cee26654b\n",
            "  Stored in directory: /root/.cache/pip/wheels/4e/98/87/016442cb92cf56a0e262e7d68ad00b3701928e247d04955fdb\n",
            "Successfully built TwitterSearch\n",
            "Installing collected packages: TwitterSearch\n",
            "Successfully installed TwitterSearch-1.0.2\n"
          ],
          "name": "stdout"
        }
      ]
    },
    {
      "cell_type": "markdown",
      "metadata": {
        "id": "HORmDG1V9IMj"
      },
      "source": [
        "#### Creating a Twitter application\n",
        "\n",
        "In order to use Twitter APIs you need API keys: follow these steps to obtain one\n",
        "\n",
        "1. Go to https://developer.twitter.com/en/apps and login with your Twitter account\n",
        "2. Click the \"Create New App\" button, fill the form with short descriptive values (you may use e.g. \"http://example.com\" as the URL) and confirm\n",
        "3. Click on the app you just created and open the \"Key and Access Tokens\" tab\n",
        "4. For better security, ensure to set the Access Level to Read-only\n",
        "5. Click on the \"Create my access token\" button below\n",
        "\n",
        "You will need strings labeled with _Consumer Key_, _Consumer Secret_, _Access Token_ and _Access Token Secret_ shown in the page to use the API"
      ]
    },
    {
      "cell_type": "markdown",
      "metadata": {
        "id": "2tCYLFbaTyZ2"
      },
      "source": [
        "#### Loading keys\n",
        "\n",
        "Load the necessary Twitter security keys from file. \n",
        "\n",
        "*Software Security note*: avoid to leave secret keys hardcoded or write them in shell commands. Prefer keeping them in protected files or using secrets management tools"
      ]
    },
    {
      "cell_type": "code",
      "metadata": {
        "id": "e4T4LzxiT1UX"
      },
      "source": [
        "import json\n",
        "\n",
        "with open('twitter_keys.json') as f:\n",
        "  keys = json.load(f)"
      ],
      "execution_count": null,
      "outputs": []
    },
    {
      "cell_type": "markdown",
      "metadata": {
        "id": "JYBhW_i09IMk"
      },
      "source": [
        "#### Authenticating\n",
        "\n",
        "Import the necessary classes and create a `TwitterSearch` object providing the API codes obtained above"
      ]
    },
    {
      "cell_type": "code",
      "metadata": {
        "id": "o5muh0UR9IMk"
      },
      "source": [
        "from TwitterSearch import TwitterSearch, TwitterSearchOrder\n",
        "\n",
        "ts = TwitterSearch(\n",
        "    consumer_key = keys[\"consumer_key\"],\n",
        "    consumer_secret = keys[\"consumer_secret\"], \n",
        "    access_token = keys[\"access_token\"], \n",
        "    access_token_secret = keys[\"access_token_secret\"] \n",
        ")"
      ],
      "execution_count": null,
      "outputs": []
    },
    {
      "cell_type": "markdown",
      "metadata": {
        "id": "wnKcbMR79IMm"
      },
      "source": [
        "#### Obtaining tweets\n",
        "\n",
        "Create a `TwitterSearchOrder` indicating the tweets to search: we start for example by searching tweets about Delta Air Lines, whose Twitter account is \"@delta\"; by default the search will return up to 100 tweets, the upper limit set by Twitter for each request"
      ]
    },
    {
      "cell_type": "code",
      "metadata": {
        "id": "bfMohlNI9IMn"
      },
      "source": [
        "tso = TwitterSearchOrder()\n",
        "tso.set_keywords([\"@delta\"])\n",
        "tso.set_language(\"en\")\n",
        "tso.set_include_entities(False)\n",
        "tso.set_count(5) # To limit the search to five tweets"
      ],
      "execution_count": null,
      "outputs": []
    },
    {
      "cell_type": "markdown",
      "metadata": {
        "id": "B_MWWTcN9IMo"
      },
      "source": [
        "We can now issue the request to the Twitter API\n",
        "\n",
        "**Warning:** the Twitter API has usage rate limitations, `search_tweets` and other API methods will temporarily stop working if executed many times in few minutes"
      ]
    },
    {
      "cell_type": "code",
      "metadata": {
        "id": "w2GkB71N9IMp",
        "colab": {
          "base_uri": "https://localhost:8080/"
        },
        "outputId": "2a97b356-a4b4-4718-8bc9-23286fa20d0c"
      },
      "source": [
        "tsresp = ts.search_tweets(tso)\n",
        "tsresp # Print the search result retrieved as JSON object"
      ],
      "execution_count": null,
      "outputs": [
        {
          "output_type": "execute_result",
          "data": {
            "text/plain": [
              "{'content': {'search_metadata': {'completed_in': 0.034,\n",
              "   'count': 5,\n",
              "   'max_id': 1400371818314166272,\n",
              "   'max_id_str': '1400371818314166272',\n",
              "   'next_results': '?max_id=1400370246331076609&q=%40delta&lang=en&count=5',\n",
              "   'query': '%40delta',\n",
              "   'refresh_url': '?since_id=1400371818314166272&q=%40delta&lang=en',\n",
              "   'since_id': 0,\n",
              "   'since_id_str': '0'},\n",
              "  'statuses': [{'contributors': None,\n",
              "    'coordinates': None,\n",
              "    'created_at': 'Thu Jun 03 08:40:33 +0000 2021',\n",
              "    'favorite_count': 0,\n",
              "    'favorited': False,\n",
              "    'geo': None,\n",
              "    'id': 1400371818314166272,\n",
              "    'id_str': '1400371818314166272',\n",
              "    'in_reply_to_screen_name': None,\n",
              "    'in_reply_to_status_id': None,\n",
              "    'in_reply_to_status_id_str': None,\n",
              "    'in_reply_to_user_id': None,\n",
              "    'in_reply_to_user_id_str': None,\n",
              "    'is_quote_status': False,\n",
              "    'lang': 'en',\n",
              "    'metadata': {'iso_language_code': 'en', 'result_type': 'recent'},\n",
              "    'place': None,\n",
              "    'retweet_count': 2,\n",
              "    'retweeted': False,\n",
              "    'retweeted_status': {'contributors': None,\n",
              "     'coordinates': None,\n",
              "     'created_at': 'Thu Jun 03 08:40:02 +0000 2021',\n",
              "     'favorite_count': 0,\n",
              "     'favorited': False,\n",
              "     'geo': None,\n",
              "     'id': 1400371689129660416,\n",
              "     'id_str': '1400371689129660416',\n",
              "     'in_reply_to_screen_name': None,\n",
              "     'in_reply_to_status_id': None,\n",
              "     'in_reply_to_status_id_str': None,\n",
              "     'in_reply_to_user_id': None,\n",
              "     'in_reply_to_user_id_str': None,\n",
              "     'is_quote_status': False,\n",
              "     'lang': 'en',\n",
              "     'metadata': {'iso_language_code': 'en', 'result_type': 'recent'},\n",
              "     'place': None,\n",
              "     'possibly_sensitive': False,\n",
              "     'retweet_count': 2,\n",
              "     'retweeted': False,\n",
              "     'source': '<a href=\"https://www.hootsuite.com\" rel=\"nofollow\">Hootsuite Inc.</a>',\n",
              "     'text': 'Great News! Delta Air Lines will elevate the customer experience with enhanced flight attendant technology. Togethe… https://t.co/TxeHfN0jLb',\n",
              "     'truncated': True,\n",
              "     'user': {'contributors_enabled': False,\n",
              "      'created_at': 'Mon Jul 27 07:41:27 +0000 2015',\n",
              "      'default_profile': True,\n",
              "      'default_profile_image': False,\n",
              "      'description': 'Top 100 #5G #B2B #InfluencerMarketing professional doing all things marketing focused on #BrandStrategy #MultichannelEngagement #ecommerce at @gcglobalnet🌐',\n",
              "      'entities': {'description': {'urls': []},\n",
              "       'url': {'urls': [{'display_url': 'linkedin.com/in/lh-jackson',\n",
              "          'expanded_url': 'http://linkedin.com/in/lh-jackson',\n",
              "          'indices': [0, 23],\n",
              "          'url': 'https://t.co/CP5845Bpbu'}]}},\n",
              "      'favourites_count': 6816,\n",
              "      'follow_request_sent': False,\n",
              "      'followers_count': 12360,\n",
              "      'following': False,\n",
              "      'friends_count': 10899,\n",
              "      'geo_enabled': True,\n",
              "      'has_extended_profile': False,\n",
              "      'id': 3297160441,\n",
              "      'id_str': '3297160441',\n",
              "      'is_translation_enabled': False,\n",
              "      'is_translator': False,\n",
              "      'lang': None,\n",
              "      'listed_count': 242,\n",
              "      'location': '',\n",
              "      'name': 'Lisa HockadayJackson📲',\n",
              "      'notifications': False,\n",
              "      'profile_background_color': 'C0DEED',\n",
              "      'profile_background_image_url': 'http://abs.twimg.com/images/themes/theme1/bg.png',\n",
              "      'profile_background_image_url_https': 'https://abs.twimg.com/images/themes/theme1/bg.png',\n",
              "      'profile_background_tile': False,\n",
              "      'profile_banner_url': 'https://pbs.twimg.com/profile_banners/3297160441/1621536844',\n",
              "      'profile_image_url': 'http://pbs.twimg.com/profile_images/1120940746142638080/bPEc-zxe_normal.jpg',\n",
              "      'profile_image_url_https': 'https://pbs.twimg.com/profile_images/1120940746142638080/bPEc-zxe_normal.jpg',\n",
              "      'profile_link_color': '1DA1F2',\n",
              "      'profile_sidebar_border_color': 'C0DEED',\n",
              "      'profile_sidebar_fill_color': 'DDEEF6',\n",
              "      'profile_text_color': '333333',\n",
              "      'profile_use_background_image': True,\n",
              "      'protected': False,\n",
              "      'screen_name': 'LisaH_Jackson',\n",
              "      'statuses_count': 26183,\n",
              "      'time_zone': None,\n",
              "      'translator_type': 'none',\n",
              "      'url': 'https://t.co/CP5845Bpbu',\n",
              "      'utc_offset': None,\n",
              "      'verified': False,\n",
              "      'withheld_in_countries': []}},\n",
              "    'source': '<a href=\"https://dlvrit.com/\" rel=\"nofollow\">dlvr.it</a>',\n",
              "    'text': 'RT @LisaH_Jackson: Great News! Delta Air Lines will elevate the customer experience with enhanced flight attendant technology. Together wit…',\n",
              "    'truncated': False,\n",
              "    'user': {'contributors_enabled': False,\n",
              "     'created_at': 'Sat May 23 15:48:01 +0000 2009',\n",
              "     'default_profile': False,\n",
              "     'default_profile_image': False,\n",
              "     'description': 'GovCloud Network provides consulting, education and digital publishing services globally.',\n",
              "     'entities': {'description': {'urls': []},\n",
              "      'url': {'urls': [{'display_url': 'govcloudnetwork.com',\n",
              "         'expanded_url': 'http://govcloudnetwork.com',\n",
              "         'indices': [0, 22],\n",
              "         'url': 'http://t.co/mxPu60XN6t'}]}},\n",
              "     'favourites_count': 963,\n",
              "     'follow_request_sent': False,\n",
              "     'followers_count': 26363,\n",
              "     'following': False,\n",
              "     'friends_count': 5314,\n",
              "     'geo_enabled': True,\n",
              "     'has_extended_profile': False,\n",
              "     'id': 42046909,\n",
              "     'id_str': '42046909',\n",
              "     'is_translation_enabled': False,\n",
              "     'is_translator': False,\n",
              "     'lang': None,\n",
              "     'listed_count': 453,\n",
              "     'location': 'Washington, DC',\n",
              "     'name': 'GovCloud Network',\n",
              "     'notifications': False,\n",
              "     'profile_background_color': 'C0DEED',\n",
              "     'profile_background_image_url': 'http://abs.twimg.com/images/themes/theme2/bg.gif',\n",
              "     'profile_background_image_url_https': 'https://abs.twimg.com/images/themes/theme2/bg.gif',\n",
              "     'profile_background_tile': False,\n",
              "     'profile_banner_url': 'https://pbs.twimg.com/profile_banners/42046909/1403753356',\n",
              "     'profile_image_url': 'http://pbs.twimg.com/profile_images/482002683906113536/eKUr0Jsi_normal.png',\n",
              "     'profile_image_url_https': 'https://pbs.twimg.com/profile_images/482002683906113536/eKUr0Jsi_normal.png',\n",
              "     'profile_link_color': '1F98C7',\n",
              "     'profile_sidebar_border_color': 'C6E2EE',\n",
              "     'profile_sidebar_fill_color': 'DAECF4',\n",
              "     'profile_text_color': '663B12',\n",
              "     'profile_use_background_image': True,\n",
              "     'protected': False,\n",
              "     'screen_name': 'GovCloud',\n",
              "     'statuses_count': 86949,\n",
              "     'time_zone': None,\n",
              "     'translator_type': 'none',\n",
              "     'url': 'http://t.co/mxPu60XN6t',\n",
              "     'utc_offset': None,\n",
              "     'verified': False,\n",
              "     'withheld_in_countries': []}},\n",
              "   {'contributors': None,\n",
              "    'coordinates': None,\n",
              "    'created_at': 'Thu Jun 03 08:40:33 +0000 2021',\n",
              "    'favorite_count': 0,\n",
              "    'favorited': False,\n",
              "    'geo': None,\n",
              "    'id': 1400371817655590912,\n",
              "    'id_str': '1400371817655590912',\n",
              "    'in_reply_to_screen_name': None,\n",
              "    'in_reply_to_status_id': None,\n",
              "    'in_reply_to_status_id_str': None,\n",
              "    'in_reply_to_user_id': None,\n",
              "    'in_reply_to_user_id_str': None,\n",
              "    'is_quote_status': False,\n",
              "    'lang': 'en',\n",
              "    'metadata': {'iso_language_code': 'en', 'result_type': 'recent'},\n",
              "    'place': None,\n",
              "    'retweet_count': 2,\n",
              "    'retweeted': False,\n",
              "    'retweeted_status': {'contributors': None,\n",
              "     'coordinates': None,\n",
              "     'created_at': 'Thu Jun 03 08:40:02 +0000 2021',\n",
              "     'favorite_count': 0,\n",
              "     'favorited': False,\n",
              "     'geo': None,\n",
              "     'id': 1400371689129660416,\n",
              "     'id_str': '1400371689129660416',\n",
              "     'in_reply_to_screen_name': None,\n",
              "     'in_reply_to_status_id': None,\n",
              "     'in_reply_to_status_id_str': None,\n",
              "     'in_reply_to_user_id': None,\n",
              "     'in_reply_to_user_id_str': None,\n",
              "     'is_quote_status': False,\n",
              "     'lang': 'en',\n",
              "     'metadata': {'iso_language_code': 'en', 'result_type': 'recent'},\n",
              "     'place': None,\n",
              "     'possibly_sensitive': False,\n",
              "     'retweet_count': 2,\n",
              "     'retweeted': False,\n",
              "     'source': '<a href=\"https://www.hootsuite.com\" rel=\"nofollow\">Hootsuite Inc.</a>',\n",
              "     'text': 'Great News! Delta Air Lines will elevate the customer experience with enhanced flight attendant technology. Togethe… https://t.co/TxeHfN0jLb',\n",
              "     'truncated': True,\n",
              "     'user': {'contributors_enabled': False,\n",
              "      'created_at': 'Mon Jul 27 07:41:27 +0000 2015',\n",
              "      'default_profile': True,\n",
              "      'default_profile_image': False,\n",
              "      'description': 'Top 100 #5G #B2B #InfluencerMarketing professional doing all things marketing focused on #BrandStrategy #MultichannelEngagement #ecommerce at @gcglobalnet🌐',\n",
              "      'entities': {'description': {'urls': []},\n",
              "       'url': {'urls': [{'display_url': 'linkedin.com/in/lh-jackson',\n",
              "          'expanded_url': 'http://linkedin.com/in/lh-jackson',\n",
              "          'indices': [0, 23],\n",
              "          'url': 'https://t.co/CP5845Bpbu'}]}},\n",
              "      'favourites_count': 6816,\n",
              "      'follow_request_sent': False,\n",
              "      'followers_count': 12360,\n",
              "      'following': False,\n",
              "      'friends_count': 10899,\n",
              "      'geo_enabled': True,\n",
              "      'has_extended_profile': False,\n",
              "      'id': 3297160441,\n",
              "      'id_str': '3297160441',\n",
              "      'is_translation_enabled': False,\n",
              "      'is_translator': False,\n",
              "      'lang': None,\n",
              "      'listed_count': 242,\n",
              "      'location': '',\n",
              "      'name': 'Lisa HockadayJackson📲',\n",
              "      'notifications': False,\n",
              "      'profile_background_color': 'C0DEED',\n",
              "      'profile_background_image_url': 'http://abs.twimg.com/images/themes/theme1/bg.png',\n",
              "      'profile_background_image_url_https': 'https://abs.twimg.com/images/themes/theme1/bg.png',\n",
              "      'profile_background_tile': False,\n",
              "      'profile_banner_url': 'https://pbs.twimg.com/profile_banners/3297160441/1621536844',\n",
              "      'profile_image_url': 'http://pbs.twimg.com/profile_images/1120940746142638080/bPEc-zxe_normal.jpg',\n",
              "      'profile_image_url_https': 'https://pbs.twimg.com/profile_images/1120940746142638080/bPEc-zxe_normal.jpg',\n",
              "      'profile_link_color': '1DA1F2',\n",
              "      'profile_sidebar_border_color': 'C0DEED',\n",
              "      'profile_sidebar_fill_color': 'DDEEF6',\n",
              "      'profile_text_color': '333333',\n",
              "      'profile_use_background_image': True,\n",
              "      'protected': False,\n",
              "      'screen_name': 'LisaH_Jackson',\n",
              "      'statuses_count': 26183,\n",
              "      'time_zone': None,\n",
              "      'translator_type': 'none',\n",
              "      'url': 'https://t.co/CP5845Bpbu',\n",
              "      'utc_offset': None,\n",
              "      'verified': False,\n",
              "      'withheld_in_countries': []}},\n",
              "    'source': '<a href=\"https://dlvrit.com/\" rel=\"nofollow\">dlvr.it</a>',\n",
              "    'text': 'RT @LisaH_Jackson: Great News! Delta Air Lines will elevate the customer experience with enhanced flight attendant technology. Together wit…',\n",
              "    'truncated': False,\n",
              "    'user': {'contributors_enabled': False,\n",
              "     'created_at': 'Fri Dec 05 15:42:24 +0000 2008',\n",
              "     'default_profile': False,\n",
              "     'default_profile_image': False,\n",
              "     'description': 'A globally recognized business advisor and technologist. https://t.co/EG05gasbQm https://t.co/Zt838cY5Dd https://t.co/X2fhbNhEoo https://t.co/AzBNl4VkFA',\n",
              "     'entities': {'description': {'urls': [{'display_url': 'SourceConnecte.com',\n",
              "         'expanded_url': 'http://SourceConnecte.com',\n",
              "         'indices': [57, 80],\n",
              "         'url': 'https://t.co/EG05gasbQm'},\n",
              "        {'display_url': 'GCGlobalNet.com',\n",
              "         'expanded_url': 'http://GCGlobalNet.com',\n",
              "         'indices': [81, 104],\n",
              "         'url': 'https://t.co/Zt838cY5Dd'},\n",
              "        {'display_url': 'SupplyChainNow.com',\n",
              "         'expanded_url': 'https://SupplyChainNow.com',\n",
              "         'indices': [105, 128],\n",
              "         'url': 'https://t.co/X2fhbNhEoo'},\n",
              "        {'display_url': 'tnscorp.io',\n",
              "         'expanded_url': 'https://tnscorp.io',\n",
              "         'indices': [129, 152],\n",
              "         'url': 'https://t.co/AzBNl4VkFA'}]},\n",
              "      'url': {'urls': [{'display_url': 'linkedin.com/in/kjackson/',\n",
              "         'expanded_url': 'https://www.linkedin.com/in/kjackson/',\n",
              "         'indices': [0, 23],\n",
              "         'url': 'https://t.co/7ADpTlCgq8'}]}},\n",
              "     'favourites_count': 17973,\n",
              "     'follow_request_sent': False,\n",
              "     'followers_count': 70672,\n",
              "     'following': False,\n",
              "     'friends_count': 32740,\n",
              "     'geo_enabled': True,\n",
              "     'has_extended_profile': False,\n",
              "     'id': 17899712,\n",
              "     'id_str': '17899712',\n",
              "     'is_translation_enabled': False,\n",
              "     'is_translator': False,\n",
              "     'lang': None,\n",
              "     'listed_count': 1357,\n",
              "     'location': 'Virginia, USA',\n",
              "     'name': 'Kevin L. Jackson',\n",
              "     'notifications': False,\n",
              "     'profile_background_color': '59BEE4',\n",
              "     'profile_background_image_url': 'http://abs.twimg.com/images/themes/theme1/bg.png',\n",
              "     'profile_background_image_url_https': 'https://abs.twimg.com/images/themes/theme1/bg.png',\n",
              "     'profile_background_tile': False,\n",
              "     'profile_banner_url': 'https://pbs.twimg.com/profile_banners/17899712/1622386583',\n",
              "     'profile_image_url': 'http://pbs.twimg.com/profile_images/1375250347447488513/PiCLtS3j_normal.jpg',\n",
              "     'profile_image_url_https': 'https://pbs.twimg.com/profile_images/1375250347447488513/PiCLtS3j_normal.jpg',\n",
              "     'profile_link_color': '86BDD2',\n",
              "     'profile_sidebar_border_color': '4BB7DF',\n",
              "     'profile_sidebar_fill_color': '191F22',\n",
              "     'profile_text_color': '4BB7DF',\n",
              "     'profile_use_background_image': True,\n",
              "     'protected': False,\n",
              "     'screen_name': 'Kevin_Jackson',\n",
              "     'statuses_count': 144644,\n",
              "     'time_zone': None,\n",
              "     'translator_type': 'none',\n",
              "     'url': 'https://t.co/7ADpTlCgq8',\n",
              "     'utc_offset': None,\n",
              "     'verified': True,\n",
              "     'withheld_in_countries': []}},\n",
              "   {'contributors': None,\n",
              "    'coordinates': None,\n",
              "    'created_at': 'Thu Jun 03 08:40:02 +0000 2021',\n",
              "    'favorite_count': 0,\n",
              "    'favorited': False,\n",
              "    'geo': None,\n",
              "    'id': 1400371689129660416,\n",
              "    'id_str': '1400371689129660416',\n",
              "    'in_reply_to_screen_name': None,\n",
              "    'in_reply_to_status_id': None,\n",
              "    'in_reply_to_status_id_str': None,\n",
              "    'in_reply_to_user_id': None,\n",
              "    'in_reply_to_user_id_str': None,\n",
              "    'is_quote_status': False,\n",
              "    'lang': 'en',\n",
              "    'metadata': {'iso_language_code': 'en', 'result_type': 'recent'},\n",
              "    'place': None,\n",
              "    'possibly_sensitive': False,\n",
              "    'retweet_count': 2,\n",
              "    'retweeted': False,\n",
              "    'source': '<a href=\"https://www.hootsuite.com\" rel=\"nofollow\">Hootsuite Inc.</a>',\n",
              "    'text': 'Great News! Delta Air Lines will elevate the customer experience with enhanced flight attendant technology. Togethe… https://t.co/TxeHfN0jLb',\n",
              "    'truncated': True,\n",
              "    'user': {'contributors_enabled': False,\n",
              "     'created_at': 'Mon Jul 27 07:41:27 +0000 2015',\n",
              "     'default_profile': True,\n",
              "     'default_profile_image': False,\n",
              "     'description': 'Top 100 #5G #B2B #InfluencerMarketing professional doing all things marketing focused on #BrandStrategy #MultichannelEngagement #ecommerce at @gcglobalnet🌐',\n",
              "     'entities': {'description': {'urls': []},\n",
              "      'url': {'urls': [{'display_url': 'linkedin.com/in/lh-jackson',\n",
              "         'expanded_url': 'http://linkedin.com/in/lh-jackson',\n",
              "         'indices': [0, 23],\n",
              "         'url': 'https://t.co/CP5845Bpbu'}]}},\n",
              "     'favourites_count': 6816,\n",
              "     'follow_request_sent': False,\n",
              "     'followers_count': 12360,\n",
              "     'following': False,\n",
              "     'friends_count': 10899,\n",
              "     'geo_enabled': True,\n",
              "     'has_extended_profile': False,\n",
              "     'id': 3297160441,\n",
              "     'id_str': '3297160441',\n",
              "     'is_translation_enabled': False,\n",
              "     'is_translator': False,\n",
              "     'lang': None,\n",
              "     'listed_count': 242,\n",
              "     'location': '',\n",
              "     'name': 'Lisa HockadayJackson📲',\n",
              "     'notifications': False,\n",
              "     'profile_background_color': 'C0DEED',\n",
              "     'profile_background_image_url': 'http://abs.twimg.com/images/themes/theme1/bg.png',\n",
              "     'profile_background_image_url_https': 'https://abs.twimg.com/images/themes/theme1/bg.png',\n",
              "     'profile_background_tile': False,\n",
              "     'profile_banner_url': 'https://pbs.twimg.com/profile_banners/3297160441/1621536844',\n",
              "     'profile_image_url': 'http://pbs.twimg.com/profile_images/1120940746142638080/bPEc-zxe_normal.jpg',\n",
              "     'profile_image_url_https': 'https://pbs.twimg.com/profile_images/1120940746142638080/bPEc-zxe_normal.jpg',\n",
              "     'profile_link_color': '1DA1F2',\n",
              "     'profile_sidebar_border_color': 'C0DEED',\n",
              "     'profile_sidebar_fill_color': 'DDEEF6',\n",
              "     'profile_text_color': '333333',\n",
              "     'profile_use_background_image': True,\n",
              "     'protected': False,\n",
              "     'screen_name': 'LisaH_Jackson',\n",
              "     'statuses_count': 26183,\n",
              "     'time_zone': None,\n",
              "     'translator_type': 'none',\n",
              "     'url': 'https://t.co/CP5845Bpbu',\n",
              "     'utc_offset': None,\n",
              "     'verified': False,\n",
              "     'withheld_in_countries': []}},\n",
              "   {'contributors': None,\n",
              "    'coordinates': None,\n",
              "    'created_at': 'Thu Jun 03 08:34:44 +0000 2021',\n",
              "    'favorite_count': 0,\n",
              "    'favorited': False,\n",
              "    'geo': None,\n",
              "    'id': 1400370354825142272,\n",
              "    'id_str': '1400370354825142272',\n",
              "    'in_reply_to_screen_name': None,\n",
              "    'in_reply_to_status_id': None,\n",
              "    'in_reply_to_status_id_str': None,\n",
              "    'in_reply_to_user_id': None,\n",
              "    'in_reply_to_user_id_str': None,\n",
              "    'is_quote_status': False,\n",
              "    'lang': 'en',\n",
              "    'metadata': {'iso_language_code': 'en', 'result_type': 'recent'},\n",
              "    'place': None,\n",
              "    'retweet_count': 353,\n",
              "    'retweeted': False,\n",
              "    'retweeted_status': {'contributors': None,\n",
              "     'coordinates': None,\n",
              "     'created_at': 'Wed Jun 02 22:55:15 +0000 2021',\n",
              "     'favorite_count': 8394,\n",
              "     'favorited': False,\n",
              "     'geo': None,\n",
              "     'id': 1400224521974595584,\n",
              "     'id_str': '1400224521974595584',\n",
              "     'in_reply_to_screen_name': None,\n",
              "     'in_reply_to_status_id': None,\n",
              "     'in_reply_to_status_id_str': None,\n",
              "     'in_reply_to_user_id': None,\n",
              "     'in_reply_to_user_id_str': None,\n",
              "     'is_quote_status': False,\n",
              "     'lang': 'en',\n",
              "     'metadata': {'iso_language_code': 'en', 'result_type': 'recent'},\n",
              "     'place': None,\n",
              "     'retweet_count': 353,\n",
              "     'retweeted': False,\n",
              "     'source': '<a href=\"http://twitter.com/download/iphone\" rel=\"nofollow\">Twitter for iPhone</a>',\n",
              "     'text': 'Our @Delta pilot just announced this was his last flight with the company, thanked his wife and mother seated a few… https://t.co/qoR4vxGjp9',\n",
              "     'truncated': True,\n",
              "     'user': {'contributors_enabled': False,\n",
              "      'created_at': 'Tue Apr 21 17:30:15 +0000 2009',\n",
              "      'default_profile': False,\n",
              "      'default_profile_image': False,\n",
              "      'description': \"Husband. Father. Son. Brother. Believer. Journalist @todayshow @msnbc. Live in CT. Lived in DC but I'm a born & bred South Carolinian.  Pre-order my book ‘POPS’\",\n",
              "      'entities': {'description': {'urls': []},\n",
              "       'url': {'urls': [{'display_url': 'hc.com/pops',\n",
              "          'expanded_url': 'http://www.hc.com/pops',\n",
              "          'indices': [0, 23],\n",
              "          'url': 'https://t.co/7W8Je9RReL'}]}},\n",
              "      'favourites_count': 10331,\n",
              "      'follow_request_sent': False,\n",
              "      'followers_count': 139047,\n",
              "      'following': False,\n",
              "      'friends_count': 2447,\n",
              "      'geo_enabled': True,\n",
              "      'has_extended_profile': True,\n",
              "      'id': 33972882,\n",
              "      'id_str': '33972882',\n",
              "      'is_translation_enabled': False,\n",
              "      'is_translator': False,\n",
              "      'lang': None,\n",
              "      'listed_count': 963,\n",
              "      'location': 'Northeast USA',\n",
              "      'name': 'Craig Melvin',\n",
              "      'notifications': False,\n",
              "      'profile_background_color': 'FFFFFF',\n",
              "      'profile_background_image_url': 'http://abs.twimg.com/images/themes/theme1/bg.png',\n",
              "      'profile_background_image_url_https': 'https://abs.twimg.com/images/themes/theme1/bg.png',\n",
              "      'profile_background_tile': False,\n",
              "      'profile_banner_url': 'https://pbs.twimg.com/profile_banners/33972882/1472209123',\n",
              "      'profile_image_url': 'http://pbs.twimg.com/profile_images/775126662447042560/AL8q-79S_normal.jpg',\n",
              "      'profile_image_url_https': 'https://pbs.twimg.com/profile_images/775126662447042560/AL8q-79S_normal.jpg',\n",
              "      'profile_link_color': '0084B4',\n",
              "      'profile_sidebar_border_color': 'FFFFFF',\n",
              "      'profile_sidebar_fill_color': 'FFFFFF',\n",
              "      'profile_text_color': '333333',\n",
              "      'profile_use_background_image': True,\n",
              "      'protected': False,\n",
              "      'screen_name': 'craigmelvin',\n",
              "      'statuses_count': 8805,\n",
              "      'time_zone': None,\n",
              "      'translator_type': 'none',\n",
              "      'url': 'https://t.co/7W8Je9RReL',\n",
              "      'utc_offset': None,\n",
              "      'verified': True,\n",
              "      'withheld_in_countries': []}},\n",
              "    'source': '<a href=\"http://twitter.com/download/android\" rel=\"nofollow\">Twitter for Android</a>',\n",
              "    'text': 'RT @craigmelvin: Our @Delta pilot just announced this was his last flight with the company, thanked his wife and mother seated a few rows b…',\n",
              "    'truncated': False,\n",
              "    'user': {'contributors_enabled': False,\n",
              "     'created_at': 'Mon Oct 11 14:25:39 +0000 2010',\n",
              "     'default_profile': False,\n",
              "     'default_profile_image': False,\n",
              "     'description': '',\n",
              "     'entities': {'description': {'urls': []}},\n",
              "     'favourites_count': 48634,\n",
              "     'follow_request_sent': False,\n",
              "     'followers_count': 186,\n",
              "     'following': False,\n",
              "     'friends_count': 1635,\n",
              "     'geo_enabled': True,\n",
              "     'has_extended_profile': False,\n",
              "     'id': 201284208,\n",
              "     'id_str': '201284208',\n",
              "     'is_translation_enabled': False,\n",
              "     'is_translator': False,\n",
              "     'lang': None,\n",
              "     'listed_count': 2,\n",
              "     'location': '',\n",
              "     'name': 'Defience',\n",
              "     'notifications': False,\n",
              "     'profile_background_color': 'B2DFDA',\n",
              "     'profile_background_image_url': 'http://abs.twimg.com/images/themes/theme13/bg.gif',\n",
              "     'profile_background_image_url_https': 'https://abs.twimg.com/images/themes/theme13/bg.gif',\n",
              "     'profile_background_tile': False,\n",
              "     'profile_image_url': 'http://pbs.twimg.com/profile_images/1389726569854296071/QFN7UC81_normal.jpg',\n",
              "     'profile_image_url_https': 'https://pbs.twimg.com/profile_images/1389726569854296071/QFN7UC81_normal.jpg',\n",
              "     'profile_link_color': '93A644',\n",
              "     'profile_sidebar_border_color': 'EEEEEE',\n",
              "     'profile_sidebar_fill_color': 'FFFFFF',\n",
              "     'profile_text_color': '333333',\n",
              "     'profile_use_background_image': True,\n",
              "     'protected': False,\n",
              "     'screen_name': 'Glade16',\n",
              "     'statuses_count': 69819,\n",
              "     'time_zone': None,\n",
              "     'translator_type': 'none',\n",
              "     'url': None,\n",
              "     'utc_offset': None,\n",
              "     'verified': False,\n",
              "     'withheld_in_countries': []}},\n",
              "   {'contributors': None,\n",
              "    'coordinates': None,\n",
              "    'created_at': 'Thu Jun 03 08:34:19 +0000 2021',\n",
              "    'favorite_count': 0,\n",
              "    'favorited': False,\n",
              "    'geo': None,\n",
              "    'id': 1400370246331076610,\n",
              "    'id_str': '1400370246331076610',\n",
              "    'in_reply_to_screen_name': None,\n",
              "    'in_reply_to_status_id': None,\n",
              "    'in_reply_to_status_id_str': None,\n",
              "    'in_reply_to_user_id': None,\n",
              "    'in_reply_to_user_id_str': None,\n",
              "    'is_quote_status': False,\n",
              "    'lang': 'en',\n",
              "    'metadata': {'iso_language_code': 'en', 'result_type': 'recent'},\n",
              "    'place': None,\n",
              "    'retweet_count': 353,\n",
              "    'retweeted': False,\n",
              "    'retweeted_status': {'contributors': None,\n",
              "     'coordinates': None,\n",
              "     'created_at': 'Wed Jun 02 22:55:15 +0000 2021',\n",
              "     'favorite_count': 8394,\n",
              "     'favorited': False,\n",
              "     'geo': None,\n",
              "     'id': 1400224521974595584,\n",
              "     'id_str': '1400224521974595584',\n",
              "     'in_reply_to_screen_name': None,\n",
              "     'in_reply_to_status_id': None,\n",
              "     'in_reply_to_status_id_str': None,\n",
              "     'in_reply_to_user_id': None,\n",
              "     'in_reply_to_user_id_str': None,\n",
              "     'is_quote_status': False,\n",
              "     'lang': 'en',\n",
              "     'metadata': {'iso_language_code': 'en', 'result_type': 'recent'},\n",
              "     'place': None,\n",
              "     'retweet_count': 353,\n",
              "     'retweeted': False,\n",
              "     'source': '<a href=\"http://twitter.com/download/iphone\" rel=\"nofollow\">Twitter for iPhone</a>',\n",
              "     'text': 'Our @Delta pilot just announced this was his last flight with the company, thanked his wife and mother seated a few… https://t.co/qoR4vxGjp9',\n",
              "     'truncated': True,\n",
              "     'user': {'contributors_enabled': False,\n",
              "      'created_at': 'Tue Apr 21 17:30:15 +0000 2009',\n",
              "      'default_profile': False,\n",
              "      'default_profile_image': False,\n",
              "      'description': \"Husband. Father. Son. Brother. Believer. Journalist @todayshow @msnbc. Live in CT. Lived in DC but I'm a born & bred South Carolinian.  Pre-order my book ‘POPS’\",\n",
              "      'entities': {'description': {'urls': []},\n",
              "       'url': {'urls': [{'display_url': 'hc.com/pops',\n",
              "          'expanded_url': 'http://www.hc.com/pops',\n",
              "          'indices': [0, 23],\n",
              "          'url': 'https://t.co/7W8Je9RReL'}]}},\n",
              "      'favourites_count': 10331,\n",
              "      'follow_request_sent': False,\n",
              "      'followers_count': 139047,\n",
              "      'following': False,\n",
              "      'friends_count': 2447,\n",
              "      'geo_enabled': True,\n",
              "      'has_extended_profile': True,\n",
              "      'id': 33972882,\n",
              "      'id_str': '33972882',\n",
              "      'is_translation_enabled': False,\n",
              "      'is_translator': False,\n",
              "      'lang': None,\n",
              "      'listed_count': 963,\n",
              "      'location': 'Northeast USA',\n",
              "      'name': 'Craig Melvin',\n",
              "      'notifications': False,\n",
              "      'profile_background_color': 'FFFFFF',\n",
              "      'profile_background_image_url': 'http://abs.twimg.com/images/themes/theme1/bg.png',\n",
              "      'profile_background_image_url_https': 'https://abs.twimg.com/images/themes/theme1/bg.png',\n",
              "      'profile_background_tile': False,\n",
              "      'profile_banner_url': 'https://pbs.twimg.com/profile_banners/33972882/1472209123',\n",
              "      'profile_image_url': 'http://pbs.twimg.com/profile_images/775126662447042560/AL8q-79S_normal.jpg',\n",
              "      'profile_image_url_https': 'https://pbs.twimg.com/profile_images/775126662447042560/AL8q-79S_normal.jpg',\n",
              "      'profile_link_color': '0084B4',\n",
              "      'profile_sidebar_border_color': 'FFFFFF',\n",
              "      'profile_sidebar_fill_color': 'FFFFFF',\n",
              "      'profile_text_color': '333333',\n",
              "      'profile_use_background_image': True,\n",
              "      'protected': False,\n",
              "      'screen_name': 'craigmelvin',\n",
              "      'statuses_count': 8805,\n",
              "      'time_zone': None,\n",
              "      'translator_type': 'none',\n",
              "      'url': 'https://t.co/7W8Je9RReL',\n",
              "      'utc_offset': None,\n",
              "      'verified': True,\n",
              "      'withheld_in_countries': []}},\n",
              "    'source': '<a href=\"http://twitter.com/download/android\" rel=\"nofollow\">Twitter for Android</a>',\n",
              "    'text': 'RT @craigmelvin: Our @Delta pilot just announced this was his last flight with the company, thanked his wife and mother seated a few rows b…',\n",
              "    'truncated': False,\n",
              "    'user': {'contributors_enabled': False,\n",
              "     'created_at': 'Fri Sep 14 13:21:22 +0000 2018',\n",
              "     'default_profile': True,\n",
              "     'default_profile_image': True,\n",
              "     'description': '',\n",
              "     'entities': {'description': {'urls': []}},\n",
              "     'favourites_count': 180901,\n",
              "     'follow_request_sent': False,\n",
              "     'followers_count': 678,\n",
              "     'following': False,\n",
              "     'friends_count': 574,\n",
              "     'geo_enabled': True,\n",
              "     'has_extended_profile': False,\n",
              "     'id': 1040591335005278209,\n",
              "     'id_str': '1040591335005278209',\n",
              "     'is_translation_enabled': False,\n",
              "     'is_translator': False,\n",
              "     'lang': None,\n",
              "     'listed_count': 1,\n",
              "     'location': '',\n",
              "     'name': 'Kate',\n",
              "     'notifications': False,\n",
              "     'profile_background_color': 'F5F8FA',\n",
              "     'profile_background_image_url': None,\n",
              "     'profile_background_image_url_https': None,\n",
              "     'profile_background_tile': False,\n",
              "     'profile_image_url': 'http://abs.twimg.com/sticky/default_profile_images/default_profile_normal.png',\n",
              "     'profile_image_url_https': 'https://abs.twimg.com/sticky/default_profile_images/default_profile_normal.png',\n",
              "     'profile_link_color': '1DA1F2',\n",
              "     'profile_sidebar_border_color': 'C0DEED',\n",
              "     'profile_sidebar_fill_color': 'DDEEF6',\n",
              "     'profile_text_color': '333333',\n",
              "     'profile_use_background_image': True,\n",
              "     'protected': False,\n",
              "     'screen_name': 'Kate97417476',\n",
              "     'statuses_count': 186233,\n",
              "     'time_zone': None,\n",
              "     'translator_type': 'none',\n",
              "     'url': None,\n",
              "     'utc_offset': None,\n",
              "     'verified': False,\n",
              "     'withheld_in_countries': []}}]},\n",
              " 'meta': {'date': 'Thu, 03 Jun 2021 08:41:26 GMT', 'pragma': 'no-cache', 'server': 'tsa_b', 'status': '200 OK', 'expires': 'Tue, 31 Mar 1981 05:00:00 GMT', 'set-cookie': 'personalization_id=\"v1_FkdFcHOqZvM8IXxKhpcGsw==\"; Max-Age=63072000; Expires=Sat, 03 Jun 2023 08:41:26 GMT; Path=/; Domain=.twitter.com; Secure; SameSite=None, guest_id=v1%3A162270968677466771; Max-Age=63072000; Expires=Sat, 03 Jun 2023 08:41:26 GMT; Path=/; Domain=.twitter.com; Secure; SameSite=None', 'content-type': 'application/json;charset=utf-8', 'cache-control': 'no-cache, no-store, must-revalidate, pre-check=0, post-check=0', 'last-modified': 'Thu, 03 Jun 2021 08:41:26 GMT', 'x-transaction': 'c80c7629cc93f653', 'content-length': '3081', 'x-access-level': 'read', 'x-frame-options': 'SAMEORIGIN', 'content-encoding': 'gzip', 'x-xss-protection': '0', 'x-rate-limit-limit': '180', 'x-rate-limit-reset': '1622709713', 'content-disposition': 'attachment; filename=json.json', 'x-content-type-options': 'nosniff', 'x-rate-limit-remaining': '167', 'x-twitter-response-tags': 'BouncerCompliant', 'strict-transport-security': 'max-age=631138519', 'x-connection-hash': 'abf51bbb0b32c8a365a8856e87e2a293e01c22945b21f52a3d1aace70f5a2161'}}"
            ]
          },
          "metadata": {
            "tags": []
          },
          "execution_count": 10
        }
      ]
    },
    {
      "cell_type": "markdown",
      "metadata": {
        "id": "sDdUPf659IMq"
      },
      "source": [
        "We obtain an object with detailed information about the request and the response by Twitter, to obtain the list of tweets:"
      ]
    },
    {
      "cell_type": "code",
      "metadata": {
        "id": "AWwj7bEy9IMr",
        "colab": {
          "base_uri": "https://localhost:8080/"
        },
        "outputId": "698b328c-0dac-49b9-e426-671757988948"
      },
      "source": [
        "delta_tweets = tsresp[\"content\"][\"statuses\"]\n",
        "delta_tweets[0] # First tweet data"
      ],
      "execution_count": null,
      "outputs": [
        {
          "output_type": "execute_result",
          "data": {
            "text/plain": [
              "{'contributors': None,\n",
              " 'coordinates': None,\n",
              " 'created_at': 'Thu Jun 03 08:40:33 +0000 2021',\n",
              " 'favorite_count': 0,\n",
              " 'favorited': False,\n",
              " 'geo': None,\n",
              " 'id': 1400371818314166272,\n",
              " 'id_str': '1400371818314166272',\n",
              " 'in_reply_to_screen_name': None,\n",
              " 'in_reply_to_status_id': None,\n",
              " 'in_reply_to_status_id_str': None,\n",
              " 'in_reply_to_user_id': None,\n",
              " 'in_reply_to_user_id_str': None,\n",
              " 'is_quote_status': False,\n",
              " 'lang': 'en',\n",
              " 'metadata': {'iso_language_code': 'en', 'result_type': 'recent'},\n",
              " 'place': None,\n",
              " 'retweet_count': 2,\n",
              " 'retweeted': False,\n",
              " 'retweeted_status': {'contributors': None,\n",
              "  'coordinates': None,\n",
              "  'created_at': 'Thu Jun 03 08:40:02 +0000 2021',\n",
              "  'favorite_count': 0,\n",
              "  'favorited': False,\n",
              "  'geo': None,\n",
              "  'id': 1400371689129660416,\n",
              "  'id_str': '1400371689129660416',\n",
              "  'in_reply_to_screen_name': None,\n",
              "  'in_reply_to_status_id': None,\n",
              "  'in_reply_to_status_id_str': None,\n",
              "  'in_reply_to_user_id': None,\n",
              "  'in_reply_to_user_id_str': None,\n",
              "  'is_quote_status': False,\n",
              "  'lang': 'en',\n",
              "  'metadata': {'iso_language_code': 'en', 'result_type': 'recent'},\n",
              "  'place': None,\n",
              "  'possibly_sensitive': False,\n",
              "  'retweet_count': 2,\n",
              "  'retweeted': False,\n",
              "  'source': '<a href=\"https://www.hootsuite.com\" rel=\"nofollow\">Hootsuite Inc.</a>',\n",
              "  'text': 'Great News! Delta Air Lines will elevate the customer experience with enhanced flight attendant technology. Togethe… https://t.co/TxeHfN0jLb',\n",
              "  'truncated': True,\n",
              "  'user': {'contributors_enabled': False,\n",
              "   'created_at': 'Mon Jul 27 07:41:27 +0000 2015',\n",
              "   'default_profile': True,\n",
              "   'default_profile_image': False,\n",
              "   'description': 'Top 100 #5G #B2B #InfluencerMarketing professional doing all things marketing focused on #BrandStrategy #MultichannelEngagement #ecommerce at @gcglobalnet🌐',\n",
              "   'entities': {'description': {'urls': []},\n",
              "    'url': {'urls': [{'display_url': 'linkedin.com/in/lh-jackson',\n",
              "       'expanded_url': 'http://linkedin.com/in/lh-jackson',\n",
              "       'indices': [0, 23],\n",
              "       'url': 'https://t.co/CP5845Bpbu'}]}},\n",
              "   'favourites_count': 6816,\n",
              "   'follow_request_sent': False,\n",
              "   'followers_count': 12360,\n",
              "   'following': False,\n",
              "   'friends_count': 10899,\n",
              "   'geo_enabled': True,\n",
              "   'has_extended_profile': False,\n",
              "   'id': 3297160441,\n",
              "   'id_str': '3297160441',\n",
              "   'is_translation_enabled': False,\n",
              "   'is_translator': False,\n",
              "   'lang': None,\n",
              "   'listed_count': 242,\n",
              "   'location': '',\n",
              "   'name': 'Lisa HockadayJackson📲',\n",
              "   'notifications': False,\n",
              "   'profile_background_color': 'C0DEED',\n",
              "   'profile_background_image_url': 'http://abs.twimg.com/images/themes/theme1/bg.png',\n",
              "   'profile_background_image_url_https': 'https://abs.twimg.com/images/themes/theme1/bg.png',\n",
              "   'profile_background_tile': False,\n",
              "   'profile_banner_url': 'https://pbs.twimg.com/profile_banners/3297160441/1621536844',\n",
              "   'profile_image_url': 'http://pbs.twimg.com/profile_images/1120940746142638080/bPEc-zxe_normal.jpg',\n",
              "   'profile_image_url_https': 'https://pbs.twimg.com/profile_images/1120940746142638080/bPEc-zxe_normal.jpg',\n",
              "   'profile_link_color': '1DA1F2',\n",
              "   'profile_sidebar_border_color': 'C0DEED',\n",
              "   'profile_sidebar_fill_color': 'DDEEF6',\n",
              "   'profile_text_color': '333333',\n",
              "   'profile_use_background_image': True,\n",
              "   'protected': False,\n",
              "   'screen_name': 'LisaH_Jackson',\n",
              "   'statuses_count': 26183,\n",
              "   'time_zone': None,\n",
              "   'translator_type': 'none',\n",
              "   'url': 'https://t.co/CP5845Bpbu',\n",
              "   'utc_offset': None,\n",
              "   'verified': False,\n",
              "   'withheld_in_countries': []}},\n",
              " 'source': '<a href=\"https://dlvrit.com/\" rel=\"nofollow\">dlvr.it</a>',\n",
              " 'text': 'RT @LisaH_Jackson: Great News! Delta Air Lines will elevate the customer experience with enhanced flight attendant technology. Together wit…',\n",
              " 'truncated': False,\n",
              " 'user': {'contributors_enabled': False,\n",
              "  'created_at': 'Sat May 23 15:48:01 +0000 2009',\n",
              "  'default_profile': False,\n",
              "  'default_profile_image': False,\n",
              "  'description': 'GovCloud Network provides consulting, education and digital publishing services globally.',\n",
              "  'entities': {'description': {'urls': []},\n",
              "   'url': {'urls': [{'display_url': 'govcloudnetwork.com',\n",
              "      'expanded_url': 'http://govcloudnetwork.com',\n",
              "      'indices': [0, 22],\n",
              "      'url': 'http://t.co/mxPu60XN6t'}]}},\n",
              "  'favourites_count': 963,\n",
              "  'follow_request_sent': False,\n",
              "  'followers_count': 26363,\n",
              "  'following': False,\n",
              "  'friends_count': 5314,\n",
              "  'geo_enabled': True,\n",
              "  'has_extended_profile': False,\n",
              "  'id': 42046909,\n",
              "  'id_str': '42046909',\n",
              "  'is_translation_enabled': False,\n",
              "  'is_translator': False,\n",
              "  'lang': None,\n",
              "  'listed_count': 453,\n",
              "  'location': 'Washington, DC',\n",
              "  'name': 'GovCloud Network',\n",
              "  'notifications': False,\n",
              "  'profile_background_color': 'C0DEED',\n",
              "  'profile_background_image_url': 'http://abs.twimg.com/images/themes/theme2/bg.gif',\n",
              "  'profile_background_image_url_https': 'https://abs.twimg.com/images/themes/theme2/bg.gif',\n",
              "  'profile_background_tile': False,\n",
              "  'profile_banner_url': 'https://pbs.twimg.com/profile_banners/42046909/1403753356',\n",
              "  'profile_image_url': 'http://pbs.twimg.com/profile_images/482002683906113536/eKUr0Jsi_normal.png',\n",
              "  'profile_image_url_https': 'https://pbs.twimg.com/profile_images/482002683906113536/eKUr0Jsi_normal.png',\n",
              "  'profile_link_color': '1F98C7',\n",
              "  'profile_sidebar_border_color': 'C6E2EE',\n",
              "  'profile_sidebar_fill_color': 'DAECF4',\n",
              "  'profile_text_color': '663B12',\n",
              "  'profile_use_background_image': True,\n",
              "  'protected': False,\n",
              "  'screen_name': 'GovCloud',\n",
              "  'statuses_count': 86949,\n",
              "  'time_zone': None,\n",
              "  'translator_type': 'none',\n",
              "  'url': 'http://t.co/mxPu60XN6t',\n",
              "  'utc_offset': None,\n",
              "  'verified': False,\n",
              "  'withheld_in_countries': []}}"
            ]
          },
          "metadata": {
            "tags": []
          },
          "execution_count": 11
        }
      ]
    },
    {
      "cell_type": "markdown",
      "metadata": {
        "id": "FjUN5pSD9IMs"
      },
      "source": [
        "For each tweet we have an object with many details: among the key ones we have its unique ID, the name of the author and its actual text"
      ]
    },
    {
      "cell_type": "code",
      "metadata": {
        "id": "ncZvBikP9IMt",
        "colab": {
          "base_uri": "https://localhost:8080/"
        },
        "outputId": "2eb48553-ea33-46d9-9f0d-3ad8045bd45d"
      },
      "source": [
        "delta_tweets[0][\"id\"]"
      ],
      "execution_count": null,
      "outputs": [
        {
          "output_type": "execute_result",
          "data": {
            "text/plain": [
              "1400371818314166272"
            ]
          },
          "metadata": {
            "tags": []
          },
          "execution_count": 12
        }
      ]
    },
    {
      "cell_type": "code",
      "metadata": {
        "id": "7MjVSGsJ9IMv",
        "colab": {
          "base_uri": "https://localhost:8080/",
          "height": 35
        },
        "outputId": "fe4c63b7-29a5-4d5d-aa2c-48948067342e"
      },
      "source": [
        "delta_tweets[0][\"user\"][\"name\"]"
      ],
      "execution_count": null,
      "outputs": [
        {
          "output_type": "execute_result",
          "data": {
            "application/vnd.google.colaboratory.intrinsic+json": {
              "type": "string"
            },
            "text/plain": [
              "'GovCloud Network'"
            ]
          },
          "metadata": {
            "tags": []
          },
          "execution_count": 13
        }
      ]
    },
    {
      "cell_type": "code",
      "metadata": {
        "id": "HMTV3-cQ9IMx",
        "colab": {
          "base_uri": "https://localhost:8080/",
          "height": 35
        },
        "outputId": "b79a8f71-7327-44a2-9853-0960043ca037"
      },
      "source": [
        "delta_tweets[0][\"text\"]"
      ],
      "execution_count": null,
      "outputs": [
        {
          "output_type": "execute_result",
          "data": {
            "application/vnd.google.colaboratory.intrinsic+json": {
              "type": "string"
            },
            "text/plain": [
              "'RT @LisaH_Jackson: Great News! Delta Air Lines will elevate the customer experience with enhanced flight attendant technology. Together wit…'"
            ]
          },
          "metadata": {
            "tags": []
          },
          "execution_count": 14
        }
      ]
    },
    {
      "cell_type": "markdown",
      "metadata": {
        "id": "KTfoH9L89IMz"
      },
      "source": [
        "Define a function to repeat the operations given above on any search string and return a list of the contents of each tweet (without metadata)"
      ]
    },
    {
      "cell_type": "code",
      "metadata": {
        "id": "dIJlfOIX9IMz"
      },
      "source": [
        "def get_recent_tweets(query):\n",
        "    print(\"getting tweets for '{}' ... \".format(query), end=\"\")\n",
        "    tso = TwitterSearchOrder()\n",
        "    tso.set_keywords([query]) # the keywords of our tweets search\n",
        "    tso.set_language(\"en\") # fetch only english tweets\n",
        "    tso.set_include_entities(False) # Entities provide metadata and additional contextual information about content posted on Twitter (e.g. hashtags, urls, user_mentions, symbols). https://developer.twitter.com/en/docs/twitter-api/v1/data-dictionary/object-model/entities\n",
        "    tso.set_count(5) # the number of tweets we want to get. If ommitted it is set to 100 that is also the maximum value\n",
        "    tsresp = ts.search_tweets(tso)\n",
        "    texts = [status[\"text\"] for status in tsresp[\"content\"][\"statuses\"]]\n",
        "    print(\"{} retrieved\".format(len(texts)))\n",
        "    return texts"
      ],
      "execution_count": null,
      "outputs": []
    },
    {
      "cell_type": "markdown",
      "metadata": {
        "id": "xDC-Z8Md9IM1"
      },
      "source": [
        "Use then this function to create a dictionary mapping airline names to list of relevant tweets"
      ]
    },
    {
      "cell_type": "code",
      "metadata": {
        "id": "HeWeR8-h9IM1",
        "colab": {
          "base_uri": "https://localhost:8080/"
        },
        "outputId": "9e08ec3c-943d-40a6-d12a-b58837a5e238"
      },
      "source": [
        "current_tweets = {\n",
        "    airline: get_recent_tweets(\"@\" + airline)\n",
        "    for airline in airlines\n",
        "}"
      ],
      "execution_count": null,
      "outputs": [
        {
          "output_type": "stream",
          "text": [
            "getting tweets for '@delta' ... 5 retrieved\n",
            "getting tweets for '@americanair' ... 5 retrieved\n",
            "getting tweets for '@jetblue' ... 5 retrieved\n",
            "getting tweets for '@southwestair' ... 5 retrieved\n",
            "getting tweets for '@united' ... 5 retrieved\n"
          ],
          "name": "stdout"
        }
      ]
    },
    {
      "cell_type": "code",
      "metadata": {
        "colab": {
          "base_uri": "https://localhost:8080/"
        },
        "id": "6WUU2w7RlJFE",
        "outputId": "b6064135-370b-4d74-af06-5369c682e971"
      },
      "source": [
        "current_tweets"
      ],
      "execution_count": null,
      "outputs": [
        {
          "output_type": "execute_result",
          "data": {
            "text/plain": [
              "{'americanair': ['Hi @AmericanAir - I see you’ve changed your logo to encorporate the #Pride\\xa0flag and also posted this tweet.\\n\\nDo you… https://t.co/kUaZa1so2U',\n",
              "  \"@AmericanAir It' done. But it took 4.5 hours. 2.5 in a chat and 2 in cals with different levels of support. If you… https://t.co/bB4sz8np7n\",\n",
              "  \"@JessiMilestone @AmericanAir @Delta Make a series of vdos of you learning to fly and getting a pilot's license.  I… https://t.co/4vrxnWU6Rz\",\n",
              "  'RT @AmericanAir: A huge shout out to our #AAdvantage members who #LetGoodTakeFlight by raising nearly $1.5 million in less than 30 days for…',\n",
              "  '@AmericanAir Rainbow'],\n",
              " 'delta': ['RT @LisaH_Jackson: Great News! Delta Air Lines will elevate the customer experience with enhanced flight attendant technology. Together wit…',\n",
              "  'RT @LisaH_Jackson: Great News! Delta Air Lines will elevate the customer experience with enhanced flight attendant technology. Together wit…',\n",
              "  'Great News! Delta Air Lines will elevate the customer experience with enhanced flight attendant technology. Togethe… https://t.co/TxeHfN0jLb',\n",
              "  'RT @craigmelvin: Our @Delta pilot just announced this was his last flight with the company, thanked his wife and mother seated a few rows b…',\n",
              "  'RT @craigmelvin: Our @Delta pilot just announced this was his last flight with the company, thanked his wife and mother seated a few rows b…'],\n",
              " 'jetblue': [\"RT @JetBlueVentures: We're kicking off an innovation sprint focused on #fintech  startups that can benefit @JetBlue. We're particularly int…\",\n",
              "  '@naomirwolf @JetBlue You are a paid/professional victim.  Jen Gunter is right about you.',\n",
              "  \"@dremilyportermd @JetBlue I'd say go for broke and request another one. ♥️ \\n\\nSultana, Padishaw, Empress, Grand Princess, Duchess,\",\n",
              "  \"@JetBlue after hours on hold your operator disconnected me. Your site, chat, mobile app aren't working. And you are… https://t.co/tSqTmmM7P7\",\n",
              "  '@dremilyportermd @JetBlue Baroness is always fun.'],\n",
              " 'southwestair': ['This is really amazing @SouthwestAir . Far Far Beyond expectations. https://t.co/j13frbTxAS',\n",
              "  '@SouthwestAir Ban Promotion of #Ecocidal industries.',\n",
              "  \"@SouthwestAir Up for ‘GRABS’ sounds so, what's the word: Trumpian. Careful as that could 🐝 construed wrong and stin… https://t.co/L26viPnsrj\",\n",
              "  'RT @RMConservative: .@SouthwestAir @CDCgov So Sec. of Transportation admitting masking on planes is for \"respect.\" Are you really respectin…',\n",
              "  'RT @RMConservative: .@SouthwestAir @CDCgov So Sec. of Transportation admitting masking on planes is for \"respect.\" Are you really respectin…'],\n",
              " 'united': ['@united @eDreams @eDreams_en @eDreams_ODIGEO @united I just called @eDreams finally, and guess what, they say that… https://t.co/s0Mn4innL9',\n",
              "  '@united Bringing back P.S. on the new ORD-DTW route?',\n",
              "  'RT @joe_10x: Lufthansa, SAS and now KLM \\nWhat a coincidence!!! 🤩 \\n\\n@united what about your marketing stunt, can you move to CET morning tim…',\n",
              "  'RT @joe_10x: Lufthansa, SAS and now KLM \\nWhat a coincidence!!! 🤩 \\n\\n@united what about your marketing stunt, can you move to CET morning tim…',\n",
              "  '@united Giving me my free flights, thank you.']}"
            ]
          },
          "metadata": {
            "tags": []
          },
          "execution_count": 17
        }
      ]
    },
    {
      "cell_type": "code",
      "metadata": {
        "id": "hW7g6aIYleKr",
        "colab": {
          "base_uri": "https://localhost:8080/"
        },
        "outputId": "f19e582b-075f-4e68-b71e-fb0a3eab7f35"
      },
      "source": [
        "current_tweets[\"delta\"][:3]"
      ],
      "execution_count": null,
      "outputs": [
        {
          "output_type": "execute_result",
          "data": {
            "text/plain": [
              "['RT @LisaH_Jackson: Great News! Delta Air Lines will elevate the customer experience with enhanced flight attendant technology. Together wit…',\n",
              " 'RT @LisaH_Jackson: Great News! Delta Air Lines will elevate the customer experience with enhanced flight attendant technology. Together wit…',\n",
              " 'Great News! Delta Air Lines will elevate the customer experience with enhanced flight attendant technology. Togethe… https://t.co/TxeHfN0jLb']"
            ]
          },
          "metadata": {
            "tags": []
          },
          "execution_count": 18
        }
      ]
    },
    {
      "cell_type": "markdown",
      "metadata": {
        "id": "pjfbPhaw9IM4"
      },
      "source": [
        "### Using pre-collected tweets\n",
        "\n",
        "For convenience, we provide a set of precollected tweets about the airline companies as an alternative to latest tweets"
      ]
    },
    {
      "cell_type": "code",
      "metadata": {
        "id": "rJXE4I_I9IM4"
      },
      "source": [
        "download(\"tweets.zip\", \"https://github.com/datascienceunibo/bbs-opinion-lab-2019/raw/master/tweets.zip\")"
      ],
      "execution_count": null,
      "outputs": []
    },
    {
      "cell_type": "markdown",
      "metadata": {
        "id": "4sEkMrRK9IM6"
      },
      "source": [
        "The ZIP archive contains a `company_name.txt` file for each airline company, each with a list of tweets (one per line): we load them into a dict mapping the name of each company to the list of relevant tweets"
      ]
    },
    {
      "cell_type": "code",
      "metadata": {
        "id": "MQzbR0hz9IM7"
      },
      "source": [
        "from zipfile import ZipFile\n",
        "archive_tweets = {}\n",
        "with ZipFile(\"tweets.zip\") as zipf:\n",
        "    for airline in airlines:\n",
        "        with zipf.open(airline + \".txt\") as f:\n",
        "            archive_tweets[airline] = list(line.decode().strip() for line in f)"
      ],
      "execution_count": null,
      "outputs": []
    },
    {
      "cell_type": "markdown",
      "metadata": {
        "id": "ScC5ge499IM8"
      },
      "source": [
        "You can read for example some tweets about Delta airlines:"
      ]
    },
    {
      "cell_type": "code",
      "metadata": {
        "id": "3rg0Nu9e9IM9",
        "colab": {
          "base_uri": "https://localhost:8080/"
        },
        "outputId": "3db5899d-29ee-421c-8b1a-c373e38690a6"
      },
      "source": [
        "archive_tweets[\"delta\"][:3]"
      ],
      "execution_count": null,
      "outputs": [
        {
          "output_type": "execute_result",
          "data": {
            "text/plain": [
              "['\"@LAKings: Are you the #LAKings biggest fan? Prove it and win a trip on @Delta to see the Kings vs Rangers in NY - http://t.co/JXBc5kDXnZ\"RT',\n",
              " '@AneetharPweety am @delta state buh on ma way to benin city now',\n",
              " 'RT @iamdiddy: If you’re flying out of JFK on @Delta you NEED to check out the new @CIROC VIP lounge at @Delta terminal at JFK. http://t.co/…']"
            ]
          },
          "metadata": {
            "tags": []
          },
          "execution_count": 21
        }
      ]
    },
    {
      "cell_type": "markdown",
      "metadata": {
        "id": "9-dWEteC9IM-"
      },
      "source": [
        "In the following we will work on these `archive_tweets`, replace that in the line below with `current_tweets` if you want to use downloaded tweets instead"
      ]
    },
    {
      "cell_type": "code",
      "metadata": {
        "id": "qO407nji9IM-"
      },
      "source": [
        "tweets = archive_tweets #current_tweets"
      ],
      "execution_count": null,
      "outputs": []
    },
    {
      "cell_type": "markdown",
      "metadata": {
        "id": "khZAVoZV9INA"
      },
      "source": [
        "To better deal with them later, we represents tweets into a pandas DataFrame with two columns\n",
        "- a `text` column with the text of the tweet\n",
        "- an `airline` column with the airline each tweet refers to"
      ]
    },
    {
      "cell_type": "code",
      "metadata": {
        "id": "6_q-5J0N9INA"
      },
      "source": [
        "tweets = pd.DataFrame(\n",
        "    {\"airline\": airline, \"text\": text}\n",
        "    for airline, tweetlist in tweets.items()\n",
        "    for text in tweetlist\n",
        ")"
      ],
      "execution_count": null,
      "outputs": []
    },
    {
      "cell_type": "code",
      "metadata": {
        "id": "BVxwWYH79INC",
        "colab": {
          "base_uri": "https://localhost:8080/",
          "height": 143
        },
        "outputId": "7e9b2d83-874f-471c-d131-b8c452475888"
      },
      "source": [
        "tweets.head(3)"
      ],
      "execution_count": null,
      "outputs": [
        {
          "output_type": "execute_result",
          "data": {
            "text/html": [
              "<div>\n",
              "<style scoped>\n",
              "    .dataframe tbody tr th:only-of-type {\n",
              "        vertical-align: middle;\n",
              "    }\n",
              "\n",
              "    .dataframe tbody tr th {\n",
              "        vertical-align: top;\n",
              "    }\n",
              "\n",
              "    .dataframe thead th {\n",
              "        text-align: right;\n",
              "    }\n",
              "</style>\n",
              "<table border=\"1\" class=\"dataframe\">\n",
              "  <thead>\n",
              "    <tr style=\"text-align: right;\">\n",
              "      <th></th>\n",
              "      <th>airline</th>\n",
              "      <th>text</th>\n",
              "    </tr>\n",
              "  </thead>\n",
              "  <tbody>\n",
              "    <tr>\n",
              "      <th>0</th>\n",
              "      <td>delta</td>\n",
              "      <td>\"@LAKings: Are you the #LAKings biggest fan? Prove it and win a trip on @Delta to see the Kings ...</td>\n",
              "    </tr>\n",
              "    <tr>\n",
              "      <th>1</th>\n",
              "      <td>delta</td>\n",
              "      <td>@AneetharPweety am @delta state buh on ma way to benin city now</td>\n",
              "    </tr>\n",
              "    <tr>\n",
              "      <th>2</th>\n",
              "      <td>delta</td>\n",
              "      <td>RT @iamdiddy: If you’re flying out of JFK on @Delta you NEED to check out the new @CIROC VIP lou...</td>\n",
              "    </tr>\n",
              "  </tbody>\n",
              "</table>\n",
              "</div>"
            ],
            "text/plain": [
              "  airline                                                                                                 text\n",
              "0   delta  \"@LAKings: Are you the #LAKings biggest fan? Prove it and win a trip on @Delta to see the Kings ...\n",
              "1   delta                                      @AneetharPweety am @delta state buh on ma way to benin city now\n",
              "2   delta  RT @iamdiddy: If you’re flying out of JFK on @Delta you NEED to check out the new @CIROC VIP lou..."
            ]
          },
          "metadata": {
            "tags": []
          },
          "execution_count": 24
        }
      ]
    },
    {
      "cell_type": "markdown",
      "metadata": {
        "id": "qKrg7s8f9INF"
      },
      "source": [
        "### Estimating sentiment using lists of opinion words\n",
        "\n",
        "Several methods and algorithms have been proposed in literature to estimate the sentiment of a document (or sentence), usually quite complex.\n",
        "\n",
        "To get started, we will use a trivial lexicon-based method which assigns a score by counting known positive and negative words in each tweet.\n",
        "\n",
        "Hu and Liu made available for download a list of about 6,800 words labeled as either positive or negative.\n",
        "\n",
        "- **Positive:** love, best, cool, great, good, amazing, ...\n",
        "- **Negative:** hate, worst, sucks, awful, nightmare, ..."
      ]
    },
    {
      "cell_type": "markdown",
      "metadata": {
        "id": "ZrgWberF9INF"
      },
      "source": [
        "We write\n",
        "- a function used to process word lists, ignoring lines either empty or starting with \";\" (comments)\n",
        "- another function using the first one to get a set of words contained in a named file"
      ]
    },
    {
      "cell_type": "code",
      "metadata": {
        "id": "BBxH-BSW9ING"
      },
      "source": [
        "def scan_hu_liu(f):\n",
        "    for line in f:\n",
        "        line = line.decode(errors=\"ignore\").strip() # strip() function removes spaces at the beginning and at the end of the string\n",
        "        if line and not line.startswith(\";\"):\n",
        "            yield line\n",
        "\n",
        "def load_hu_liu(filename):\n",
        "    with open(filename, \"rb\") as f:\n",
        "        return set(scan_hu_liu(f)) # set(...) is the build function to create a new Python set {}"
      ],
      "execution_count": null,
      "outputs": []
    },
    {
      "cell_type": "markdown",
      "metadata": {
        "id": "mqbslQd69INI"
      },
      "source": [
        "We then download the two sets (one for positive words and one for negative ones) and use the latter function to load them"
      ]
    },
    {
      "cell_type": "code",
      "metadata": {
        "id": "xAfuoln99INI",
        "colab": {
          "base_uri": "https://localhost:8080/"
        },
        "outputId": "0eb8f3c4-cbfc-415f-e40b-b9e5e8a6f16b"
      },
      "source": [
        "download(\"positive-words.txt\", \"https://github.com/datascienceunibo/bbs-opinion-lab-2019/raw/master/positive-words.txt\")\n",
        "download(\"negative-words.txt\", \"https://github.com/datascienceunibo/bbs-opinion-lab-2019/raw/master/negative-words.txt\")\n",
        "\n",
        "hu_liu_pos = load_hu_liu(\"positive-words.txt\")\n",
        "print('Positive words')\n",
        "print(hu_liu_pos)\n",
        "\n",
        "print()\n",
        "\n",
        "hu_liu_neg = load_hu_liu(\"negative-words.txt\")\n",
        "print('Negative words')\n",
        "print(hu_liu_neg)"
      ],
      "execution_count": null,
      "outputs": [
        {
          "output_type": "stream",
          "text": [
            "Positive words\n",
            "{'hallmarks', 'enthusiasm', 'excitement', 'dazzle', 'venerate', 'popular', 'impeccably', 'posh', 'unequivocal', 'stronger', 'ovation', 'cashbacks', 'cherub', 'excels', 'gorgeously', 'noteworthy', 'astonishingly', 'continuity', 'gush', 'evenly', 'prosperity', 'sensitive', 'sparkle', 'celebration', 'strongest', 'merciful', 'opulent', 'gleeful', 'faith', 'graceful', 'stainless', 'better', 'chic', 'suitable', 'innovation', 'spellbindingly', 'supporting', 'triumph', 'erudite', 'wellbeing', 'enrichment', 'appreciative', 'dumbfounding', 'gratification', 'flashy', 'acumen', 'fashionably', 'impressiveness', 'sensibly', 'speedy', 'gladly', 'valor', 'wowing', 'optimistic', 'smoothest', 'soft', 'non-violent', 'satisified', 'fervor', 'gleefully', 'deference', 'prospros', 'authentic', 'facilitate', 'beneficent', 'clearly', 'diligently', 'cheerful', 'gentle', 'benifits', 'exuberantly', 'precisely', 'acclaimed', 'awesome', 'elatedly', 'compliant', 'considerate', 'respectable', 'felicitous', 'preeminent', 'amazes', 'heartwarming', 'patience', 'believeable', 'straightforward', 'confidence', 'assure', 'brand-new', 'favor', 'lower-priced', 'rewarding', 'rosy', 'benefits', 'poeticize', 'pros', 'impressive', 'fearless', 'reassure', 'vigilance', 'flexible', 'well-connected', 'excellant', 'stellar', 'insightful', 'undisputably', 'fairly', 'standout', 'merrily', 'rightly', 'thrillingly', 'fervent', 'smart', 'admire', 'infallibly', 'viewable', 'everlasting', 'simpler', 'statuesque', 'unfettered', 'exuberant', 'instantly', 'reasonable', 'compliment', 'amenity', 'guarantee', 'excitingly', 'happily', 'kudos', 'relief', 'calming', 'courtly', 'effusively', 'beckoned', 'commendably', 'miraculousness', 'stylish', 'heroically', 'pleasurably', 'overtook', 'solidarity', 'convincingly', 'recomend', 'idealize', 'agility', 'rectification', 'affectionate', 'dextrous', 'alluring', 'sagely', 'top-quality', 'tenaciously', 'upscale', 'festive', 'revives', 'fast-paced', 'humorous', 'tantalize', 'personages', 'exceed', 'beckoning', 'breakthroughs', 'realizable', 'distinguished', 'joyful', 'harmonious', 'stunned', 'goood', 'stupendously', 'famed', 'enhancement', 'uplifting', 'sweeten', 'tender', 'time-honored', 'attractive', 'fascinate', 'liberty', 'interesting', 'proven', 'detachable', 'lavishly', 'eagerness', 'fortunate', 'tickle', 'leads', 'marvelously', 'supple', 'helpful', 'soulful', 'champion', 'faster', 'winning', 'passion', 'beckon', 'impressed', 'plentiful', 'blithe', 'optimism', 'shimmeringly', 'good', 'gems', 'luminous', 'prestige', 'nourish', 'ingenuity', 'trump', 'reverent', 'wholesome', 'rejuvenated', 'likable', 'rapid', 'woo', 'credible', 'dote', 'sturdy', 'brainiest', 'splendidly', 'mercy', 'comprehensive', 'simplifies', 'mastery', 'ecstatic', 'glow', 'resounding', 'sprightly', 'gumption', 'snazzy', 'clears', 'daringly', 'pampers', 'simplified', 'amusingly', 'wow', 'hug', 'roomier', 'brisk', 'spectacular', 'fans', 'divine', 'quieter', 'rock-star', 'gratifying', 'inexpensive', 'prowess', 'bloom', 'swanky', 'adventuresome', 'cost-saving', 'masters', 'virtuously', 'prettily', 'desiring', 'rapture', 'clean', 'doubtless', 'enthuse', 'happy', 'faultless', 'honorable', 'benevolent', 'low-risk', 'winners', 'endorsement', 'lean', 'redeem', 'fearlessly', 'energy-efficient', 'patient', 'advantage', 'traction', 'fresh', 'complementary', 'interests', 'well-established', 'pleasantly', 'equitable', 'shine', 'wholeheartedly', 'priceless', 'sufficient', 'finely', 'suffices', 'humorously', 'monumentally', 'picturesque', 'elegance', 'vivacious', 'variety', 'shiny', 'triumphant', 'twinkly', 'exhilarating', 'wonder', 'reformed', 'enthusiastic', 'exalt', 'amply', 'encouragingly', 'deserving', 'eases', 'unity', 'promised', 'valiant', 'sensational', 'entertaining', 'bonus', 'fastest', 'stately', 'eulogize', 'vivid', 'balanced', 'windfall', 'congratulations', 'courageously', 'praise', 'revolutionize', 'exaltedly', 'flexibility', 'well-intentioned', 'gifted', 'sturdier', 'hallowed', 'gallant', 'seamless', 'beauty', 'simplest', 'pretty', 'phenomenal', 'talent', 'friendliness', 'golden', 'apotheosis', 'winner', 'gentlest', 'pep', 'liking', 'achievements', 'daring', 'rapturous', 'redemption', 'ameliorate', 'substantive', 'orderly', 'tantalizing', 'powerful', 'bravo', 'charismatic', 'catchy', 'spontaneous', 'levity', 'sleek', 'upgraded', 'elevate', 'glorious', 'unbiased', 'awesomely', 'mesmerized', 'successful', 'cure-all', 'profound', 'excelled', 'hotcake', 'prominent', 'headway', 'advocate', 'grand', 'dotingly', 'readily', 'lavish', 'reforms', 'adore', 'endear', 'awe', 'fulfillment', 'justly', 'agreeableness', 'graciousness', 'desirous', 'aspiration', 'first-rate', 'problem-solver', 'unrestricted', 'restructure', 'kindliness', 'streamlined', 'honored', 'magnificent', 'restructured', 'envious', 'majesty', 'cajole', 'tenacious', 'thrill', 'first-in-class', 'danke', 'overture', 'eye-catching', 'charitable', 'vibrantly', 'nourishing', 'playfully', 'convenient', 'advocates', 'amiabily', 'suffice', 'jaw-droping', 'generous', 'favorable', 'thumbs-up', 'unfazed', 'helping', 'privileged', 'dashing', 'fortune', 'soundness', 'correct', 'praising', 'wondrous', 'integral', 'expertly', 'recommendations', 'comfortably', 'supports', 'thank', 'sublime', 'healthful', 'authoritative', 'intriguingly', 'ecenomical', 'hardier', 'friendly', 'righteously', 'courteous', 'gaily', 'avidly', 'resound', 'complimentary', 'relent', 'revive', 'idol', 'chivalry', 'courageousness', 'amazingly', 'scenic', 'stupendous', 'soundly', 'cure', 'cleanliness', 'glistening', 'hottest', 'peps', 'compatible', 'best', 'hooray', 'exceptionally', 'restructuring', 'incredibly', 'inspiring', 'impartiality', 'outsmart', 'inspirational', 'tops', 'enthusiast', 'pre-eminent', 'impartial', 'prudent', 'fast-growing', 'reputable', 'fancy', 'covenant', 'brilliantly', 'prudently', 'crisper', 'tempt', 'extraordinarily', 'easiest', 'productively', 'examplary', 'foresight', 'sharp', 'reconcile', 'amazed', 'enrapt', 'contribution', 'attraction', 'flatter', 'improving', 'prompt', 'refunded', 'worthwhile', 'thrilling', 'magnificently', 'goodly', 'dauntless', 'satisfactory', 'reassurance', 'vigilant', 'effusiveness', 'law-abiding', 'navigable', 'commodious', 'pardon', 'logical', 'industrious', 'affection', 'win', 'delightfully', 'upgradeable', 'self-respect', 'assuredly', 'masterpieces', 'youthful', 'marvellous', 'endorsing', 'keen', 'boom', 'masterful', 'glowing', 'profoundly', 'temptingly', 'amusing', 'blessing', 'frugal', 'exceedingly', 'sporty', 'titillatingly', 'revolutionizes', 'fast', 'eminent', 'ennoble', 'humane', 'refine', 'trusty', 'fashionable', 'remarkably', 'effortless', 'ethical', 'vouch', 'subsidizing', 'unmatched', 'satisfy', 'obtainable', 'dawn', 'admirer', 'capability', 'lifesaver', 'enhance', 'homage', 'gem', 'recommend', 'thrilled', 'pluses', 'generosity', 'mightily', 'gladness', 'endorse', 'clear-cut', 'outstrip', 'handy', 'astoundingly', 'empowerment', 'kid-friendly', 'harmonize', 'excellency', 'tremendously', 'feasibly', 'agilely', 'laud', 'notably', 'winnable', 'swankier', 'loves', 'conciliate', 'dreamland', 'intimacy', 'fragrant', 'long-lasting', 'thankful', 'memorable', 'serenity', 'defender', 'eyecatching', 'cohesive', 'subsidized', 'comfortable', 'cool', 'tenderly', 'easier', 'merry', 'whoa', 'adulation', 'lovely', 'flawless', 'propitious', 'beckons', 'conciliatory', 'luckier', 'sweeping', 'stylized', 'genius', 'safe', 'breeze', 'best-performing', 'painlessly', 'glowingly', 'brilliances', 'uplift', 'humourous', 'cherish', 'bonny', 'eased', 'decisiveness', 'immaculately', 'freedom', 'elate', 'fond', 'liberation', 'diplomatic', 'gaining', 'affluence', 'multi-purpose', 'simplify', 'capable', 'modest', 'encouragement', 'excellence', 'redeeming', 'edify', 'luxuriate', 'better-than-expected', 'inestimably', 'magnanimous', 'well-positioned', 'futuristic', 'bonuses', 'entrust', 'affably', 'ftw', 'zenith', 'thoughtful', 'humor', 'nicer', 'impassioned', 'prestigious', 'maturity', 'elated', 'lustrous', 'cleaner', 'energy-saving', 'improvements', 'accomplished', 'steady', 'outperforms', 'excellently', 'felicity', 'backbone', 'witty', 'chaste', 'rejoicing', 'cheapest', 'led', 'reaffirm', 'advantageously', 'favour', 'geeky', 'danken', 'prefers', 'audible', 'comfort', 'successfully', 'subsidizes', 'prize', 'productive', 'keenly', 'romanticize', 'unquestionably', 'wieldy', 'humour', 'adroitly', 'goodness', 'awarded', 'adaptive', 'tingle', 'diversified', 'classic', 'gooood', 'expansive', 'enthral', 'assuring', 'magical', 'enrapture', 'appreciatively', 'commitment', 'excite', 'engrossing', 'premier', 'accurately', 'civility', 'warmth', 'endearing', 'plusses', 'sensible', 'proving', 'unrivaled', 'steadiness', 'prosperous', 'vibrant', 'enticing', 'advantages', 'admiringly', 'wins', 'futurestic', 'revival', 'accomplishments', 'rectify', 'intrigue', 'savvy', 'advantageous', 'legendary', 'success', 'fervid', 'exalting', 'overtaking', 'proves', 'smoothly', 'courageous', 'luxuriant', 'well-educated', 'originality', 'affability', 'euphoria', 'first-class', 'relaxed', 'sweet', 'evocative', 'safely', 'strong', 'well-mannered', 'preferes', 'staunch', 'lawful', 'aver', 'fortitude', 'suavely', 'favorite', 'overtaken', 'noiseless', 'breathtakingly', 'bullish', 'abundant', 'luckiest', 'welcome', 'treasure', 'admirably', 'respectfully', 'awesomeness', 'sophisticated', 'neatly', 'grandeur', 'peaceable', 'favorited', 'satisfying', 'creative', 'ample', 'securely', 'superb', 'favored', 'mind-blowing', 'distinction', 'properly', 'wows', 'unwavering', 'infallible', 'low-cost', 'congratulation', 'electrify', 'truthfulness', 'enjoy', 'truthfully', 'unabashedly', 'user-replaceable', 'fortuitous', 'guidance', 'prodigiously', 'realistic', 'loved', 'beauteous', 'marvel', 'sane', 'passionate', 'blameless', 'enhanced', 'joyously', 'stirringly', 'warmly', 'elegant', 'unequivocally', 'accommodative', 'talented', 'amicable', 'afford', 'sincerely', 'swank', 'deginified', 'exemplary', 'clarity', 'devout', 'exemplar', 'renaissance', 'righteousness', 'gratifies', 'neat', 'hotcakes', 'unaffected', 'brightest', 'astutely', 'exquisitely', 'worthy', 'razor-sharp', 'well-known', 'prosper', 'succeeds', 'delightfulness', 'titillating', 'novelty', 'solicitously', 'ingenuous', 'ecstasies', 'contentment', 'trust', 'decisive', 'pamperedness', 'readable', 'advanced', 'intelligent', 'tidy', 'hopeful', 'togetherness', 'carefree', 'retractable', 'advocated', 'promoter', 'heartfelt', 'succes', 'steadfastly', 'richly', 'respectful', 'bolster', 'merit', 'marveled', 'fav', 'nicely', 'regally', 'straighten', 'smilingly', 'excel', 'wonderous', 'ambitious', 'sensation', 'dependable', 'excallent', 'refreshing', 'verifiable', 'supported', 'freshest', 'upheld', 'large-capacity', 'glamorous', 'correctly', 'thrift', 'peaceful', 'eloquently', 'god-send', 'irresistible', 'angelic', 'prodigy', 'gloriously', 'perseverance', 'awed', 'fiery', 'poignant', 'exultingly', 'famously', 'audibly', 'a+', 'benevolence', 'topnotch', 'accomplish', 'luckiness', 'beautifully', 'finest', 'nice', 'amaze', 'destiny', 'godsend', 'unabashed', 'trustworthy', 'matchless', 'meritorious', 'outdo', 'honest', 'boost', 'enlightenment', 'undamaged', 'adoringly', 'empathize', 'valuable', 'effectively', 'zest', 'counter-attacks', 'entertains', 'promises', 'reform', 'angel', 'agile', 'maneuverable', 'promise', 'satisfies', 'sincerity', 'refinement', 'gained', 'stunning', 'fluent', 'unencumbered', 'record-setting', 'whoooa', 'imaginative', 'panoramic', 'sagacity', 'fascinating', 'unselfish', 'prefered', 'miraculous', 'hardy', 'stylishly', 'invigorating', 'zeal', 'amiability', 'dignified', 'greatness', 'blockbuster', 'nifty', 'pampered', 'saint', 'harmoniously', 'swankiest', 'secure', 'supurbly', 'gutsy', 'peerless', 'free', 'euphorically', 'spiritual', 'smoothes', 'gratify', 'rock-stars', 'supurb', 'cute', 'intricate', 'wisdom', 'willingly', 'astounding', 'rational', 'seasoned', 'beautifullly', 'impartially', 'convincing', 'well-managed', 'masterpiece', 'savings', 'trumpet', 'glitter', 'eager', 'glory', 'hot', 'delectable', 'mesmerize', 'rockstars', 'effectiveness', 'easygoing', 'achievement', 'high-quality', 'affable', 'cornerstone', 'dominate', 'fondly', 'trouble-free', 'overjoyed', 'empower', 'individualized', 'distinctive', 'charm', 'yay', 'tougher', 'suave', 'affirmative', 'grin', 'handsomely', 'firmer', 'loyal', 'benefit', 'marvelous', 'astonished', 'calm', 'credence', 'earnestly', 'intimate', 'bargain', 'fun', 'enraptured', 'cherished', 'qualified', 'remission', 'well-received', 'wonders', 'supportive', 'meticulously', 'impeccable', 'poise', 'autonomous', 'auspicious', 'soothe', 'bright', 'pleases', 'appreciated', 'fondness', 'luxuriously', 'hospitable', 'love', 'ebullience', 'well-balanced', 'adorer', 'joy', 'fanfare', 'rapport', 'lawfully', 'unbound', 'workable', 'humble', 'stability', 'delicacy', 'mesmerizing', 'uncomplicated', 'affectation', 'well-regarded', 'ilu', 'punctual', 'illuminate', 'exceeded', 'unlimited', 'charisma', 'restful', 'enthralled', 'gracefully', 'stable', 'timely', 'recommendation', 'soothingly', 'fruitful', 'constructive', 'fertile', 'fascinatingly', 'elation', 'pleased', 'amuse', 'dominated', 'unquestionable', 'eloquence', 'revitalize', 'stimulate', 'congratulatory', 'nimble', 'dexterously', 'gallantly', 'preferring', 'lively', 'adequate', 'silent', 'superbly', 'smiling', 'quicker', 'coherence', 'peach', 'eyecatch', 'recommended', 'worth-while', 'gaiety', 'outperform', 'reclaim', 'captivate', 'sustainability', 'rejuvenating', 'consistent', 'unforgettable', 'richness', 'coolest', 'swiftness', 'evaluative', 'enviably', 'educated', 'endorses', 'politeness', 'serene', 'painless', 'exaltingly', 'rightful', 'thrifty', 'galore', 'crisp', 'exellent', 'work', 'gusto', 'fantastically', 'surmount', 'permissible', 'gains', 'inviolate', 'lyrical', 'survival', 'breakthrough', 'comforting', 'spacious', 'accolade', 'jovial', 'raptureously', 'lucidly', 'available', 'admiration', 'beautiful', 'top', 'cleanly', 'steadfast', 'elite', 'hard-working', 'tolerable', 'enviously', 'stimulates', 'renown', 'concise', 'worthiness', 'aspirations', 'beloved', 'beneficiary', 'fabulously', 'lucid', 'sufficed', 'hearten', 'illuminating', 'guiltless', 'unbeatable', 'gracious', 'sweetly', 'impress', 'resolute', 'immense', 'promptly', 'jaw-dropping', 'easing', 'enlighten', 'enrich', 'finer', 'swift', 'elegantly', 'persevere', 'acclamation', 'cheery', 'enjoyment', 'miracle', 'felicitate', 'marvelousness', 'shimmering', 'satisfied', 'smoother', 'uphold', 'surpass', 'useable', 'glisten', 'exonerate', 'adjustable', 'rapt', 'delighted', 'proficient', 'dedicated', 'modern', 'sociable', 'relish', 'pure', 'proud', 'dazzled', 'extraordinary', 'envy', 'well-being', 'beneficially', 'promising', 'exhilaration', 'engaging', 'helped', 'trusting', 'agreeably', 'genuine', 'salute', 'fave', 'resplendent', 'invincibility', 'improved', 'terrifically', 'bliss', 'humility', 'durable', 'patriotic', 'beutifully', 'dead-cheap', 'restored', 'leading', 'successes', 'examplar', 'capably', 'pride', 'skillfully', 'earnestness', 'fancinating', 'heroine', 'glorify', 'abounds', 'agreeable', 'passionately', 'gorgeous', 'supreme', 'deservedly', 'propitiously', 'diligent', 'attentive', 'gratefully', 'gratitude', 'low-priced', 'subsidize', 'softer', 'innovative', 'positives', 'purify', 'foolproof', 'laudable', 'privilege', 'affirm', 'super', 'appeal', 'dependably', 'congratulate', 'motivated', 'eventful', 'chivalrous', 'romantic', 'refined', 'honoring', 'consummate', 'thriving', 'imaculate', 'beautify', 'heroic', 'world-famous', 'exceled', 'sparkling', 'sharper', 'supremacy', 'appreciates', 'quiet', 'enviable', 'enviousness', 'stellarly', 'stunningly', 'unconditional', 'portable', 'mesmerizingly', 'robust', 'irreplaceable', 'reachable', 'feat', 'proactive', 'pleasurable', 'inspiration', 'ecstasy', 'prodigious', 'exult', 'well', 'resourcefulness', 'nurturing', 'sexy', 'radiant', 'exhilarate', 'quaint', 'flourish', 'complement', 'ardor', 'prudence', 'sumptuous', 'amazing', 'fine-looking', 'ready', 'responsive', 'flattering', 'inestimable', 'top-notch', 'works', 'competitive', 'flawlessly', 'responsibly', 'bravery', 'delight', 'acclaim', 'convient', 'rectifying', 'irreproachable', 'sustainable', 'congenial', 'exceeding', 'believable', 'respect', 'smiles', 'slick', 'self-determination', 'supporter', 'invincible', 'powerfully', 'openly', 'meticulous', 'defeat', 'intriguing', 'positive', 'outperformed', 'best-known', 'reasonably', 'terrific', 'low-price', 'cashback', 'famous', 'effusion', 'improves', 'faithful', 'award', 'afordable', 'adored', 'adroit', 'supremely', 'eloquent', 'complements', 'enchanted', 'steadiest', 'indulgence', 'prefer', 'wonderful', 'reputation', 'heal', 'admiring', 'accessible', 'usable', 'holy', 'pleasing', 'indebted', 'non-violence', 'glimmering', 'steadfastness', 'endorsed', 'cushy', 'insightfully', 'feature-rich', 'joyous', 'well-rounded', 'excelent', 'toughest', 'pleasure', 'faithfulness', 'grace', 'charmingly', 'adventurous', 'invulnerable', 'peacefully', 'instrumental', 'important', 'precious', 'rejoicingly', 'glad', 'judicious', 'astounded', 'affinity', 'light-hearted', 'exultant', 'enchant', 'miracles', 'state-of-the-art', 'outshone', 'upliftingly', 'hallmark', 'feisty', 'preferable', 'pamperedly', 'attune', 'master', 'undaunted', 'wise', 'jubilate', 'revel', 'spirited', 'outstanding', 'breathtaking', 'hale', 'risk-free', 'embolden', 'perfectly', 'handier', 'smitten', 'comfy', 'cleverly', 'impressively', 'illuminati', 'slammin', 'momentous', 'revere', 'saver', 'stabilize', 'astound', 'pepped', 'strikingly', 'amiable', 'cleared', 'instructive', 'approval', 'satisfactorily', 'victory', 'bountiful', 'exquisite', 'jubilant', 'ebullient', 'poetic', 'healthy', 'enjoying', 'smile', 'brotherly', 'freed', 'celebratory', 'loyalty', 'dead-on', 'obsession', 'entrancing', 'godlike', 'righten', 'willing', 'flourishing', 'rightfully', 'saintliness', 'wealthy', 'amenable', 'sensations', 'fastest-growing', 'illumine', 'splendid', 'sweetness', 'worked', 'outdone', 'appropriate', 'delightful', 'versatile', 'dexterous', 'consistently', 'outperforming', 'magic', 'spellbound', 'classy', 'polite', 'lovable', 'ardent', 'heros', 'compassionate', 'versatility', 'sumptuousness', 'ingenuously', 'formidable', 'pinnacle', 'cheer', 'god-given', 'awestruck', 'contrasty', 'affordably', 'economical', 'boundless', 'harmony', 'inviolable', 'protection', 'intelligible', 'playful', 'astonish', 'cooperative', 'clever', 'ecstatically', 'assurances', 'awards', 'undisputed', 'freedoms', 'ingenious', 'plush', 'hilarious', 'magnanimously', 'energetic', 'striking', 'all-around', 'dumbfounded', 'merriment', 'masterfully', 'convienient', 'deft', 'sweetheart', 'assurance', 'skillful', 'mature', 'gratifyingly', 'heaven', 'enchantingly', 'lover', 'triumphantly', 'astonishment', 'tranquility', 'commend', 'marvelled', 'solicitous', 'fortuitously', 'profuse', 'wowed', 'excited', 'hero', 'breathlessness', 'applaud', 'blissful', 'colorful', 'luster', 'progressive', 'selective', 'protect', 'well-backlit', 'jubiliant', 'exhilaratingly', 'alluringly', 'articulate', 'abundance', 'exceptional', 'happiness', 'adulatory', 'graciously', 'aspire', 'pain-free', 'prolific', 'lucky', 'avid', 'compassion', 'regal', 'rejuvenate', 'cleanest', 'easiness', 'goodwill', 'superiority', 'efficacious', 'upbeat', 'best-selling', 'entertain', 'respite', 'incredible', 'confident', 'magnificence', 'expeditiously', 'regard', 'lush', 'bless', 'reliably', 'admirable', 'mighty', 'reverence', 'innocuous', 'decent', 'pleasant', 'cohere', 'saintly', 'well-made', 'precise', 'reverently', 'morality', 'obsessions', 'roomy', 'whooa', 'peppy', 'exultation', 'accomodative', 'lucrative', 'rapturously', 'amicability', 'patiently', 'cost-effective', 'remarkable', 'sensationally', 'fancier', 'enchanting', 'feasible', 'astonishing', 'altruistically', 'liked', 'loveliness', 'extoll', 'zippy', 'nicest', 'polished', 'fecilitous', 'overtakes', 'snappy', 'knowledgeable', 'staunchness', 'purposeful', 'amazement', 'sufficiently', 'fidelity', 'thinner', 'appreciate', 'significant', 'sumptuously', 'smarter', 'better-known', 'renewed', 'lionhearted', 'striving', 'replaceable', 'affluent', 'providence', 'palatial', 'achievable', 'invigorate', 'reliable', 'recover', 'skill', 'handily', 'champ', 'rewardingly', 'well-behaved', 'ergonomical', 'well-bred', 'staunchly', 'splendor', 'heartily', 'achievible', 'stimulative', 'survivor', 'spotless', 'paradise', 'altruistic', 'pleasingly', 'spectacularly', 'foremost', 'unparalleled', 'inpressed', 'noble', 'phenomenally', 'honesty', 'comely', 'lead', 'poised', 'defeats', 'skilled', 'lighter', 'adoring', 'harmless', 'jollify', 'adulate', 'irresistibly', 'wonderously', 'buoyant', 'eagerly', 'amicably', 'loving', 'undisputable', 'recovery', 'wisely', 'veritable', 'modesty', 'rightness', 'outwit', 'enticingly', 'issue-free', 'vouchsafe', 'encourage', 'coherent', 'abound', 'dynamic', 'spellbind', 'prominence', 'fervidly', 'inspire', 'jubilation', 'fresher', 'well-run', 'influential', 'brilliance', 'right', 'succeeding', 'excellent', 'maturely', 'tenacity', 'speedily', 'hands-down', 'richer', 'visionary', 'refresh', 'defeating', 'stimulating', 'idolized', 'warm', 'leverage', 'flatteringly', 'improve', 'exuberance', 'effectual', 'exceeds', 'dominates', 'praiseworthy', 'accurate', 'revolutionary', 'conscientious', 'frolic', 'optimal', 'charming', 'luxurious', 'triumphal', 'courage', 'overtake', 'exciting', 'enjoyable', 'kindly', 'lovably', 'solid', 'efficient', 'tantalizingly', 'cuteness', 'nourishment', 'counter-attack', 'mercifully', 'unreal', 'halcyon', 'remedy', 'grateful', 'likes', 'entranced', 'salutary', 'booming', 'meaningful', 'willingness', 'upgradable', 'smartest', 'nobly', 'cheaper', 'like', 'energize', 'blissfully', 'gainful', 'rejoice', 'blossom', 'affirmation', 'complemented', 'elan', 'excitedness', 'adorable', 'joyfully', 'peace', 'sharpest', 'toll-free', 'empathy', 'virtuous', 'brighten', 'profusion', 'infallibility', 'perfect', 'peacekeepers', 'dignify', 'tranquil', 'brave', 'glimmer', 'warmhearted', 'diligence', 'revolutionized', 'celebrate', 'useful', 'fortunately', 'dignity', 'accessable', 'raptureous', 'celebrated', 'proper', 'kindness', 'darling', 'gladden', 'won', 'fame', 'miraculously', 'personalized', 'compact', 'genial', 'appealing', 'great', 'brilliant', 'perfection', 'ebulliently', 'delicate', 'improvement', 'virtue', 'wonderfully', 'reward', 'accolades', 'outstandingly', 'intelligence', 'beneficial', 'preferably', 'smooth', 'decency', 'resourceful', 'majestic', 'captivating', 'immaculate', 'righteous', 'liberate', 'fantastic', 'enliven', 'succeed', 'dummy-proof', 'heavenly', 'brainy', 'solace', 'romantically', 'defeated', 'fair', 'compactly', 'neatest', 'qualify', 'revelation', 'succeeded', 'trivially', 'upliftment', 'savior', 'intuitive', 'trendy', 'thrills', 'support', 'entice', 'dirt-cheap', 'luxury', 'outshine', 'dazzling', 'resilient', 'excitedly', 'ultra-crisp', 'euphoric', 'proficiently', 'rich', 'enthrall', 'err-free', 'idolize', 'protective', 'jubilantly', 'attractively', 'fervently', 'groundbreaking', 'pepping', 'well-informed', 'delicious', 'ingeniously', 'reaffirmation', 'calmness', 'monumental', 'cooperatively', 'keenness', 'benefactor', 'self-sufficiency', 'reconciliation', 'thumb-up', 'ardently', 'fascination', 'surreal', 'convenience', 'gratified', 'self-satisfaction', 'truthful', 'earnest', 'excites', 'flutter', 'unassailable', 'valiantly', 'trustingly', 'thoughtfulness', 'worth', 'eminence', 'awsome', 'impresses', 'invaluable', 'effortlessly', 'greatest', 'amity', 'enticed', 'tempting', 'encouraging', 'enthusiastically', 'trusted', 'luck', 'positively', 'understandable', 'piety', 'effusive', 'problem-free', 'fine', 'conveniently', 'titillate', 'effective', 'manageable', 'divinely', 'enhances', 'accomplishment', 'adaptable', 'commendable', 'illustrious', 'civilize', 'gain', 'refund', 'pamper', 'trophy', 'brighter', 'jolly', 'exaltation', 'user-friendly', 'approve', 'gold', 'thrive', 'principled', 'honor', 'happier', 'patriot', 'ambitiously', 'hail', 'indulgent', 'desirable', 'enjoyably', 'glee', 'high-spirited', 'glitz', 'enjoys', 'convience', 'inventive', 'eye-catch', 'gainfully', 'laudably', 'simplifying', 'thoughtfully', 'victorious', 'openness', 'warmer', 'enjoyed', 'ideal', 'generously', 'efficiently', 'easy', 'paramount', 'easy-to-use', 'handsome', 'heartening', 'extol', 'faithfully', 'heroize', 'ease', 'affordable', 'fabulous', 'progress', 'clearer', 'ideally', 'oasis', 'superior', 'spellbinding', 'sincere', 'smartly', 'renowned', 'enough', 'merriness', 'refreshed', 'receptive', 'reforming', 'enterprising', 'reasoned', 'rockstar', 'integrated', 'tough', 'exalted', 'geekier', 'remunerate', 'self-sufficient', 'marvels', 'talents', 'well-wishers', 'trustworthiness', 'clear', 'radiance', 'fairness', 'invaluablely', 'cozy', 'idyllic', 'transparent', 'appreciable', 'mesmerizes'}\n",
            "\n",
            "Negative words\n",
            "{'repugnant', 'disrespectfully', 'stupor', 'criticize', 'doubtfully', 'flaws', 'clique', 'cutthroat', 'farcical', 'smear', 'trick', 'wedge', 'complains', 'grumble', 'grossly', 'appalled', 'ghosting', 'agonize', 'interferes', 'tetchily', 'discourteously', 'insufficiently', 'propaganda', 'drastic', 'arduously', 'incivility', 'scold', 'tentative', 'unavoidably', 'jerk', 'illusions', 'crush', 'fudge', 'jitter', 'languor', 'wrest', 'appallingly', 'invalidate', 'faze', 'coarse', 'ire', 'futilely', 'melodramatic', 'imminently', 'slur', 'dishonorable', 'harpy', 'commotion', 'deluge', 'messy', 'overzealously', 'lethal', 'downfall', 'inhospitality', 'restriction', 'swelling', 'tantrum', 'bewail', 'concern', 'inteferes', 'discontinued', 'languorous', 'thug', 'lull', 'gimmicking', 'hypocrisy', 'puppet', 'unwilling', 'ironies', 'dissonant', 'offensive', 'cripple', 'unlamentably', 'conflict', 'tramp', 'falling', 'inhuman', 'discouragingly', 'gauche', 'stench', 'unlicensed', 'indecisive', 'disapointment', 'downbeat', 'flares', 'forsake', 'badly', 'conflicting', 'downer', 'objection', 'uncomfortable', 'appal', 'demonizing', 'deficient', 'flee', 'ill-usage', 'irreformable', 'isolate', 'doldrums', 'gimmick', 'paralyzed', 'turbulent', 'foul', 'impulsive', 'brash', 'defamatory', 'lapsed', 'dismissively', 'incitement', 'decrement', 'obsolete', 'abrasive', 'scummy', 'zap', 'stupified', 'clueless', 'failing', 'exasperated', 'lethargy', 'fluster', 'depraved', 'misgiving', 'suspiciously', 'inexpertly', 'anti-proliferation', 'creepy', 'imposers', 'deception', 'slut', 'wheedle', 'averse', 'dazed', 'grievously', 'imperfection', 'recklessly', 'superficiality', 'zombie', 'uncomfy', 'precipitous', 'cancer', 'disingenuous', 'dissidence', 'reproachful', 'smelled', 'delays', 'clouding', 'distaste', 'unproductive', 'problem', 'rancor', 'mockeries', 'overshadow', 'fatal', 'wobble', 'dread', 'hesitant', 'prison', 'abolish', 'sarcastic', 'impaired', 'imperfections', 'bleakly', 'confused', 'brainless', 'incongruously', 'intransigent', 'mudslinging', 'saggy', 'improbable', 'troublesomely', 'ruthlessly', 'acerbic', 'violate', 'cheating', 'indecision', 'pessimistic', 'harm', 'fear', 'beseech', 'puny', 'stalemate', 'stridently', 'ashamed', 'despondent', 'implausibly', 'objections', 'ostracize', 'straggle', 'tragedy', 'burned', 'senselessly', 'bugging', 'moot', 'unimaginably', 'neurotic', 'polluters', 'anomaly', 'outburst', 'unaffordable', 'unusually', 'unreachable', 'burn', 'cracked', 'irrational', 'second-class', 'uncouth', 'plunder', 'impose', 'challenging', 'procrastination', 'wild', 'sloow', 'stupidity', 'fuck', 'greasy', 'jutters', 'dilapidated', 'worrisome', 'bust', 'spook', 'tarnishing', 'unreasonable', 'dismissive', 'disoobedient', 'mischievous', 'torment', 'fierce', 'cravenly', 'critics', 'rejection', 'imbroglio', 'fails', 'grief', 'officious', 'glut', 'regress', 'malevolence', 'corrupt', 'turmoil', 'laid-off', 'savages', 'torturing', 'dwindling', 'rigidness', 'abrupt', 'impeach', 'disadvantage', 'wrongly', 'aggravate', 'miss', 'strained', 'indeterminably', 'punitive', 'ungrateful', 'virulently', 'inflammed', 'dearth', 'incapable', 'infernal', 'glower', 'mistakenly', 'baffling', 'beguile', 'goof', 'pretend', 'fragile', 'refused', 'semi-retarded', 'skinny', 'overwhelm', 'trouble', 'overbearing', 'insidiously', 'sinking', 'eccentric', 'mislike', 'prickle', 'misreading', 'paltry', 'roadblocks', 'sneering', 'immobilized', 'pillage', 'stagnation', 'top-heavy', 'solemn', 'trapped', 'trivialize', 'freaks', 'imperious', 'slanders', 'zealot', 'devastates', 'snarl', 'desolation', 'capsize', 'cunts', 'glib', 'hard-hit', 'rifts', 'imprecision', 'faults', 'bullying', 'greed', 'scowl', 'vexing', 'dull', 'molest', 'overpaid', 'rascal', 'mocked', 'inconceivable', 'swagger', 'refutes', 'naive', 'distrustful', 'ignoble', 'divergent', 'odder', 'donside', 'womanizer', 'conceited', 'boil', 'rhetorical', '2-faces', 'scandalize', 'shamefulness', 'unwisely', 'awfully', 'compulsive', 'sillily', 'heckles', 'embarrassing', 'denunciations', 'forlorn', 'destabilisation', 'galls', 'harsh', 'imprudence', 'hopelessness', 'nightmarishly', 'ghetto', 'bullies', 'screech', 'floored', 'intimidation', 'devastatingly', 'sunken', 'licentiousness', 'pry', 'unskilled', 'bewildered', 'amputate', 'furor', 'butchery', 'odd', 'sueing', 'unhappy', 'uneasily', 'weird', 'disintegration', 'foulness', 'shark', 'sully', 'agonizing', 'clogged', 'satirical', 'devastation', 'unwieldy', 'choppy', 'deformed', 'kills', 'insensitivity', 'heckled', 'checkered', 'inimically', 'rubbish', 'disagree', 'mangled', 'oppressively', 'overkill', 'vainly', 'profanity', 'shortcomings', 'monotonous', 'dissapointed', 'expulse', 'ill-conceived', 'listless', 'outrageousness', 'retarded', 'manipulate', 'scolded', 'capriciously', 'acerbate', 'bragger', 'thorny', 'thoughtlessness', 'stalls', 'uncooperative', 'lumpy', 'domineering', 'dispiriting', 'discouraging', 'avenge', 'hell', 'impudence', 'snub', 'complaints', 'furiously', 'hideous', 'error', 'irrationals', 'lunaticism', 'mawkishly', 'resigned', 'outbursts', 'misunderstand', 'frets', 'hegemony', 'dismaying', 'jaundiced', 'disabled', 'disrespectfulness', 'irreparable', 'anti-occupation', 'affliction', 'ignominious', 'involuntarily', 'non-confidence', 'annihilate', 'trashed', 'fatuous', 'uproariously', 'crass', 'secretive', 'inundate', 'over-balanced', 'smallish', 'frustration', 'estranged', 'motionless', 'inadvisably', 'collusion', 'fanaticism', 'illness', 'abominate', 'nonexistent', 'crime', 'obstructs', 'degrading', 'fooled', 'epidemic', 'blindingly', 'hangs', 'zaps', 'infections', 'timid', 'gutless', 'ironic', 'disapointed', 'hypocrites', 'irragularity', 'self-interest', 'remorselessly', 'hurted', 'remorse', 'scarce', 'hopeless', 'impotent', 'sinisterly', 'washed-out', 'injury', 'traumatically', 'rumor', 'allergy', 'aggressor', 'backbiting', 'fall', 'misconceptions', 'frustrate', 'debilitating', 'slump', 'heresy', 'spendy', 'imperfectly', 'desiccate', 'ruined', 'befoul', 'inapt', 'unsteadily', 'desecrate', 'goon', 'ailing', 'symptoms', 'aimless', 'vindictively', 'unlikely', 'confined', 'gape', 'craps', 'presumptuously', 'unethical', 'quitter', 'disconcert', 'impatient', 'din', 'raving', 'petty', 'asperse', 'delayed', 'deny', 'unfaithful', 'opinionated', 'repulse', 'bearish', 'bitterness', 'bumped', 'cripples', 'subversive', 'cringe', 'sickness', 'bleeding', 'scapegoat', 'bad', 'ugliness', 'laughable', 'blockage', 'prejudice', 'grouchy', 'ungovernable', 'farfetched', 'squabbling', 'flare', 'oppress', 'poverty', 'autocratic', 'shockingly', 'weak', 'pandering', 'sneak', 'squeaky', 'defects', 'sucked', 'irate', 'junk', 'boycott', 'dreadfully', 'carnage', 'disobedient', 'outmoded', 'debility', 'rail', 'fulminate', 'regretful', 'ultimatums', 'penalize', 'hardliner', 'instability', 'fictional', 'insinuate', 'stricken', 'election-rigger', 'hestitant', 'inessential', 'decrepit', 'sober', 'nonresponsive', 'treacherously', 'castigate', 'hating', 'bondage', 'sidetrack', 'dreary', 'imperialist', 'upsettingly', 'inconstant', 'disconsolately', 'confounded', 'unusably', 'accusing', 'expire', 'lone', 'cheaply', 'infiltrator', 'dungeon', 'giddy', 'undignified', 'cheapen', 'dissuasive', 'ax', 'condemnable', 'vengefully', 'excessive', 'creak', 'startle', 'indifference', 'insincerely', 'so-cal', 'disconcerting', 'betrayal', 'disapproval', 'debase', 'disavowal', 'misjudge', 'hatefulness', 'ranted', 'fucking', 'shamelessly', 'snarky', 'shortcoming', 'reticent', 'taint', 'twists', 'antagonist', 'argumentative', 'undependable', 'wasting', 'worsen', 'mocking', 'inequalities', 'inordinately', 'hassles', 'inadvisable', 'bothersome', 'wrestle', 'coward', 'subjection', 'goofy', 'miserable', 'insensible', 'whimper', 'subdued', 'debts', 'delirium', 'commonplace', 'falsehood', 'disparaging', 'haunting', 'heinous', 'mistaken', 'blandish', 'moronic', 'pernicious', 'hedge', 'prejudicial', 'stigmatize', 'crippling', 'aggressive', 'cruelness', 'fictitious', 'maddening', 'biting', 'iniquity', 'impure', 'lacks', 'admonishingly', 'illicit', 'infraction', 'louder', 'monstrosities', 'venomously', 'paucity', 'ignorant', 'cry', 'contradictory', 'madly', 'pestilent', 'indiscriminating', 'unauthentic', 'infringement', 'sue', 'accuses', 'mists', 'disaffect', 'uglier', 'dispute', 'fleeting', 'monster', 'murky', 'belittled', 'subversively', 'sloppily', 'smokescreen', 'expensive', 'incredulous', 'compulsion', 'sarcasm', 'insufferably', 'throb', 'unnerved', 'shrouded', 'disappointment', 'boiling', 'bestial', 'detesting', 'occluded', 'weed', 'apathetically', 'propagandize', 'annoying', 'perilously', 'shrug', 'scorchingly', 'waste', 'foreboding', 'drunkard', 'blatantly', 'confusion', 'seriousness', 'screw-up', 'unkindly', 'mope', 'disbelief', 'err', 'stranger', 'contentious', 'disinclined', 'jealous', 'incessantly', 'bitch', 'inconsequently', 'scratches', 'punish', 'discontented', 'marginal', 'condemn', 'warned', 'discomfit', 'ill-used', 'back-wood', 'raped', 'messing', 'inaccuracies', 'dissembler', 'anti-white', 'snags', 'disgusted', 'inflammatory', 'frenetic', 'tiringly', 'indignity', 'overpayed', 'cartoonish', 'contempt', 'despairing', 'die-hard', 'grouse', 'abysmally', 'appalling', 'egocentric', 'idiot', 'unfeeling', 'lewdness', 'pauper', 'inordinate', 'tortures', 'overloaded', 'improper', 'invader', 'indiscriminately', 'futility', 'gibberish', 'shallow', 'stubborn', 'stump', 'vociferous', 'degradingly', 'impetuously', 'passiveness', 'exorbitantly', 'throttle', 'peeved', 'boring', 'afraid', 'crack', 'hard-liner', 'ineffectual', 'oppressive', 'pretentious', 'suffers', 'tanked', 'untouched', 'nefarious', 'bloodthirsty', 'regrets', 'scandel', 'unrealistic', 'disappointingly', 'viciousness', 'breaks', 'crafty', 'buckle', 'deceptively', 'dent', 'frightful', 'die', 'reproach', 'leak', 'torture', 'spew', 'aggrivation', 'disarray', 'indiscretion', 'stereotypically', 'banish', 'disobey', 'hastily', 'hamper', 'implicate', 'unforgiving', 'rascals', 'stampede', 'damaged', 'besiege', 'false', 'superstitious', 'unavailable', 'unproves', 'adulterate', 'discordance', 'rough', 'flaunt', 'partisans', 'stark', 'back-logged', 'squealing', 'dupe', 'errors', 'drag', 'partiality', 'irked', 'unacceptable', 'irksomeness', 'smut', 'massacres', 'malodorous', 'terror-genic', 'unintelligible', 'erosion', 'destruction', 'misconception', 'reprehensible', 'worriedly', 'ailment', 'dissuade', 'gravely', 'slowed', 'extortion', 'dropouts', 'pompous', 'indifferent', 'stupidest', 'disservice', 'awkward', 'disillusioned', 'pitiable', 'interruptions', 'pique', 'slog', 'snappish', 'idle', 'destructive', 'fright', 'aching', 'inexcusable', 'plight', 'dispirited', 'fidgety', 'senseless', 'object', 'audiciously', 'domineer', 'envious', 'hard', 'downheartedly', 'heartbreakingly', 'warily', 'defiance', 'ferocity', 'musty', 'insolently', 'peevish', 'fracture', 'apathy', 'immovable', 'snob', 'unstable', 'wretched', 'monotony', 'confessions', 'miserably', 'dullard', 'anti-social', 'scratchy', 'contaminate', 'harassed', 'impossiblity', 'faithless', 'battered', 'imprecisely', 'abusive', 'famine', 'ineligible', 'preposterous', 'bully', 'inflationary', 'plasticky', 'full-blown', 'brute', 'maliciousness', 'pugnacious', 'perverted', 'guile', 'skeletons', 'sty', 'unfavorable', 'failures', 'contemptible', 'hegemonistic', 'powerless', 'sneaky', 'asininely', 'omission', 'defame', 'astray', 'imprisonment', 'lambast', 'lurking', 'ravage', 'inefficiently', 'haze', 'improperly', 'kook', 'tamper', 'extraneous', 'questionable', 'wanton', 'derisive', 'erroneously', 'tyrannical', 'head-aches', 'annoyingly', 'decry', 'harrow', 'travesty', 'matte', 'infuriate', 'unbearablely', 'egregiously', 'provocative', 'audaciously', 'ding', 'sink', 'disadvantaged', 'embroiled', 'hoodium', 'brutally', 'fustigate', 'taunt', 'unsupportive', 'aghast', 'melancholy', 'swipe', 'scornfully', 'absentee', 'deceit', 'stink', 'confess', 'nervously', 'insignificant', 'leech', 'impossibly', 'overstated', 'petrified', 'wimpy', 'extravagance', 'scratch', 'unsettled', 'unwanted', 'coerce', 'condescend', 'occludes', 'shrivel', 'obsessive', 'warlike', 'idiocies', 'catastrophically', 'inevitable', 'undersized', 'foolishness', 'mishap', 'sloth', 'autocrat', 'dizzing', 'abnormal', 'long-winded', 'squash', 'suffer', 'infidels', 'calumniation', 'inconsistence', 'mourn', 'deviousness', 'divisive', 'crushed', 'horrifys', 'demoralizingly', 'sag', 'ripped', 'corrupts', 'dubiously', 'incompetent', 'chafe', 'harbors', 'recalcitrant', 'lawless', 'tingling', 'insultingly', 'utterly', 'smoke', 'distasteful', 'imperfect', 'tainted', 'geezer', 'fault', 'crappy', 'underpaid', 'defiantly', 'tiresome', 'unjust', 'despoiler', 'letch', 'breach', 'viper', 'unwell', 'loner', 'agonizingly', 'controversial', 'catastrophe', 'evil', 'infuriating', 'inaccuracy', 'backwardness', 'miscreants', 'ineloquently', 'eccentricity', 'scandalously', 'scourge', 'doom', 'noise', 'sabotage', 'sinfully', 'disgraced', 'foolishly', 'struggles', 'unresponsive', 'blackmail', 'irregularity', 'rumours', 'diatribe', 'scoundrel', 'unhealthy', 'misleadingly', 'intolerablely', 'infirm', 'negligent', 'addicted', 'cataclysm', 'injure', 'irrelevant', 'suffered', 'scariest', 'unclear', 'unleash', 'heartbreaking', 'backaches', 'misrepresentation', 'unforeseen', 'forged', 'untruthful', 'unsuspecting', 'disapprobation', 'inexorable', 'forbid', 'travesties', 'hoard', 'acrimoniously', 'inability', 'trauma', 'sham', 'undermines', 'exterminate', 'complex', 'opponent', 'war-like', 'fastidiously', 'impending', 'miscreant', 'defunct', 'hampered', 'madder', 'fissures', 'laggy', 'erratic', 'simplistically', 'lanky', 'thirst', 'snag', 'struggle', 'menacing', 'vex', 'superficial', 'unsure', 'handicapped', 'disagreeably', 'bulky', 'inclement', 'congested', 'guilt', 'rankle', 'lonesome', 'mania', 'stolen', 'aches', 'denunciate', 'feign', 'coercive', 'undercuts', 'ache', 'instigators', 'intrusion', 'peevishly', 'endanger', 'enmity', 'slug', 'premeditated', 'volatile', 'mad', 'delay', 'indecisively', 'exhaustion', 'lacking', 'negative', 'unfounded', 'snappishly', 'inexpert', 'ingrate', 'diappointed', 'shock', 'hothouse', 'imbecile', 'brutality', 'dictator', 'leaks', 'shake', 'forlornly', 'joke', 'two-faced', 'distressingly', 'arcane', 'breakup', 'haughtily', 'incompliant', 'incorrectly', 'bizarre', 'fatty', 'impatiently', 'offender', 'tediously', 'freezes', 'diabolical', 'erratically', 'meddlesome', 'reprimand', 'unsupported', 'dissonantly', 'stinging', 'indecency', 'allergic', 'doubts', 'demonizes', 'frazzle', 'frost', 'obsessiveness', 'suspicion', 'arrogant', 'insecure', 'unusable', 'inescapable', 'dismalness', 'overlook', 'pig', 'bait', 'corruptted', 'harmful', 'tired', 'offending', 'recant', 'spurn', 'fail', 'shamelessness', 'undesirable', 'fundamentalism', 'cliche', 'fool', 'hazardous', 'exaggeration', 'distress', 'skulk', 'obese', 'grumpily', 'sucky', 'laconic', 'bugs', 'scathingly', 'tortured', 'vomit', 'gritty', 'protests', 'staid', 'defy', 'irrationality', 'defect', 'unexplained', 'tentatively', 'exasperate', 'overthrow', 'vagueness', 'irk', 'illogically', 'ineffectually', 'inflame', 'disregard', 'ripoff', 'insincerity', 'blemish', 'loath', 'insolvent', 'misbecome', 'apprehensive', 'harried', 'rip', 'snare', 'beleaguer', 'crumbling', 'complicit', 'crumpled', 'despoil', 'impossible', 'spiteful', 'pest', 'shameless', 'exasperation', 'overwhelmingly', 'unsettlingly', 'dirtbags', 'fastidious', 'pervasive', 'opposition', 'hazard', 'overturn', 'gaffe', 'monstrosity', 'stern', 'suspicious', 'obsessively', 'bereft', 'subservient', 'liars', 'devoid', 'tormented', 'toughness', 'crude', 'irreplacible', 'belittling', 'daze', 'stigma', 'unproving', 'lovelorn', 'restricted', 'direness', 'anemic', 'horrible', 'remorsefully', 'slanderous', 'tumbles', 'unconvincingly', 'victimize', 'rumple', 'worn', 'fret', 'nefariously', 'whine', 'soreness', 'galling', 'martyrdom', 'overacted', 'spoilled', 'bruised', 'stresses', 'troubled', 'ineptly', 'diffidence', 'drastically', 'mirage', 'blatant', 'infringe', 'flagging', 'unreliability', 'diabolic', 'inoperable', 'worry', 'disillusionment', 'chintzy', 'swindle', 'fractiously', 'flareups', 'dissocial', 'naively', 'dangerous', 'inequitably', 'audaciousness', 'menial', 'corrupting', 'defamations', 'blotchy', 'stymied', 'obnoxious', 'bored', 'fanatics', 'bigotries', 'traduce', 'divisively', 'disloyal', 'scoff', 'burning', 'brutalize', 'brimstone', 'grudge', 'stupify', 'craven', 'dripping', 'smolder', 'pretentiously', 'nag', 'regret', 'deprive', 'liability', 'maltreatment', 'rile', 'sneakily', 'tortuous', 'inconsequential', 'pervert', 'pretense', 'adulterier', 'cancerous', 'torrent', 'insubordinate', 'demonic', 'arbitrary', 'fumes', 'vibration', 'confounding', 'bedlam', 'wince', 'baseless', 'bashed', 'tiring', 'annoyances', 'peeve', 'haggard', 'atrophy', 'careless', 'antagonize', 'posturing', 'spoilages', 'offensiveness', 'fiendish', 'riled', 'tease', 'debilitate', 'dissident', 'rivalry', 'spade', 'evils', 'dungeons', 'underpowered', 'complaining', 'murder', 'resentful', 'debauch', 'horrendously', 'ingratitude', 'sluggish', 'squabble', 'misfit', 'panders', 'tangled', 'graft', 'little-known', 'lame', 'teasingly', 'damages', 'dodgey', 'repulsing', 'restrict', 'repulsively', 'counter-productive', 'felonious', 'meager', 'unnecessary', 'ridiculously', 'unintelligile', 'breakups', 'revile', 'flirty', 'contrived', 'smell', 'drains', 'exclusion', 'spiritless', 'starvation', 'strange', 'unorthodoxy', 'militancy', 'evasive', 'writhe', 'despondence', 'reprove', 'grieve', 'mischief', 'unfamiliar', 'brashness', 'misleading', 'dump', 'stew', 'vociferously', 'bewilderingly', 'maladjustment', 'illusion', 'discordant', 'shabby', 'facetious', 'acrimonious', 'negate', 'misguide', 'scuffs', 'shimmy', 'vain', 'ill-mannered', 'tepid', 'overweight', 'virulence', 'accursed', 'disparage', 'grisly', 'invalid', 'fatuously', 'runaway', 'problematic', 'unachievable', 'detriment', 'exhausts', 'provocation', 'lacked', 'rusty', 'oppose', 'loophole', 'demeaning', 'cumbersome', 'authoritarian', 'fatigued', 'callous', 'pales', 'volatility', 'inconsequentially', 'suppression', 'hoodwink', 'enemy', 'bleeds', 'god-awful', 'harboring', 'prejudge', 'murderer', 'fallout', 'lure', 'shortsightedness', 'impurity', 'selfinterested', 'tempest', 'bloated', 'outcry', 'mawkishness', 'biases', 'miscellaneous', 'fallaciously', 'bombardment', 'lewdly', 'nervous', 'undercutting', 'imposition', 'offence', 'deprave', 'bullshyt', 'hogs', 'barren', 'atrocious', 'intense', 'corruption', 'difficult', 'low-rated', 'illogical', 'inexplainable', 'unipolar', 'bereave', 'egotism', 'unprove', 'precarious', 'scarcely', 'wrongful', 'depressing', 'spoonfed', 'subvert', 'expired', 'occlude', 'loathing', 'layoff-happy', 'maniacal', 'gruesomely', 'bothers', 'loneliness', 'distressed', 'growl', 'sues', 'culpable', 'toil', 'downturns', 'immoderate', 'malignant', 'oppression', 'demolisher', 'livid', 'usurp', 'misunderstandings', 'lackeys', 'earsplitting', 'misfortune', 'oblivious', 'misbegotten', 'obscured', 'pigs', 'slime', 'incommensurate', 'mystery', 'sedentary', 'incompetently', 'disparagingly', 'dispensable', 'gimmicky', 'overstates', 'poorer', 'wickedly', 'bash', 'oversimplify', 'pitifully', 'pathetic', 'bulkiness', 'prohibitively', 'rebuff', 'woebegone', 'hater', 'ill-tempered', 'upsets', 'pollute', 'sporadic', 'torturous', 'temper', 'ugliest', 'alienate', 'calumniate', 'criticisms', 'drab', 'cruelty', 'farce', 'gimmicked', 'contort', 'importune', 'indecently', 'aweful', 'dissatisfying', 'scam', 'audacious', 'fallen', 'inextricable', 'undocumented', 'douchbag', 'insociable', 'corrosions', 'exorbitant', 'unthinkable', 'disavow', 'inundated', 'mistrust', 'dissemble', 'crueler', 'incredulously', 'intimidating', 'ploy', 'dope', 'hung', 'starkly', 'thumb-down', 'dilly-dally', 'disaster', 'predicament', 'quibbles', 'rumors', 'backache', 'mindlessly', 'clash', 'conspirator', 'contagious', 'hellion', 'retards', 'illiterate', 'mangles', 'untested', 'tricked', 'uncivilized', 'ludicrous', 'occluding', 'raging', 'declaim', 'dizzy', 'hawkish', 'heretic', 'afflict', 'devastating', 'nervousness', 'stun', 'costly', 'foolhardy', 'indolent', 'acrimony', 'confound', 'vengeful', 'absent-minded', 'misbecoming', 'mistress', 'wounds', 'detracted', 'disputable', 'patronize', 'brat', 'effrontery', 'flakey', 'aborted', 'water-down', 'acridly', 'vicious', 'emasculate', 'apocalyptic', 'imperiously', 'choke', 'sobering', 'venom', 'unrelentingly', 'brutal', 'backwoods', 'refusing', 'sloppy', 'obstructed', 'sourly', 'misuse', 'bastards', 'unfriendly', 'sadly', 'rusts', 'sued', 'freakishly', 'offensively', 'pariah', 'sick', 'chatterbox', 'cynical', 'degeneration', 'lags', 'immodest', 'insufficient', 'arrogance', 'worthlessness', 'discord', 'quarrels', 'troubles', 'nebulous', 'unfunded', 'pleas', 'upset', 'ridiculous', 'miser', 'dud', 'mysterious', 'issue', 'dizzingly', 'divisiveness', 'effigy', 'spoiled', 'gloomy', 'illegally', 'glum', 'infringements', 'ill-favored', 'scant', 'rape', 'chunky', 'lewd', 'throbbed', 'perversely', 'craftly', 'exhausted', 'itchy', 'obstinate', 'unworthy', 'unbelievable', 'obstructing', 'weaknesses', 'douchebags', 'last-ditch', 'over-acted', 'cussed', 'mispronounce', 'fugitive', 'dumbfound', 'misaligns', 'jaded', 'latency', 'remorselessness', 'aggression', 'stumbles', 'expunge', 'indignation', 'childish', 'irritated', 'altercation', 'monstrously', 'woe', 'disapproving', 'pinch', 'feverish', 'disorder', 'quarrel', 'worse', 'disprove', 'inefficacy', 'tingled', 'fat-cat', 'waning', 'imprison', 'scare', 'onerous', 'multi-polarization', 'absence', 'deviate', 'strangely', 'bombastic', 'crazily', 'stole', 'unconstitutional', 'incorrect', 'diabolically', 'deride', 'difficulty', 'revert', 'underdog', 'brashly', 'unequal', 'wrip', 'bland', 'funnily', 'unnatural', 'dispiritedly', 'unresolved', 'delusional', 'freeze', 'unsuccessful', 'stiff', 'trash', 'dinky', 'deplorable', 'blinding', 'halfhearted', 'rantingly', 'insignificantly', 'violator', 'scarred', 'heartless', 'disrespecting', 'faint', 'irregular', 'leer', 'obscenity', 'lagged', 'sub-par', 'hate', 'fabrication', 'incorrigible', 'unfairly', 'failed', 'insufficiency', 'chastise', 'languid', 'tangle', 'berate', 'destroy', 'picket', 'mindless', 'recessionary', 'insidious', 'lawbreaker', 'morbid', 'desititute', 'incompatible', 'irrecoverable', 'job-killing', 'mediocrity', 'loser', 'urgent', 'vibrates', 'belittle', 'taunts', 'vibrate', 'wreck', 'damnation', 'disgruntle', 'hardened', 'dropout', 'shoddy', 'dissent', 'desert', 'belligerently', 'bulkier', 'faulty', 'spookier', 'retardedness', 'woeful', 'encroach', 'lemon', 'buzzing', 'hardball', 'oppressors', 'oversights', 'contortions', 'disliked', 'apologists', 'unwatchable', 'deficiency', 'embarrassment', 'feeble', 'fussy', 'overblown', 'pitiful', 'sickly', 'dislike', 'wrought', 'reactionary', 'stiffness', 'stringently', 'bullyingly', 'mistrustfully', 'misinformed', 'unprepared', 'fat-cats', 'incompatibility', 'spewed', 'extinguish', 'ineloquent', 'steeply', 'filth', 'disquiet', 'twist', 'languish', 'tangles', 'dumps', 'squander', 'unspeakable', 'contaminates', 'disruption', 'conceded', 'disreputable', 'slowwww', 'traumatic', 'audacity', 'overdue', 'precariously', 'liar', 'tricky', 'relentlessness', 'uneasy', 'villify', 'bungle', 'absurd', 'mangle', 'overdo', 'errant', 'obscures', 'protest', 'unlawfully', 'tarnishes', 'drop-outs', 'disturb', 'slowest', 'humiliate', 'crumble', 'anxiousness', 'inappropriate', 'nastiness', 'obtuse', 'funny', 'grind', 'break-up', 'silly', 'exorbitantance', 'virulent', 'flighty', 'martyrdom-seeking', 'slumpping', 'entrap', 'scandalous', 'denigrate', 'unworkable', 'fascism', 'dead', 'unrest', 'upsetting', 'displeasing', 'vehement', 'implausible', 'stuttered', 'over-hyped', 'rife', 'scathing', 'strictly', 'unsettling', 'belabor', 'heavyhearted', 'plot', 'terror', 'ultra-hardline', 'hurt', 'degrade', 'hang', 'intolerance', 'invalidity', 'lackluster', 'conspicuous', 'menacingly', 'paupers', 'inelegance', 'sadness', 'irritable', 'toxic', 'discouragement', 'usurper', 'tenuously', 'lier', 'retaliatory', 'malevolently', 'moribund', 'deject', 'discomfort', 'boredom', 'hostage', 'farcically', 'embroil', 'ambivalence', 'fanatic', 'disinterest', 'assault', 'brazenly', 'gripes', 'dejection', 'fraud', 'idiots', 'craftily', 'derisiveness', 'disadvantageous', 'lame-duck', 'smoldering', 'spinster', 'disdainfully', 'dissenter', 'collude', 'harms', 'buggy', 'decrepitude', 'hazy', 'ignominy', 'condemnation', 'undid', 'deceive', 'assassin', 'belligerence', 'inconsolably', 'insanely', 'prejudices', 'ruin', 'strain', 'uncivil', 'dragged', 'spoon-feed', 'danger', 'pedantic', 'bunk', 'illusory', 'sour', 'bumpy', 'neglect', 'injustices', 'unwillingly', 'distrusting', 'slumping', 'instigator', 'declines', 'numb', 'self-criticism', 'neglected', 'misinform', 'busts', 'fleeing', 'nauseate', 'dissappointed', 'disappoint', 'irrecoverableness', 'chronic', 'refuting', 'retard', 'degenerately', 'traitorous', 'indiscreet', 'mistakes', 'casualty', 'dismal', 'mushy', 'precipitate', 'discombobulate', 'backward', 'demise', 'extravagantly', 'impair', 'loathsomely', 'capitulate', 'rampant', 'absurdly', 'shocking', 'unreliable', 'whips', 'ail', 'incapably', 'inaudible', 'servitude', 'villains', 'rut', 'assult', 'lag', 'troublesome', 'worrying', 'egotistically', 'somber', 'downhearted', 'overwhelms', 'quandary', 'severity', 'deprived', 'immaterial', 'flees', 'hallucinate', 'harridan', 'traumatize', 'uproarously', 'wariness', 'needless', 'baffled', 'eviscerate', 'darken', 'flairs', 'ludicrously', 'mockery', 'shunned', 'discredit', 'paranoia', 'cloudy', 'dastardly', 'corrosive', 'flakieness', 'dehumanize', 'hardhearted', 'inconsequent', 'unfaithfully', 'infamous', 'self-destructive', 'spilling', 'spookily', 'malcontented', 'bonkers', 'damaging', 'fidget', 'snobish', 'resentment', 'sceptical', 'zapped', 'tawdry', 'beg', 'toll', 'deter', 'dimmer', 'mourner', 'dubious', 'disgust', 'busybody', 'downgrade', 'revenge', 'thwart', 'fabricate', 'sorrowfully', 'perfunctory', 'unnaturally', 'misaligned', 'disgrace', 'snobby', 'sardonically', 'unpopular', 'stagnate', 'inane', 'qualms', 'unfulfilled', 'wrath', 'indignantly', 'lackey', 'aggravating', 'longing', 'recession', 'obnoxiously', 'trashy', 'gibber', 'splitting', 'obscene', 'resurgent', 'dissatisfactory', 'shambles', 'tension', 'hells', 'concession', 'gripe', 'sob', 'stunted', 'slooow', 'egregious', 'infamously', 'sufferers', 'obliterated', 'villianous', 'pointlessly', 'terribleness', 'bicker', 'inexperienced', 'defrauding', 'frigging', 'nettle', 'discontentedly', 'overheat', 'unsecure', 'wound', 'fatalistically', 'disloyalty', 'stubbornness', 'plaything', 'prosecute', 'reluctance', 'spoilage', 'balk', 'bitingly', 'paralize', 'suspect', 'fractious', 'angriness', 'ghastly', 'killjoy', 'unwelcome', 'warped', 'worthless', 'ineptitude', 'resent', 'restrictive', 'grumpish', 'inefficiency', 'rigid', 'ill-treatment', 'frustrations', 'rotten', 'obsess', 'pandemonium', 'mournful', 'mortification', 'anxious', 'crazy', 'difficulties', 'shiver', 'impinge', 'lurid', 'scrap', 'archaic', 'abomination', 'confusing', 'nagging', 'wreaked', 'flickering', 'over-awe', 'smugly', 'unjustifiably', 'regrettable', 'warp', 'grate', 'judders', 'obliterate', 'sadden', 'slave', 'bigotry', 'fascist', 'licentious', 'cuss', 'self-coup', 'stereotype', 'cringed', 'timidness', 'apologist', 'boastful', 'wane', 'gross', 'misguided', 'stiflingly', 'plea', 'hysterics', 'unspecified', 'accidental', 'loses', 'revolting', 'imprudent', 'sorrow', 'incoherent', 'mar', 'immorality', 'fatuity', 'illegitimate', 'disarm', 'ho-hum', 'berserk', 'distressing', 'deploringly', 'disintegrates', 'crowded', 'invidiousness', 'unsavory', 'inconsolable', 'dehumanization', 'unwillingness', 'infuriatingly', 'stress', 'irrecoverably', 'eruptions', 'asinininity', 'creaking', 'crumple', 'glitches', 'addicting', 'harangue', 'crooked', 'fanatically', 'derogatory', 'pity', 'botch', 'perplexity', 'coldly', 'impudent', 'hotheaded', 'limitation', 'derision', 'dick', 'thrash', 'deadweight', 'blister', 'barbarously', 'lambaste', 'despicably', 'displease', 'inaction', 'sidetracked', 'confession', 'hegemonism', 'omit', 'sloww', 'disturbing', 'poky', 'stubbornly', 'betrayer', 'treason', 'shit', 'erase', 'reviled', 'brusque', 'dastard', 'disappoints', 'impugn', 'damage', 'panic', 'refusal', 'predatory', 'offenses', 'selfishly', 'simplistic', 'absurdness', 'testy', 'strut', 'fearful', 'whores', 'obstinately', 'injudicious', 'irking', 'spoon-fed', 'horrid', 'unobserved', 'falls', 'indefensible', 'concessions', 'despotism', 'wastefulness', 'collapse', 'screwed-up', 'disillusions', 'smudge', 'trap', 'extravagant', 'gossip', 'rift', 'lousy', 'pillory', 'sad', 'thoughtless', 'chilly', 'insults', 'uninsured', 'brazen', 'grumpier', 'irksomenesses', 'delaying', 'rejects', 'bafflement', 'troubling', 'franticly', 'missed', 'disgruntled', 'vibrating', 'exile', 'jumpy', 'steal', 'bitter', 'ironical', 'notoriously', 'repugnance', 'fatalistic', 'stutter', 'resignation', 'rue', 'torturously', 'hard-line', 'sugarcoated', 'contaminating', 'disintegrate', 'headache', 'ambiguity', 'rejected', 'bombard', 'lawlessness', 'unfortunately', 'punishable', 'tedious', 'debaucher', 'deplore', 'presumptuous', 'susceptible', 'bum', 'subjected', 'belie', 'punch', 'rogue', 'genocide', 'meaningless', 'oversight', 'relentless', 'repel', 'longingly', 'scream', 'devilry', 'preoccupy', 'pretence', 'lack', 'revengefully', 'anti-israeli', 'notoriety', 'malice', 'idiotically', 'stinks', 'awful', 'aspersions', 'disgustfully', 'dishearten', 'grumpiest', 'inhibition', 'brittle', 'itching', 'slothful', 'd*mn', 'blurring', 'inactive', 'weirdly', 'blockhead', 'grumpy', 'bewitch', 'garish', 'hurts', 'miscalculate', 'killer', 'incomplete', 'panicky', 'muscle-flexing', 'cloud', 'avarice', 'distract', 'one-sided', 'touchy', 'warning', 'bribery', 'gall', 'brutish', 'sloooow', 'stooge', 'awkwardness', 'bother', 'deadly', 'lecher', 'hasty', 'discompose', 'disastrously', 'perverse', 'freak', 'besmirch', 'disgustful', 'fastuous', 'slashing', 'smash', 'struggling', 'freezing', 'helpless', 'addict', 'drawback', 'outsider', 'ambivalent', 'superstition', 'distraughtness', 'threat', 'bleed', 'harden', 'inhumane', 'wrinkled', 'jarring', 'slow-moving', 'engulf', 'inefficient', 'fearfully', 'burdensome', 'impasse', 'muddle', 'fallacies', 'repulsed', 'high-priced', 'substandard', 'inefficacious', 'messed', 'uproarous', 'denied', 'harassment', 'disappointments', 'paranoid', 'delinquency', 'dissatisfied', 'self-serving', 'fawningly', 'bid-rigging', 'picky', 'unable', 'haughty', 'crippled', 'mercilessly', 'boggle', 'gainsay', 'contamination', 'doddering', 'inexpiable', 'sagging', 'nauseates', 'undone', 'opportunistic', 'rremediable', 'anarchist', 'conspiracies', 'embarrassingly', 'forsaken', 'dubitable', 'impersonal', 'chaotic', 'molestation', 'scarcity', 'bowdlerize', 'betrayals', 'drained', 'exacerbate', 'maladjusted', 'irrationalities', 'brutalizing', 'pout', 'persecute', 'impolite', 'scaly', 'aspersion', 'crummy', 'hated', 'interference', 'violators', 'chaff', 'obstruct', 'contradict', 'blunders', 'fusty', 'reprehensibly', 'sicken', 'ignominiously', 'debt', 'jeering', 'ordeal', 'calamitous', 'unseemly', 'cowardly', 'worrier', 'sting', 'freaking', 'detracts', 'avariciously', 'regressive', 'downside', 'fleer', 'forswear', 'refuse', 'peculiarly', 'dauntingly', 'malevolent', 'sleazy', 'criticized', 'stammer', 'decadence', 'drain', 'catastrophes', 'dirt', 'commotions', 'perverts', 'embroilment', 'scum', 'bulkyness', 'halfheartedly', 'short-lived', 'frenzy', 'unbelievably', 'murderously', 'bitterly', 'complacent', 'emphatically', 'hapless', 'insinuation', 'quarrelsome', 'vengefulness', 'emaciated', 'plagiarize', 'vexingly', 'fallacy', 'vexation', 'crook', 'wallow', 'braggart', 'dangerousness', 'conspiracy', 'impatience', 'phobia', 'apocalypse', 'batty', 'breaking', 'unreasonably', 'hothead', 'hissing', 'froze', 'strike', 'incomprehension', 'junkyard', 'disdainful', 'tyrannically', 'limp', 'tyranny', 'unsophisticated', 'knock', 'inculcate', 'unhappiness', 'unsuccessfully', 'inopportune', 'detracting', 'ineffectively', 'infuriated', 'redundant', 'standstill', 'furious', 'risk', 'spotty', 'denounce', 'cave', 'hacks', 'grainy', 'irretating', 'fainthearted', 'cliched', 'idiocy', 'straggler', 'gaudy', 'diatribes', 'smouldering', 'dismally', 'horrifying', 'objectionable', 'annihilation', 'stifle', 'irresponsible', 'burns', 'depress', 'disintegrated', 'unsound', 'unuseable', 'radically', 'irrepressible', 'lonely', 'lose', 'scary', 'banishment', 'dusty', 'enervate', 'anger', 'wickedness', 'unwarranted', 'vulgar', 'deadlock', 'unscrupulously', 'accuse', 'explode', 'ineffective', 'weakening', 'thankless', 'wobbles', 'corrosion', 'suffering', 'ambush', 'extermination', 'hallucination', 'desolate', 'protested', 'unraveled', 'calumny', 'truant', 'defiler', 'dragging', 'unproved', 'bull****', 'disliking', 'miseries', 'wretchedness', 'rampage', 'discrepant', 'sugar-coat', 'failure', 'stifling', 'impedance', 'disrupt', 'calumnious', 'assassinate', 'humming', 'immoderately', 'overwhelming', 'undetermined', 'malcontent', 'jitters', 'juddering', 'indulge', 'selfishness', 'stormy', 'yawn', 'smack', 'cramped', 'hobble', 'screwy', 'spoil', 'hysteria', 'irritation', 'gawk', 'discontinuous', 'hooligan', 'inattentive', 'puzzlement', 'indoctrination', 'repulsive', 'steep', 'litigious', 'wasteful', 'creeping', 'delusion', 'blistering', 'intermittent', 'hasseling', 'weakness', 'complicated', 'combust', 'enviously', 'backbite', 'dreadfulness', 'hardliners', 'rigidity', 'satirize', 'heretical', 'feebleminded', 'blunder', 'uncontrolled', 'interrupt', 'atrocities', 'repudiate', 'debauchery', 'irretrievable', 'pain', 'inglorious', 'stingy', 'betrays', 'inanely', 'discontinuity', 'negativity', 'outrages', 'perfidity', 'revulsion', 'undermining', 'weariness', 'smelly', 'adamantly', 'barbarically', 'muddy', 'remorseless', 'violent', 'regression', 'greedy', 'forbidding', 'skittishly', 'spooky', 'morbidly', 'stuttering', 'scarier', 'strenuous', 'jutter', 'demonized', 'excessively', 'steals', 'prate', 'severe', 'scuff', 'haunt', 'goad', 'sly', 'uncertain', 'mislead', 'shrew', 'frantically', 'inferior', 'oddly', 'bashful', 'puzzled', 'dejectedly', 'mockingly', 'racism', 'diametrically', 'chaos', 'doubtful', 'restlessness', 'barbarous', 'irascible', 'sinister', 'squeal', 'lie', 'nepotism', 'hideousness', 'disaffirm', 'plague', 'parody', 'lied', 'sinful', 'sputter', 'left-leaning', 'outrageously', 'bankrupt', 'foolish', 'hotbeds', 'demonize', 'imprecise', 'misapprehend', 'pimple', 'burden', 'jittery', 'disgustedly', 'disillusion', 'stodgy', 'kill', 'uproarious', 'inappropriately', 'fruitlessly', 'sore', 'curt', 'unnerving', 'boisterous', 'miscalculation', 'outrageous', 'irritating', 'erodes', 'threats', 'tyrant', 'overreach', 'contention', 'submissive', 'lost', 'inimical', 'humiliation', 'mishandle', 'dark', 'flicering', 'overemphasize', 'retract', 'shortage', 'dissed', 'traumatized', 'whiny', 'admonition', 'blunt', 'fiction', 'commiserate', 'broke', 'insane', 'babble', 'stringent', 'slogging', 'worthlessly', 'inarticulate', 'poor', 'annoyance', 'rollercoaster', 'touts', 'chagrin', 'chatter', 'fumble', 'smells', 'incompetence', 'invective', 'despondently', 'direly', 'imprecate', 'punk', 'undecided', 'villian', 'oversize', 'pitiless', 'abort', 'unusual', 'impious', 'shrill', 'quash', 'underlings', 'blasphemous', 'irredeemable', 'confrontational', 'obtrusive', 'loopholes', 'anarchistic', 'apprehension', 'misstatement', 'scoffingly', 'villianously', 'cramping', 'harasses', 'irresponsibly', 'unneeded', 'deficiencies', 'dejected', 'delude', 'figurehead', 'plebeian', 'savaged', 'suck', 'blind', 'unexpectedly', 'bewilder', 'exhaust', 'monstrous', 'snagged', 'flabbergast', 'disquietude', 'disappointing', 'attacks', 'censure', 'downturn', 'bristle', 'overstatements', 'fraudulent', 'glitch', 'heathen', 'ill-advised', 'symptom', 'uncompromising', 'dissatisfaction', 'stressfully', 'despair', 'partisan', 'hoax', 'drop-out', 'invidiously', 'outraged', 'glaringly', 'hell-bent', 'indiscriminate', 'racist', 'disallow', 'angry', 'falsify', 'illogic', 'reject', 'impede', 'distorts', 'abysmal', 'crashes', 'jagged', 'scratched', 'wretchedly', 'deterioration', 'dire', 'accusation', 'dissidents', 'feint', 'stains', 'back-woods', 'cocky', 'disingenuously', 'impudently', 'exasperating', 'hindrance', 'immature', 'weaker', 'anarchism', 'stall', 'inconsistency', 'disheartening', 'strict', 'streaky', 'equivocal', 'relapse', 'maddeningly', 'clogs', 'inadverently', 'unbearable', 'tumbled', 'harmed', 'sagged', 'totalitarian', 'lengthy', 'losing', 'guilty', 'congestion', 'devilishly', 'impulsively', 'flair', 'tenderness', 'rebuke', 'eyesore', 'outlaw', 'liable', 'conservative', 'enemies', 'dogged', 'superfluous', 'browbeat', 'crashing', 'deceitfulness', 'deceitfully', 'insubstantial', 'bleakness', 'flicker', 'over-priced', 'deterrent', 'intransigence', 'notorious', 'expel', 'terrible', 'importunate', 'unnerve', 'traitor', 'cheat', 'hinder', 'friggin', 'inconsiderate', 'capriciousness', 'droop', 'blather', 'clunky', 'cuplrit', 'panicked', 'agonies', 'relentlessly', 'stuffy', 'gracelessly', 'unsteady', 'regretfully', 'aversion', 'adversarial', 'irritate', 'calumniously', 'mournfully', 'revengeful', 'blasphemy', 'brutalising', 'counterproductive', 'controversy', 'dissonance', 'forebodingly', 'indeterminate', 'desperation', 'damn', 'frustrates', 'inconsistencies', 'irrecoverablenesses', 'reprehensive', 'spank', 'get-rich', 'misbehavior', 'tetchy', 'misunderstood', 'shamefully', 'enviousness', 'antiquated', 'indistinguishable', 'intimidate', 'enslave', 'smudging', 'egomania', 'stunt', 'calamities', 'cruelest', 'lagging', 'shroud', 'woefully', 'testily', 'arduous', 'hairloss', 'mangling', 'asinine', 'slanderer', 'exagerates', 'pittance', 'threaten', 'irrationally', 'polluter', 'deviation', 'destains', 'implication', 'nauseatingly', 'fetid', 'unmoved', 'losses', 'onslaught', 'inescapably', 'devastate', 'repugnantly', 'lying', 'mashed', 'morons', 'shocked', 'unwise', 'feckless', 'disdained', 'condescendingly', 'phobic', 'disoriented', 'expropriation', 'whining', 'poorest', 'damnably', 'pokey', 'enrage', 'blow', 'racy', 'redundancy', 'sever', 'misunderstanding', 'protracted', 'sulk', 'vileness', 'grudges', 'slowly', 'fleed', 'grudging', 'displaced', 'irately', 'sorely', 'imposing', 'rants', 'stupid', 'catastrophic', 'tanks', 'flounder', 'fears', 'ruffian', 'unthinkably', 'anti-semites', 'manipulation', 'madness', 'insult', 'infiltrators', 'lawbreaking', 'disregardful', 'hubris', 'prick', 'run-down', 'disdain', 'transgression', 'calumnies', 'demon', 'disaccord', 'ignore', 'addicts', 'insulted', 'pitilessly', 'resistance', 'detested', 'wily', 'flake', 'iniquitous', 'abscond', 'blah', 'intefere', 'issues', 'adversary', 'sketchy', 'cataclysmal', 'incongruous', 'damning', 'inaptitude', 'qualm', 'unimaginable', 'slaughtered', 'blur', 'conflicts', 'watered-down', 'disturbed', 'bothering', 'devil', 'asunder', 'excruciatingly', 'jobless', 'shriek', 'conspiratorial', 'criticism', 'deteriorating', 'heckle', 'quibble', 'bogus', 'cunt', 'ruinous', 'senile', 'brood', 'drips', 'overbalanced', 'shortness', 'drowning', 'villainously', 'entrapment', 'niggle', 'ill-formed', 'ironically', 'rumbling', 'afflictive', 'depressingly', 'devilish', 'distorted', 'cataclysmically', 'enraging', 'darkened', 'refutation', 'unreadable', 'wretch', 'combative', 'strangest', 'subjugation', 'overthrows', 'imminence', 'inadverent', 'rash', 'spitefully', 'accusingly', 'swollen', 'contradiction', 'disconsolation', 'frightening', 'acrid', 'bumps', 'banalize', 'flickers', 'sin', 'defective', 'mawkish', 'slaughter', 'gibe', 'undue', 'coercion', 'disrespectablity', 'fretful', 'criticizing', 'grudgingly', 'impolitely', 'smuttier', 'inaccurate', 'destitution', 'discoutinous', 'snobs', 'womanizing', 'detraction', 'antagonistic', 'sanctimonious', 'haggle', 'groundless', 'condemned', 'calamity', 'gainsayer', 'annoy', 'fatefully', 'bent', 'disorganized', 'scorn', 'ramshackle', 'trickery', 'untrustworthy', 'ridicules', 'lugubrious', 'sermonize', 'deceivers', 'incorrigibly', 'intolerable', 'itch', 'dirts', 'imaginary', 'draconian', 'complaint', '2-faced', 'rage', 'vengeance', 'tense', 'limited', 'disbelieve', 'lecherous', 'atrocity', 'narrower', 'dumped', 'troublemaker', 'demoralize', 'destitute', 'bumpping', 'jolt', 'layoff', 'unpleasant', 'delinquent', 'demean', 'enraged', 'tarnished', 'erroneous', 'fevers', 'inextricably', 'shirker', 'bull----', 'conspire', 'contemptuously', 'two-faces', 'demoralizing', 'setbacks', 'disorient', 'avalanche', 'excuses', 'inept', 'beggarly', 'clumsy', 'inconsistent', 'breakdown', 'dissatisfies', 'misread', 'covetous', 'cruelly', 'lurk', 'misalign', 'tauntingly', 'squeaks', 'un-viewable', 'ruthlessness', 'penalty', 'cheap', 'criminal', 'hurtful', 'thicker', 'forbidden', 'disturbance', 'rot', 'inconceivably', 'prideful', 'darkness', 'timidity', 'zealously', 'aggrieve', 'darker', 'exhort', 'melodramatically', 'farcical-yet-provocative', 'debasement', 'painful', 'stutters', 'catastrophies', 'ruthless', 'barbarian', 'detests', 'taxing', 'alarming', 'dogmatic', 'hysterically', 'ill-treated', 'smudged', 'depression', 'untrue', 'forgetfulness', 'splatter', 'bravado', 'sunk', 'treachery', 'gaff', 'dismayingly', 'scoldingly', 'crept', 'downfallen', 'pathetically', 'unnoticed', 'joker', 'salacious', 'impertinent', 'intrude', 'caustic', 'frenzied', 'culprit', 'suppress', 'abruptly', 'rip-off', 'uproar', 'crooks', 'excuse', 'bashing', 'conceit', 'killing', 'quack', 'dismay', 'antagonism', 'queer', 'carelessness', 'craze', 'intractable', 'bemoan', 'recoil', 'distastefully', 'smutty', 'fibber', 'forgetfully', 'shimmer', 'disrespect', 'lethargic', 'puzzling', 'bloodshed', 'picketed', 'slower', 'insupportably', 'threesome', 'unpredictable', 'creep', 'pugnaciously', 'caricature', 'hypocritically', 'painfully', 'renounce', 'uproot', 'finicky', 'dislocated', 'impoverished', 'renunciation', 'lamentably', 'disputed', 'scorching', 'refute', 'isolated', 'fatique', 'startling', 'haste', 'absurdity', 'defiant', 'bruising', 'overstatement', 'repress', 'maliciously', 'damnable', 'fiasco', 'pains', 'clamor', 'exploit', 'rival', 'squeals', 'jabber', 'wasted', 'worsening', 'stealing', 'bluring', 'strangle', 'intrusive', 'desperately', 'gawky', 'throbbing', 'entangle', 'foe', 'solicitude', 'knotted', 'infamy', 'bruises', 'chide', 'contrariness', 'horrified', 'fatcats', 'sugar-coated', 'pertinacity', 'polution', 'impetuous', 'detest', 'ragged', 'pricier', 'wreak', 'abuses', 'stagnant', 'moan', 'zealous', 'fathomless', 'deaf', 'unknown', 'scared', 'untimely', 'vice', 'bewildering', 'flagrantly', 'laughingstock', 'aground', 'mendacious', 'dissing', 'pointless', 'conscons', 'bungler', 'hiliarious', 'horrendous', 'inequality', 'inhumanity', 'critical', 'insulting', 'limits', 'pessimistically', 'pickets', 'helplessly', 'prohibitive', 'dying', 'vile', 'denies', 'betraying', 'malign', 'contrive', 'contend', 'shortsighted', 'shun', 'butcher', 'declining', 'discomfititure', 'downsides', 'infested', 'distraction', 'lech', 'risky', 'annoys', 'insincere', 'moron', 'unjustly', 'adverse', 'curse', 'troublingly', 'terribly', 'chasten', 'desperate', 'macabre', 'petrify', 'polarisation', 'snobbish', 'arrogantly', 'sags', 'fried', 'loveless', 'debaser', 'condescending', 'invisible', 'inferiority', 'dragoon', 'scrambled', 'oddest', 'feeblely', 'sorry', 'displeased', 'flimsy', 'disinclination', 'frustrated', 'gullible', 'irksomely', 'scrambling', 'vanity', 'demolish', 'gasp', 'undependability', 'animosity', 'hassled', 'uneven', 'rude', 'bruise', 'cruelties', 'gloom', 'betray', 'insouciance', 'mistrustful', 'deplorably', 'shameful', 'bore', 'fury', 'retreat', 'syndrome', 'evade', 'onerously', 'mysteriously', 'reluctant', 'scolding', 'gutter', 'sh*t', 'fatigue', 'gallingly', 'insupportable', 'lifeless', 'aborts', 'shirk', 'entanglement', 'complain', 'hollow', 'debacle', 'dissolution', 'jam', 'pale', 'distortion', 'primitive', 'upseting', 'deluded', 'doggedly', 'self-defeating', 'fruitless', 'apathetic', 'procrastinate', 'stab', 'stuck', 'inexorably', 'fallacious', 'meanness', 'uninformed', 'leaky', 'bores', 'unhelpful', 'sunder', 'uneasiness', 'inexperience', 'madden', 'oversimplified', 'ulterior', 'irredeemably', 'undercut', 'allegation', 'indiscreetly', 'mispronounces', 'disturbingly', 'enjoin', 'bellicose', 'insecurity', 'jeopardy', 'drones', 'improbably', 'overrun', 'mismanage', 'worst', 'untenable', 'wiles', 'vent', 'inevitably', 'retaliate', 'meltdown', 'disconcertingly', 'horrifies', 'aggressiveness', 'disastrous', 'seedy', 'skeptic', 'dishonest', 'taut', 'vehemently', 'concerned', 'uncollectible', 'heartbreaker', 'cheats', 'desolately', 'murderous', 'frigid', 'fuss', 'caustically', 'cynicism', 'devilment', 'disagreed', 'blameworthy', 'detestable', 'struck', 'stain', 'frozen', 'evasion', 'felon', 'profane', 'rhapsodize', 'recklessness', 'showdown', 'skeptical', 'wail', 'fuzzy', 'incessant', 'disconcerted', 'fallaciousness', 'knife', 'pugnacity', 'beggar', 'smother', 'lunatic', 'scandal', 'maledict', 'foully', 'bullshit', 'confuse', 'incomprehensible', 'desultory', 'disown', 'perish', 'problems', 'disgustingly', 'ill-defined', 'racists', 'skittish', 'despairingly', 'ultimatum', 'impenitent', 'skepticism', 'apprehensions', 'diss', 'losers', 'subjugate', 'vagrant', 'perfidious', 'gruesome', 'daunt', 'soapy', 'sweaty', 'gangster', 'eschew', 'smug', 'allegations', 'ricer', 'forfeit', 'leakage', 'mordantly', 'horrific', 'complication', 'dies', 'perilous', 'repugn', 'hates', 'revulsive', 'touted', 'illegal', 'malady', 'cronyism', 'miff', 'reluctantly', 'corrode', 'impractical', 'screwed', 'hiss', 'inadequacy', 'heavy-handed', 'villainous', 'obstruction', 'cracks', 'infection', 'useless', 'mortify', 'prickles', 'throbs', 'lapse', 'oddities', 'rocky', 'despot', 'viciously', 'degradation', 'flaky', 'oblique', 'overbearingly', 'transgress', 'ugly', 'facetiously', 'gimmicks', 'parasite', 'terrorize', 'unlawful', 'irresolvable', 'irritations', 'proprietary', 'aggrieved', 'insurmountable', 'spurious', 'weep', 'nosey', 'perplexed', 'dictatorial', 'prisoner', 'convoluted', 'reprovingly', 'crabby', 'jeers', 'smelling', 'confusions', 'unravel', 'wary', 'drunken', 'worries', 'dunce', 'slogged', 'antipathy', 'panicking', 'brazenness', 'disapprove', 'sucker', 'disgracefully', 'uneconomical', 'disadvantages', 'indignant', 'provoke', 'taunting', 'askance', 'uneventful', 'confrontation', 'less-developed', 'loathe', 'despised', 'aggravation', 'smuttiest', 'wayward', 'loud', 'craziness', 'death', 'explosive', 'obscurity', 'innuendo', 'shadowy', 'stressful', 'cautionary', 'pricey', 'hype', 'trivial', 'cannibal', 'midget', 'noisier', 'unsatisfactory', 'frightfully', 'mist', 'shaky', 'escapade', 'indecent', 'revoke', 'disobedience', 'deform', 'doomed', 'repudiation', 'sharply', 'dissention', 'emptiness', 'mediocre', 'regrettably', 'restless', 'noisy', 'enfeeble', 'outrage', 'backaching', 'sneer', 'dense', 'decadent', 'deprecate', 'injustice', 'desertion', 'mortifying', 'slow', 'split', 'seething', 'suspicions', 'dislikes', 'inconsiderately', 'inconveniently', 'unappealing', 'wearisome', 'disagreeing', 'gabble', 'twisted', 'burdensomely', 'crowdedness', 'f**k', 'vomiting', 'banal', 'disquieting', 'delusions', 'insignificance', 'nave', 'rejecting', 'prik', 'defile', 'implacable', 'raping', 'incomparable', 'distracting', 'slaves', 'strife', 'offend', 'beset', 'misery', 'overplay', 'prattle', 'selfish', 'tarnish', 'incompatability', 'wripped', 'peculiar', 'vulnerable', 'dilemma', 'deign', 'gruff', 'quarrellously', 'lividly', 'blurry', 'topple', 'invasive', 'stumble', 'disruptive', 'cheesy', 'unorthodox', 'blindside', 'picketing', 'tardy', 'smoulder', 'unfortunate', 'gnawing', 'despondency', 'gloatingly', 'naughty', 'outbreak', 'stereotypical', 'cursed', 'unaccessible', 'long-time', 'grotesque', 'despotic', 'sap', 'worryingly', 'infidel', 'paradoxical', 'setback', 'tumultuous', 'interfere', 'insubstantially', 'extremists', 'unsteadiness', 'hardship', 'haphazard', 'spewing', 'displeasure', 'adamant', 'bs', 'dismayed', 'chastisement', 'irritant', 'incognizant', 'flawed', 'forgetful', 'spitefulness', 'myth', 'amiss', 'virus', 'jeeringly', 'irks', 'bug', 'downcast', 'begging', 'acridness', 'bloody', 'mundane', 'rant', 'repetitive', 'scandalized', 'limit', 'dishonorablely', 'unimportant', 'mischievously', 'drawbacks', 'bumping', 'dumping', 'puppets', 'violently', 'backwood', 'excoriate', 'stingingly', 'overawe', 'guiltily', 'disbeliever', 'discrimination', 'disses', 'broken-hearted', 'fragmented', 'impermissible', 'destroyer', 'malaise', 'swamped', 'unilateralism', 'unlawfulness', 'unviewable', 'vilify', 'anxiously', 'jeer', 'unyielding', 'disagreeable', 'deceptive', 'brutalities', 'horrify', 'alienation', 'clog', 'frail', 'hardships', 'insolence', 'alarmed', 'calamitously', 'knave', 'misbehave', 'sticky', 'jealousy', 'slogs', 'oppositions', 'radicalization', 'coupists', 'disrespectable', 'revoltingly', 'unspeakablely', 'marginally', 'dings', 'shemale', 'dishearteningly', 'vague', 'ominous', 'pettifog', 'flimflam', 'nitpicking', 'sullen', 'perturbed', 'thoughtlessly', 'anguish', 'insensitive', 'grimace', 'unhappily', 'perplex', 'wrinkle', 'tragically', 'thumbs-down', 'tragic', 'fake', 'far-fetched', 'discriminate', 'accost', 'depressions', 'disconsolate', 'procrastinates', 'odor', 'cramp', 'unfinished', 'hysterical', 'wreaks', 'wripping', 'frustratingly', 'humid', 'beware', 'grating', 'impoverish', 'helplessness', 'retreated', 'poisonously', 'sucks', 'uncompromisingly', 'dented', 'filthy', 'defamation', 'dissolute', 'involuntary', 'kaput', 'unprofitable', 'wobbled', 'frictions', 'belated', 'vomited', 'cons', 'chill', 'bickering', 'fraught', 'obscure', 'indoctrinate', 'unpleasantries', 'elimination', 'famished', 'affront', 'overbalance', 'corrupted', 'horde', 'mendacity', 'disagrees', 'implode', 'misses', 'fever', 'overdone', 'distrust', 'conflicted', 'scarily', 'fist', 'anxiety', 'lechery', 'pander', 'slander', 'unlamentable', 'wrangle', 'cash-strapped', 'malicious', 'frighteningly', 'clamorous', 'impunity', 'recourses', 'leaking', 'insatiable', 'overzelous', 'ached', 'brainwash', 'anti-american', 'unuseably', 'anomalous', 'misinterpret', 'junky', 'traped', 'expropriate', 'battering', 'despise', 'downhill', 'unexpected', 'overrated', 'repression', 'disunity', 'admonish', 'oversimplification', 'nebulously', 'blurt', 'languorously', 'hypocritical', 'unlucky', 'disappointed', 'lies', 'dawdle', 'immorally', 'uncompetitive', 'flareup', 'bane', 'ill-natured', 'abominable', 'daunting', 'isolation', 'unjustifiable', 'negatives', 'drags', 'dishonestly', 'detrimental', 'damper', 'slowww', 'flak', 'overtaxed', 'uncreative', 'siege', 'loot', 'poison', 'decline', 'injurious', 'cackle', 'superficially', 'hysteric', 'rhetoric', 'sloooooooooooooow', 'tacky', 'extort', 'frown', 'insurmountably', 'instigate', 'unclean', 'bungling', 'manipulators', 'crumples', 'blasted', 'draining', 'temerity', 'noxious', 'nightmare', 'condemns', 'neurotically', 'died', 'exhorbitant', 'complained', 'subversion', 'dim', 'wilt', 'contaminated', 'ambiguous', 'bleak', 'treacherous', 'mulish', 'emphatic', 'weaken', 'concerns', 'fanciful', 'delirious', 'suffocate', 'wrinkles', 'confront', 'incomparably', 'bemoaning', 'refuses', 'unattractive', 'venomous', 'beastly', 'indigent', 'cheater', 'disable', 'instable', 'unconfirmed', 'shortchange', 'sluts', 'wildly', 'appall', 'undermined', 'dirty', 'hatefully', 'haywire', 'flaw', 'awfulness', 'incautious', 'rupture', 'depravedly', 'sass', 'exploitation', 'hideously', 'rattle', 'starve', 'taboo', 'randomly', 'unsustainable', 'orphan', 'limitations', 'belligerent', 'subordinate', 'tout', 'frazzled', 'cataclysmic', 'egotistical', 'raked', 'peeled', 'startlingly', 'pan', 'jealousness', 'smudges', 'spookiest', 'ill-fated', 'disordered', 'doomsday', 'abrade', 'inveigle', 'irreconcilable', 'slack', 'wack', 'antithetical', 'contravene', 'drought', 'nemesis', 'bump', 'extremism', 'despicable', 'goading', 'hum', 'irksome', 'temptation', 'discriminatory', 'bedlamite', 'insensitively', 'dishonor', 'ruts', 'squeak', 'perversion', 'perturb', 'dreadful', 'exasperatingly', 'cruel', 'admonishment', 'life-threatening', 'glare', 'lowly', 'admonisher', 'fib', 'treasonous', 'suicide', 'prohibit', 'dripped', 'misjudgment', 'disorderly', 'acerbically', 'stumped', 'remorseful', 'vibrated', 'polemize', 'dust', 'alarm', 'strident', 'tenuous', 'lorn', 'ineffectiveness', 'sickening', 'jerky', 'scars', 'break', 'imbalance', 'persecution', 'stale', 'vindictive', 'idiotic', 'cranky', 'nastily', 'undissolved', 'insular', 'faltered', 'hack', 'denial', 'nonsense', 'loathsome', 'repulsiveness', 'static', 'ugh', 'unease', 'whore', 'shame', 'unjustified', 'chore', 'distraughtly', 'exagerate', 'laughably', 'cheated', 'blurs', 'traitorously', 'attack', 'disgraceful', 'grouch', 'infest', 'pessimism', 'frighten', 'flagrant', 'barbaric', 'fat', 'uncomfortably', 'lament', 'abused', 'hypocricy', 'decayed', 'adulterated', 'crap', 'unsettle', 'disasterous', 'indelicate', 'intimidatingly', 'deceitful', 'intoxicate', 'costlier', 'tin-y', 'mess', 'disproportionate', 'irreversible', 'oddity', 'hissed', 'disrespectful', 'kooky', 'capricious', 'funky', 'subpoena', 'hostilities', 'perplexing', 'huckster', 'over-valuation', 'anti-', 'protesting', 'mobster', 'overact', 'depressed', 'regretted', 'discourteous', 'tumble', 'excruciating', 'noises', 'frenetically', 'impropriety', 'insanity', 'fume', 'bothered', 'mocks', 'subservience', 'maniac', 'succumb', 'finagle', 'creeps', 'critic', 'nitpick', 'pertinaciously', 'sufferer', 'unnervingly', 'refuted', 'distraught', 'impolitic', 'mystify', 'conspicuously', 'crisis', 'panick', 'break-ups', 'repressive', 'allege', 'hedonistic', 'deteriorate', 'bewilderment', 'austere', 'floundering', 'mistified', 'sardonic', 'denying', 'inhibit', 'exaggerate', 'worried', 'encroachment', 'madman', 'deviously', 'stumbled', 'sensationalize', 'hypocrite', 'insinuating', 'abyss', 'disquietingly', 'assail', 'misdirection', 'disfavor', 'ridicule', 'threatening', 'erode', 'falsely', 'tank', 'damned', 'peril', 'falter', 'measly', 'dispirit', 'judder', 'nightmarish', 'rattles', 'second-tier', 'reprehension', 'adversity', 'blabber', 'ruins', 'haters', 'ominously', 'glibly', 'extremist', 'interruption', 'distains', 'jealously', 'bitchy', 'phony', 'discourage', 'harshly', 'weary', 'irritably', 'scar', 'incense', 'ill-sorted', 'apprehensively', 'ruffle', 'broken', 'crashed', 'cold', 'devious', 'harass', 'incendiary', 'defensive', 'lascivious', 'hopelessly', 'mistake', 'overpriced', 'set-up', 'headaches', 'lurch', 'alienated', 'lesser-known', 'undermine', 'irony', 'annoyed', 'discountenance', 'lukewarm', 'manipulative', 'outcast', 'deplete', 'choleric', 'improbability', 'distort', 'ruining', 'scandels', 'unacceptablely', 'forceful', 'frustrating', 'consternation', 'grapple', 'dirtbag', 'grieving', 'havoc', 'licentiously', 'mispronounced', 'flout', 'scrambles', 'messes', 'anarchy', 'agony', 'barbarity', 'grievances', 'dissatisfy', 'abominably', 'allergies', 'unaccustomed', 'flaking', 'reckless', 'savage', 'stumps', 'detract', 'dishonesty', 'dissension', 'lazy', 'contemptuous', 'paradoxically', 'scams', 'hatred', 'graceless', 'passe', 'time-consuming', 'unproven', 'radical', 'futile', 'sarcastically', 'lapses', 'swelled', 'underestimate', 'inadequately', 'inequitable', 'adulteration', 'perversity', 'unrelenting', 'exagerated', 'unscrupulous', 'invidious', 'terrorism', 'unemployed', 'hostility', 'hateful', 'indiscernible', 'shatter', 'confuses', 'needy', 'irresolute', 'drunk', 'spoils', 'revolt', 'uprising', 'vindictiveness', 'inexcusably', 'bastard', 'spite', 'loathly', 'displace', 'insufferable', 'passive', 'prevaricate', 'slanderously', 'massacre', 'motley', 'vomits', 'risks', 'debatable', 'unruly', 'disapointing', 'crash', 'flirt', 'grim', 'castrated', 'incoherently', 'miserableness', 'skimpy', 'killed', 'hostile', 'unsafe', 'sorrowful', 'tattered', 'blurred', 'cringes', 'aloof', 'heedless', 'disaffected', 'violation', 'baffle', 'detestably', 'loose', 'trample', 'inaccurately', 'humiliating', 'frantic', 'alarmingly', 'execrate', 'fatally', 'subtract', 'irrelevance', 'struggled', 'anxieties', 'credulous', 'regreted', 'disinterested', 'inhospitable', 'embattled', 'painfull', 'wrong', 'decay', 'curses', 'degenerate', 'sack', 'jeopardize', 'crushing', 'freakish', 'rust', 'embarrass', 'drippy', 'inflexible', 'ill-designed', 'mock', 'lamentable', 'oppressiveness', 'ranting', 'rattled', 'plotters', 'devastated', 'lackadaisical', 'vestiges', 'stooges', 'overwhelmed', 'scornful', 'nuisance', 'insurrection', 'blaspheme', 'comical', 'evildoer', 'desiccated', 'immoral', 'bias', 'byzantine', 'needlessly', 'uncaring', 'emergency', 'misrepresent', 'hassle', 'inequities', 'overpower', 'hectic', 'disgusting', 'disvalue', 'overstate', 'mortified', 'dissappointing', 'douchebag', 'cannibalize', 'grievous', 'inflict', 'mire', 'unqualified', 'shady', 'fiend', 'overzealous', 'radicals', 'bemused', 'cheerless', 'fickle', 'garbage', 'moody', 'leery', 'stupidly', 'scramble', 'fanatical', 'fatcat', 'loss', 'disclaim', 'indeterminable', 'infected', 'straining', 'angrily', 'nauseating', 'condescension', 'disagreement', 'doubt', 'leakages', 'payback', 'deploring', 'plunderer', 'draconic', 'friction', 'indecorum', 'scandals', 'concens', 'sneeringly', 'savagery', 'hustler', 'inflated', 'manic', 'menace', 'inconvenience', 'miserly', 'deceiver', 'self-interested', 'pertinacious', 'meddle', 'shipwreck', 'sickeningly', 'preposterously', 'creaks', 'hardheaded', 'slap', 'fateful', 'niggles', 'negligence', 'timidly', 'blame', 'impediment', 'accusations', 'imperil', 'inadequate', 'obscenely', 'abuse', 'self-humiliation', 'fell', 'incite', 'incoherence', 'impiety', 'wicked', 'blab', 'misguidance', 'unacceptably', 'insolent', 'poorly', 'smelt', 'deceiving', 'inflammation', 'ineffectualness', 'pratfall', 'concede', 'bereavement', 'upheaval', 'derisively', 'misgivings', 'enflame', 'deadbeat', 'flat-out', 'merciless', 'mudslinger', 'negation', 'grievance', 'surrender', 'suicidal', 'droops', 'carp', 'sacrificed', 'heck', 'poisonous', 'quarrellous', 'rabid', 'undefined', 'ignorance', 'squirm', 'biased', 'dents', 'hefty', 'inelegant', 'bomb', 'denunciation', 'seethe', 'mordant', 'nasty', 'ferociously', 'subpoenas', 'nettlesome', 'upbraid', 'discontent', 'avaricious', 'flabbergasted', 'unconvincing', 'achey', 'disrepute', 'rebellious', 'concen', 'spews', 'unkind', 'anti-us', 'obstacle', 'unfit', 'dumb', 'skeptically', 'hurting', 'snagging', 'shrilly', 'fearsome', 'blundering'}\n"
          ],
          "name": "stdout"
        }
      ]
    },
    {
      "cell_type": "markdown",
      "metadata": {
        "id": "HzWuXxEq9INJ"
      },
      "source": [
        "The words in the list are general, but we can add some domain-specific word (\"`|`\" is the \"set union\" operator)"
      ]
    },
    {
      "cell_type": "code",
      "metadata": {
        "id": "XHAevZFs9INK"
      },
      "source": [
        "airline_pos_words = hu_liu_pos | {\"upgrade\"}\n",
        "airline_neg_words = hu_liu_neg | {\"wtf\", \"wait\", \"waiting\", \"epicfail\", \"mechanical\"}"
      ],
      "execution_count": null,
      "outputs": []
    },
    {
      "cell_type": "markdown",
      "metadata": {
        "id": "-w7GIElE9INL"
      },
      "source": [
        "_Performance note:_ we use sets here (denoted with braces: `{...}`) rather than lists (with square brackets: `[...]`) to make lookup faster"
      ]
    },
    {
      "cell_type": "code",
      "metadata": {
        "id": "Oy45mfQ79INL",
        "colab": {
          "base_uri": "https://localhost:8080/"
        },
        "outputId": "2a2323f0-0fb2-44af-f5c4-d2ab26f39866"
      },
      "source": [
        "%%timeit -n 1000000 \n",
        "# -n represents the number of loops, i.e. the number of times the code will be executed\n",
        "# 5 is the test repeat count; the tests are repeated several times. The fastest time of those 5 is then taken.\n",
        "\n",
        "\"e\" in [\"a\", \"b\", \"c\", \"d\", \"e\"]   # list"
      ],
      "execution_count": null,
      "outputs": [
        {
          "output_type": "stream",
          "text": [
            "1000000 loops, best of 5: 88.2 ns per loop\n"
          ],
          "name": "stdout"
        }
      ]
    },
    {
      "cell_type": "code",
      "metadata": {
        "id": "ADOFvNSD9INN",
        "colab": {
          "base_uri": "https://localhost:8080/"
        },
        "outputId": "050e461b-6604-439b-de1d-481f066059cd"
      },
      "source": [
        "%%timeit -n 1000000\n",
        "\"e\" in {\"a\", \"b\", \"c\", \"d\", \"e\"}   # set"
      ],
      "execution_count": null,
      "outputs": [
        {
          "output_type": "stream",
          "text": [
            "1000000 loops, best of 5: 30.3 ns per loop\n"
          ],
          "name": "stdout"
        }
      ]
    },
    {
      "cell_type": "markdown",
      "metadata": {
        "id": "h8XH_H6d9INP"
      },
      "source": [
        "### Text tokenization\n",
        "\n",
        "We have to decompose tweets into the single words they contain in order to search for the opinion words within it\n",
        "\n",
        "A _tokenization_ algorithm splits a text string into a sequence of _tokens_ each representing a single word (or other entities such as numbers and punctuation)"
      ]
    },
    {
      "cell_type": "markdown",
      "metadata": {
        "id": "mSDplc_P9INP"
      },
      "source": [
        "A simple tokenization algorithm can consist in removing all characters different from letters and spaces from text, than splitting text in words using spaces as boundaries"
      ]
    },
    {
      "cell_type": "code",
      "metadata": {
        "id": "TJORMSRs9INP"
      },
      "source": [
        "import re\n",
        "\n",
        "# Considering \"This isn't a test, or is it?\" sentence as text\n",
        "# re.sub(\"[^A-Za-z ]\", \"\", text) will transform it as 'This isnt a test or is it'. \n",
        "# In general, it removes (that is equivalent to: substitute with \"\") every character that is not a upperase/lowercase letter or space\n",
        "def my_tokenizer(text):\n",
        "    return re.sub(\"[^A-Za-z ]\", \"\", text).split(\" \") # split(\" \") is used to split the sentence in a list of strings using the space \" \" as separator"
      ],
      "execution_count": null,
      "outputs": []
    },
    {
      "cell_type": "markdown",
      "metadata": {
        "id": "Lw9xbtIU9INQ"
      },
      "source": [
        "An example usage is..."
      ]
    },
    {
      "cell_type": "code",
      "metadata": {
        "id": "3W6juY_S9INR",
        "colab": {
          "base_uri": "https://localhost:8080/"
        },
        "outputId": "ce3825de-3713-4593-8690-c4477201bff5"
      },
      "source": [
        "my_tokenizer(\"This isn't a test, or is it?\")"
      ],
      "execution_count": null,
      "outputs": [
        {
          "output_type": "execute_result",
          "data": {
            "text/plain": [
              "['This', 'isnt', 'a', 'test', 'or', 'is', 'it']"
            ]
          },
          "metadata": {
            "tags": []
          },
          "execution_count": 31
        }
      ]
    },
    {
      "cell_type": "markdown",
      "metadata": {
        "id": "YFoRFRJM9INS"
      },
      "source": [
        "NLTK provides a finer tokenization algorithm, based on a knowledge model of the English language: in order to make it work, we have first to download the model"
      ]
    },
    {
      "cell_type": "code",
      "metadata": {
        "id": "nnBPTc5E9INT",
        "colab": {
          "base_uri": "https://localhost:8080/"
        },
        "outputId": "95cd0278-4ffc-41eb-f919-66c90373b9f4"
      },
      "source": [
        "nltk.download(\"punkt\")"
      ],
      "execution_count": null,
      "outputs": [
        {
          "output_type": "stream",
          "text": [
            "[nltk_data] Downloading package punkt to /root/nltk_data...\n",
            "[nltk_data]   Unzipping tokenizers/punkt.zip.\n"
          ],
          "name": "stdout"
        },
        {
          "output_type": "execute_result",
          "data": {
            "text/plain": [
              "True"
            ]
          },
          "metadata": {
            "tags": []
          },
          "execution_count": 32
        }
      ]
    },
    {
      "cell_type": "markdown",
      "metadata": {
        "id": "pS5JsR0E9INU"
      },
      "source": [
        "We can then use the `word_tokenize` function"
      ]
    },
    {
      "cell_type": "code",
      "metadata": {
        "id": "Su1bApvb9INU",
        "colab": {
          "base_uri": "https://localhost:8080/"
        },
        "outputId": "ae3b449d-5131-415e-ddea-97966083f983"
      },
      "source": [
        "nltk.word_tokenize(\"This isn't a test, or is it?\")"
      ],
      "execution_count": null,
      "outputs": [
        {
          "output_type": "execute_result",
          "data": {
            "text/plain": [
              "['This', 'is', \"n't\", 'a', 'test', ',', 'or', 'is', 'it', '?']"
            ]
          },
          "metadata": {
            "tags": []
          },
          "execution_count": 33
        }
      ]
    },
    {
      "cell_type": "markdown",
      "metadata": {
        "id": "ftuN515Y9INW"
      },
      "source": [
        "Other than keeping punctuation marks as separate tokens, NLTK was able to correctly split \"isn't\" into its two component words"
      ]
    },
    {
      "cell_type": "markdown",
      "metadata": {
        "id": "trAmVK-69INX"
      },
      "source": [
        "### Sentiment scoring\n",
        "\n",
        "We define a function to compute the \"sentiment score\" of some text, computed as the difference between counts of positive and negative opinion words contained in it. Notice we have to convert all words in lowercase to be sure to find them in the lists."
      ]
    },
    {
      "cell_type": "code",
      "metadata": {
        "id": "walyIml89INX"
      },
      "source": [
        "def sentiment_score(text, pos_words, neg_words):\n",
        "    words = nltk.word_tokenize(text)\n",
        "    # count 1 for each word present in the positive words list\n",
        "    pos_matches = sum(1 for word in words if word.lower() in pos_words)\n",
        "    # same count with the negative words list\n",
        "    neg_matches = sum(1 for word in words if word.lower() in neg_words)\n",
        "    # return the difference between the two counts\n",
        "    return pos_matches - neg_matches"
      ],
      "execution_count": null,
      "outputs": []
    },
    {
      "cell_type": "markdown",
      "metadata": {
        "id": "OEiDe6fv9INZ"
      },
      "source": [
        "This functions accept the lists of positive and negative words as input, we can wrap it in a version specific for the \"airline\" opinion words lists"
      ]
    },
    {
      "cell_type": "code",
      "metadata": {
        "id": "njkdCZha9INZ"
      },
      "source": [
        "def airline_sentiment_score(text):\n",
        "    return sentiment_score(text, airline_pos_words, airline_neg_words)"
      ],
      "execution_count": null,
      "outputs": []
    },
    {
      "cell_type": "markdown",
      "metadata": {
        "id": "gwKz63o99INb"
      },
      "source": [
        "Example: a sentence with one positive word..."
      ]
    },
    {
      "cell_type": "code",
      "metadata": {
        "id": "KsCtI9SU9INb",
        "colab": {
          "base_uri": "https://localhost:8080/"
        },
        "outputId": "a33d3326-ef16-43f5-db44-f10253214893"
      },
      "source": [
        "airline_sentiment_score(\"This is an awesome test!\")"
      ],
      "execution_count": null,
      "outputs": [
        {
          "output_type": "execute_result",
          "data": {
            "text/plain": [
              "1"
            ]
          },
          "metadata": {
            "tags": []
          },
          "execution_count": 36
        }
      ]
    },
    {
      "cell_type": "markdown",
      "metadata": {
        "id": "-aQ1fUrK9INd"
      },
      "source": [
        "Let's consider a small set of sample sentences to evaluate"
      ]
    },
    {
      "cell_type": "code",
      "metadata": {
        "id": "DvZj3Qg59INd"
      },
      "source": [
        "sample = [\n",
        "    \"You're awesome and I love you\",\n",
        "    \"I hate and hate and hate. So angry. Die!\",\n",
        "    \"Impressed and amazed: you are peerless in your achievement of unparalleled mediocrity.\"\n",
        "]"
      ],
      "execution_count": null,
      "outputs": []
    },
    {
      "cell_type": "markdown",
      "metadata": {
        "id": "ZVxGd4jj9INf"
      },
      "source": [
        "We can use `map` to apply the scoring function to each of the samples and get the sequence of corresponding scores wrapped in a list"
      ]
    },
    {
      "cell_type": "code",
      "metadata": {
        "id": "8hzGXMsQ9INf"
      },
      "source": [
        "sample_scores = list(map(airline_sentiment_score, sample))"
      ],
      "execution_count": null,
      "outputs": []
    },
    {
      "cell_type": "code",
      "metadata": {
        "id": "wJ5dPnud9INh",
        "colab": {
          "base_uri": "https://localhost:8080/"
        },
        "outputId": "44f9e2a1-5260-46e1-cace-3fa96fb34e40"
      },
      "source": [
        "sample_scores"
      ],
      "execution_count": null,
      "outputs": [
        {
          "output_type": "execute_result",
          "data": {
            "text/plain": [
              "[2, -5, 4]"
            ]
          },
          "metadata": {
            "tags": []
          },
          "execution_count": 39
        }
      ]
    },
    {
      "cell_type": "markdown",
      "metadata": {
        "id": "I306cBAA9INj"
      },
      "source": [
        "Using a pandas DataFrame, we can get a table of sample sentences matched with scores"
      ]
    },
    {
      "cell_type": "code",
      "metadata": {
        "id": "kWoqjh6f9INk",
        "colab": {
          "base_uri": "https://localhost:8080/",
          "height": 143
        },
        "outputId": "394bf68d-4bdb-4bdf-d8cf-0c62cda204d4"
      },
      "source": [
        "pd.DataFrame({\"score\": sample_scores, \"text\": sample})"
      ],
      "execution_count": null,
      "outputs": [
        {
          "output_type": "execute_result",
          "data": {
            "text/html": [
              "<div>\n",
              "<style scoped>\n",
              "    .dataframe tbody tr th:only-of-type {\n",
              "        vertical-align: middle;\n",
              "    }\n",
              "\n",
              "    .dataframe tbody tr th {\n",
              "        vertical-align: top;\n",
              "    }\n",
              "\n",
              "    .dataframe thead th {\n",
              "        text-align: right;\n",
              "    }\n",
              "</style>\n",
              "<table border=\"1\" class=\"dataframe\">\n",
              "  <thead>\n",
              "    <tr style=\"text-align: right;\">\n",
              "      <th></th>\n",
              "      <th>score</th>\n",
              "      <th>text</th>\n",
              "    </tr>\n",
              "  </thead>\n",
              "  <tbody>\n",
              "    <tr>\n",
              "      <th>0</th>\n",
              "      <td>2</td>\n",
              "      <td>You're awesome and I love you</td>\n",
              "    </tr>\n",
              "    <tr>\n",
              "      <th>1</th>\n",
              "      <td>-5</td>\n",
              "      <td>I hate and hate and hate. So angry. Die!</td>\n",
              "    </tr>\n",
              "    <tr>\n",
              "      <th>2</th>\n",
              "      <td>4</td>\n",
              "      <td>Impressed and amazed: you are peerless in your achievement of unparalleled mediocrity.</td>\n",
              "    </tr>\n",
              "  </tbody>\n",
              "</table>\n",
              "</div>"
            ],
            "text/plain": [
              "   score                                                                                    text\n",
              "0      2                                                           You're awesome and I love you\n",
              "1     -5                                                I hate and hate and hate. So angry. Die!\n",
              "2      4  Impressed and amazed: you are peerless in your achievement of unparalleled mediocrity."
            ]
          },
          "metadata": {
            "tags": []
          },
          "execution_count": 40
        }
      ]
    },
    {
      "cell_type": "markdown",
      "metadata": {
        "id": "O4iDxy-y9INl"
      },
      "source": [
        "As we can see, the scoring function correctly evaluates straightforward sentences, although it fails to detect more elaborate text (e.g. using sarcasm)"
      ]
    },
    {
      "cell_type": "markdown",
      "metadata": {
        "id": "hAPiIBPC9INl"
      },
      "source": [
        "Let's apply the scoring functions to all tweets for one of the companies, e.g. Delta. We wrap scores in a pandas Series so we can use its functionalities."
      ]
    },
    {
      "cell_type": "code",
      "metadata": {
        "id": "UHfh_kQf9INm"
      },
      "source": [
        "delta_scores = pd.Series(map(airline_sentiment_score, tweets[\"text\"][tweets[\"airline\"] == \"delta\"]))"
      ],
      "execution_count": null,
      "outputs": []
    },
    {
      "cell_type": "code",
      "metadata": {
        "id": "XANhbzGVgva_",
        "colab": {
          "base_uri": "https://localhost:8080/"
        },
        "outputId": "f7ac639a-71ef-4f2a-d1f2-59985e08abbd"
      },
      "source": [
        "delta_scores"
      ],
      "execution_count": null,
      "outputs": [
        {
          "output_type": "execute_result",
          "data": {
            "text/plain": [
              "0       1\n",
              "1       0\n",
              "2       0\n",
              "3      -1\n",
              "4       0\n",
              "       ..\n",
              "1140   -1\n",
              "1141   -1\n",
              "1142    0\n",
              "1143    0\n",
              "1144    0\n",
              "Length: 1145, dtype: int64"
            ]
          },
          "metadata": {
            "tags": []
          },
          "execution_count": 42
        }
      ]
    },
    {
      "cell_type": "markdown",
      "metadata": {
        "id": "yTqV-3Y19INn"
      },
      "source": [
        "We can get for example the mean score of tweets..."
      ]
    },
    {
      "cell_type": "code",
      "metadata": {
        "id": "7SX8uoX49INo",
        "colab": {
          "base_uri": "https://localhost:8080/"
        },
        "outputId": "5d7e2a0c-1621-4a7e-89a3-f2e77dc084fa"
      },
      "source": [
        "delta_scores.mean()"
      ],
      "execution_count": null,
      "outputs": [
        {
          "output_type": "execute_result",
          "data": {
            "text/plain": [
              "0.23406113537117904"
            ]
          },
          "metadata": {
            "tags": []
          },
          "execution_count": 43
        }
      ]
    },
    {
      "cell_type": "markdown",
      "metadata": {
        "id": "JFAM9PgZ9INp"
      },
      "source": [
        "...and even plot an histogram of the distribution of scores"
      ]
    },
    {
      "cell_type": "code",
      "metadata": {
        "id": "IdnDfrX49INq",
        "colab": {
          "base_uri": "https://localhost:8080/",
          "height": 283
        },
        "outputId": "7a6d86af-aa89-4f8c-9319-719450de0cf1"
      },
      "source": [
        "delta_scores.plot.hist()"
      ],
      "execution_count": null,
      "outputs": [
        {
          "output_type": "execute_result",
          "data": {
            "text/plain": [
              "<matplotlib.axes._subplots.AxesSubplot at 0x7fafe13f2210>"
            ]
          },
          "metadata": {
            "tags": []
          },
          "execution_count": 44
        },
        {
          "output_type": "display_data",
          "data": {
            "image/png": "[encoded data removed]",
            "text/plain": [
              "<Figure size 432x288 with 1 Axes>"
            ]
          },
          "metadata": {
            "tags": [],
            "needs_background": "light"
          }
        }
      ]
    },
    {
      "cell_type": "markdown",
      "metadata": {
        "id": "_0TSBjii9INr"
      },
      "source": [
        "Let's now work with the whole collection of tweets related to all airlines\n",
        "\n",
        "We compute sentiment scores for each tweet by applying the `airline_sentiment_score` function to the `text` columns; scores are saved in a `score` column added to a copy of the `tweets` DataFrame"
      ]
    },
    {
      "cell_type": "code",
      "metadata": {
        "id": "-DsQ0Pd39INr"
      },
      "source": [
        "tweets_with_scores = tweets.copy()\n",
        "tweets_with_scores[\"score\"] = tweets_with_scores[\"text\"].apply(airline_sentiment_score)"
      ],
      "execution_count": null,
      "outputs": []
    },
    {
      "cell_type": "markdown",
      "metadata": {
        "id": "GOG2mmQe9INs"
      },
      "source": [
        "Let's see some random rows from it..."
      ]
    },
    {
      "cell_type": "code",
      "metadata": {
        "id": "O6sqT54S9INt",
        "colab": {
          "base_uri": "https://localhost:8080/",
          "height": 206
        },
        "outputId": "0635ae0b-ef82-4aec-c47a-a47205a688db"
      },
      "source": [
        "tweets_with_scores.sample(5)"
      ],
      "execution_count": null,
      "outputs": [
        {
          "output_type": "execute_result",
          "data": {
            "text/html": [
              "<div>\n",
              "<style scoped>\n",
              "    .dataframe tbody tr th:only-of-type {\n",
              "        vertical-align: middle;\n",
              "    }\n",
              "\n",
              "    .dataframe tbody tr th {\n",
              "        vertical-align: top;\n",
              "    }\n",
              "\n",
              "    .dataframe thead th {\n",
              "        text-align: right;\n",
              "    }\n",
              "</style>\n",
              "<table border=\"1\" class=\"dataframe\">\n",
              "  <thead>\n",
              "    <tr style=\"text-align: right;\">\n",
              "      <th></th>\n",
              "      <th>airline</th>\n",
              "      <th>text</th>\n",
              "      <th>score</th>\n",
              "    </tr>\n",
              "  </thead>\n",
              "  <tbody>\n",
              "    <tr>\n",
              "      <th>453</th>\n",
              "      <td>delta</td>\n",
              "      <td>RT @iamdiddy: If you’re flying out of JFK on @Delta you NEED to check out the new @CIROC VIP lou...</td>\n",
              "      <td>0</td>\n",
              "    </tr>\n",
              "    <tr>\n",
              "      <th>2686</th>\n",
              "      <td>southwestair</td>\n",
              "      <td>I love @southwestair I mean LOVE. But the wifi today is terrible. Can't even get a google search...</td>\n",
              "      <td>1</td>\n",
              "    </tr>\n",
              "    <tr>\n",
              "      <th>1966</th>\n",
              "      <td>jetblue</td>\n",
              "      <td>@JetBlue measuring the impact of your CSR Report - contact us for a 3rd Party Assessment - Measu...</td>\n",
              "      <td>0</td>\n",
              "    </tr>\n",
              "    <tr>\n",
              "      <th>464</th>\n",
              "      <td>delta</td>\n",
              "      <td>#Aviación @Delta dotará con Tablets Microsoft Surface 2 a sus pilotos en un Kit Electrónico de Vuel</td>\n",
              "      <td>0</td>\n",
              "    </tr>\n",
              "    <tr>\n",
              "      <th>3343</th>\n",
              "      <td>united</td>\n",
              "      <td>I'm at @United Club (Newark, NJ) w/ 4 others http://t.co/PtBHGncrvO</td>\n",
              "      <td>0</td>\n",
              "    </tr>\n",
              "  </tbody>\n",
              "</table>\n",
              "</div>"
            ],
            "text/plain": [
              "           airline  ... score\n",
              "453          delta  ...     0\n",
              "2686  southwestair  ...     1\n",
              "1966       jetblue  ...     0\n",
              "464          delta  ...     0\n",
              "3343        united  ...     0\n",
              "\n",
              "[5 rows x 3 columns]"
            ]
          },
          "metadata": {
            "tags": []
          },
          "execution_count": 46
        }
      ]
    },
    {
      "cell_type": "markdown",
      "metadata": {
        "id": "Id6S53XS9INu"
      },
      "source": [
        "### Summarizing sentiment for each company\n",
        "\n",
        "Let’s focus our analysis only on very negative (score <= 2) and very positive (score >= 2) tweets, adding columns which identify them"
      ]
    },
    {
      "cell_type": "code",
      "metadata": {
        "id": "UNKPLeHv9INu"
      },
      "source": [
        "tweets_with_scores[\"very_pos\"] = tweets_with_scores[\"score\"] >= 2\n",
        "tweets_with_scores[\"very_neg\"] = tweets_with_scores[\"score\"] <= -2"
      ],
      "execution_count": null,
      "outputs": []
    },
    {
      "cell_type": "markdown",
      "metadata": {
        "id": "FUiKdp6G9INx"
      },
      "source": [
        "We group the frame by companies, keeping just the columns indicating very positive or negative tweets and counting the number of them for each group"
      ]
    },
    {
      "cell_type": "code",
      "metadata": {
        "id": "BLlyCc2u9INx"
      },
      "source": [
        "twitter_score = tweets_with_scores.groupby(\"airline\")[[\"very_pos\", \"very_neg\"]].sum().sort_index()"
      ],
      "execution_count": null,
      "outputs": []
    },
    {
      "cell_type": "markdown",
      "metadata": {
        "id": "RsmBFK-U9INz"
      },
      "source": [
        "Let's view the obtained grouped table..."
      ]
    },
    {
      "cell_type": "code",
      "metadata": {
        "id": "KEzM87Un9IN0",
        "colab": {
          "base_uri": "https://localhost:8080/",
          "height": 237
        },
        "outputId": "ba32bb33-6187-43cb-d8f9-31568fd02d2a"
      },
      "source": [
        "twitter_score"
      ],
      "execution_count": null,
      "outputs": [
        {
          "output_type": "execute_result",
          "data": {
            "text/html": [
              "<div>\n",
              "<style scoped>\n",
              "    .dataframe tbody tr th:only-of-type {\n",
              "        vertical-align: middle;\n",
              "    }\n",
              "\n",
              "    .dataframe tbody tr th {\n",
              "        vertical-align: top;\n",
              "    }\n",
              "\n",
              "    .dataframe thead th {\n",
              "        text-align: right;\n",
              "    }\n",
              "</style>\n",
              "<table border=\"1\" class=\"dataframe\">\n",
              "  <thead>\n",
              "    <tr style=\"text-align: right;\">\n",
              "      <th></th>\n",
              "      <th>very_pos</th>\n",
              "      <th>very_neg</th>\n",
              "    </tr>\n",
              "    <tr>\n",
              "      <th>airline</th>\n",
              "      <th></th>\n",
              "      <th></th>\n",
              "    </tr>\n",
              "  </thead>\n",
              "  <tbody>\n",
              "    <tr>\n",
              "      <th>americanair</th>\n",
              "      <td>118</td>\n",
              "      <td>31</td>\n",
              "    </tr>\n",
              "    <tr>\n",
              "      <th>delta</th>\n",
              "      <td>116</td>\n",
              "      <td>55</td>\n",
              "    </tr>\n",
              "    <tr>\n",
              "      <th>jetblue</th>\n",
              "      <td>10</td>\n",
              "      <td>2</td>\n",
              "    </tr>\n",
              "    <tr>\n",
              "      <th>southwestair</th>\n",
              "      <td>122</td>\n",
              "      <td>34</td>\n",
              "    </tr>\n",
              "    <tr>\n",
              "      <th>united</th>\n",
              "      <td>116</td>\n",
              "      <td>99</td>\n",
              "    </tr>\n",
              "  </tbody>\n",
              "</table>\n",
              "</div>"
            ],
            "text/plain": [
              "              very_pos  very_neg\n",
              "airline                         \n",
              "americanair        118        31\n",
              "delta              116        55\n",
              "jetblue             10         2\n",
              "southwestair       122        34\n",
              "united             116        99"
            ]
          },
          "metadata": {
            "tags": []
          },
          "execution_count": 49
        }
      ]
    },
    {
      "cell_type": "markdown",
      "metadata": {
        "id": "In3HBOxx9IN2"
      },
      "source": [
        "`airline` is now the _index_ of the frame: values of the index identify each row (much like a primary key in a database)"
      ]
    },
    {
      "cell_type": "markdown",
      "metadata": {
        "id": "TQLL_qnb9IN2"
      },
      "source": [
        "For every company, we compute the sum of very positive and very negative tweets..."
      ]
    },
    {
      "cell_type": "code",
      "metadata": {
        "id": "c8cE82zg9IN2"
      },
      "source": [
        "twitter_score[\"all_count\"] = twitter_score.very_pos + twitter_score.very_neg"
      ],
      "execution_count": null,
      "outputs": []
    },
    {
      "cell_type": "markdown",
      "metadata": {
        "id": "ZFcIG4YN9IN4"
      },
      "source": [
        "...then we compute a \"global sentiment score\" as the percentage between the count of positive tweets and the total count of tweets above"
      ]
    },
    {
      "cell_type": "code",
      "metadata": {
        "id": "1UwlgKs19IN5"
      },
      "source": [
        "twitter_score[\"score\"] = 100 * twitter_score.very_pos / twitter_score.all_count"
      ],
      "execution_count": null,
      "outputs": []
    },
    {
      "cell_type": "markdown",
      "metadata": {
        "id": "QNz_-VSt9IN7"
      },
      "source": [
        "Let's now list the companies ranked by their score"
      ]
    },
    {
      "cell_type": "code",
      "metadata": {
        "id": "KlEyMUuX9IN7",
        "colab": {
          "base_uri": "https://localhost:8080/",
          "height": 237
        },
        "outputId": "b8b2fd91-7dbb-4497-f188-c467453abfae"
      },
      "source": [
        "twitter_score.sort_values(\"score\", ascending=False)"
      ],
      "execution_count": null,
      "outputs": [
        {
          "output_type": "execute_result",
          "data": {
            "text/html": [
              "<div>\n",
              "<style scoped>\n",
              "    .dataframe tbody tr th:only-of-type {\n",
              "        vertical-align: middle;\n",
              "    }\n",
              "\n",
              "    .dataframe tbody tr th {\n",
              "        vertical-align: top;\n",
              "    }\n",
              "\n",
              "    .dataframe thead th {\n",
              "        text-align: right;\n",
              "    }\n",
              "</style>\n",
              "<table border=\"1\" class=\"dataframe\">\n",
              "  <thead>\n",
              "    <tr style=\"text-align: right;\">\n",
              "      <th></th>\n",
              "      <th>very_pos</th>\n",
              "      <th>very_neg</th>\n",
              "      <th>all_count</th>\n",
              "      <th>score</th>\n",
              "    </tr>\n",
              "    <tr>\n",
              "      <th>airline</th>\n",
              "      <th></th>\n",
              "      <th></th>\n",
              "      <th></th>\n",
              "      <th></th>\n",
              "    </tr>\n",
              "  </thead>\n",
              "  <tbody>\n",
              "    <tr>\n",
              "      <th>jetblue</th>\n",
              "      <td>10</td>\n",
              "      <td>2</td>\n",
              "      <td>12</td>\n",
              "      <td>83.333</td>\n",
              "    </tr>\n",
              "    <tr>\n",
              "      <th>americanair</th>\n",
              "      <td>118</td>\n",
              "      <td>31</td>\n",
              "      <td>149</td>\n",
              "      <td>79.195</td>\n",
              "    </tr>\n",
              "    <tr>\n",
              "      <th>southwestair</th>\n",
              "      <td>122</td>\n",
              "      <td>34</td>\n",
              "      <td>156</td>\n",
              "      <td>78.205</td>\n",
              "    </tr>\n",
              "    <tr>\n",
              "      <th>delta</th>\n",
              "      <td>116</td>\n",
              "      <td>55</td>\n",
              "      <td>171</td>\n",
              "      <td>67.836</td>\n",
              "    </tr>\n",
              "    <tr>\n",
              "      <th>united</th>\n",
              "      <td>116</td>\n",
              "      <td>99</td>\n",
              "      <td>215</td>\n",
              "      <td>53.953</td>\n",
              "    </tr>\n",
              "  </tbody>\n",
              "</table>\n",
              "</div>"
            ],
            "text/plain": [
              "              very_pos  very_neg  all_count   score\n",
              "airline                                            \n",
              "jetblue             10         2         12  83.333\n",
              "americanair        118        31        149  79.195\n",
              "southwestair       122        34        156  78.205\n",
              "delta              116        55        171  67.836\n",
              "united             116        99        215  53.953"
            ]
          },
          "metadata": {
            "tags": []
          },
          "execution_count": 52
        }
      ]
    },
    {
      "cell_type": "markdown",
      "metadata": {
        "id": "pav5BKXF9IN8"
      },
      "source": [
        "To simplify subsequent tests, we create a function which, given a series of scores for tweets, executes the steps above to extract summary scores for each airline"
      ]
    },
    {
      "cell_type": "code",
      "metadata": {
        "id": "VNj8OLsF9IN8"
      },
      "source": [
        "def get_summary_scores(tweet_scores):\n",
        "    very_pos_tweets = tweet_scores >= 2\n",
        "    very_neg_tweets = tweet_scores <= -2\n",
        "    very_pos = very_pos_tweets.groupby(tweets[\"airline\"]).sum()\n",
        "    very_neg = very_neg_tweets.groupby(tweets[\"airline\"]).sum()\n",
        "    total = very_pos + very_neg\n",
        "    return 100 * (very_pos / total)"
      ],
      "execution_count": null,
      "outputs": []
    },
    {
      "cell_type": "markdown",
      "metadata": {
        "id": "7Img7WOX9IN-"
      },
      "source": [
        "### Comparing results with known customer satisfaction\n",
        "\n",
        "We can extract known information about the general satisfaction of airline companies from the ACSI (_American Customer Satisfaction Index_) website\n",
        "\n",
        "A table of the satisfaction index by year about airline companies is available at http://www.theacsi.org/index.php?option=com_content&view=article&id=147&catid=&Itemid=212&i=Airlines\n",
        "\n",
        "We can import such data and use it to validate the satisfaction score extracted from Twitter"
      ]
    },
    {
      "cell_type": "markdown",
      "metadata": {
        "id": "gWYVF1x09IN-"
      },
      "source": [
        "pandas provides the `read_html` function to get DataFrames by scraping tables from a Web page (the `lxml` and `BeautifulSoup4` packages must be installed)"
      ]
    },
    {
      "cell_type": "code",
      "metadata": {
        "id": "PzQcr8ci9IN-"
      },
      "source": [
        "import ssl\n",
        "# it overrides the default function for context creation with the function to create an unverified context\n",
        "ssl._create_default_https_context = ssl._create_unverified_context\n",
        "\n",
        "acsi_table = pd.read_html(\n",
        "    \"https://www.theacsi.org/index.php?option=com_content&view=article&id=147&catid=&Itemid=212&i=Airlines\",\n",
        "    header=0, index_col=0)[0]"
      ],
      "execution_count": null,
      "outputs": []
    },
    {
      "cell_type": "code",
      "metadata": {
        "id": "_-CPi6_M9IOA",
        "colab": {
          "base_uri": "https://localhost:8080/",
          "height": 363
        },
        "outputId": "8115fa99-1a20-4499-963c-595889707016"
      },
      "source": [
        "acsi_table.iloc[:10,-5:] "
      ],
      "execution_count": null,
      "outputs": [
        {
          "output_type": "execute_result",
          "data": {
            "text/html": [
              "<div>\n",
              "<style scoped>\n",
              "    .dataframe tbody tr th:only-of-type {\n",
              "        vertical-align: middle;\n",
              "    }\n",
              "\n",
              "    .dataframe tbody tr th {\n",
              "        vertical-align: top;\n",
              "    }\n",
              "\n",
              "    .dataframe thead th {\n",
              "        text-align: right;\n",
              "    }\n",
              "</style>\n",
              "<table border=\"1\" class=\"dataframe\">\n",
              "  <thead>\n",
              "    <tr style=\"text-align: right;\">\n",
              "      <th></th>\n",
              "      <th>18</th>\n",
              "      <th>19</th>\n",
              "      <th>20</th>\n",
              "      <th>21</th>\n",
              "      <th>PreviousYear%Change</th>\n",
              "    </tr>\n",
              "  </thead>\n",
              "  <tbody>\n",
              "    <tr>\n",
              "      <th>Delta</th>\n",
              "      <td>74.0</td>\n",
              "      <td>75.0</td>\n",
              "      <td>77.0</td>\n",
              "      <td>79.0</td>\n",
              "      <td>2.6</td>\n",
              "    </tr>\n",
              "    <tr>\n",
              "      <th>Southwest</th>\n",
              "      <td>80.0</td>\n",
              "      <td>79.0</td>\n",
              "      <td>79.0</td>\n",
              "      <td>79.0</td>\n",
              "      <td>0.0</td>\n",
              "    </tr>\n",
              "    <tr>\n",
              "      <th>Alaska</th>\n",
              "      <td>79.0</td>\n",
              "      <td>80.0</td>\n",
              "      <td>78.0</td>\n",
              "      <td>77.0</td>\n",
              "      <td>-1.3</td>\n",
              "    </tr>\n",
              "    <tr>\n",
              "      <th>JetBlue</th>\n",
              "      <td>79.0</td>\n",
              "      <td>79.0</td>\n",
              "      <td>78.0</td>\n",
              "      <td>77.0</td>\n",
              "      <td>-1.3</td>\n",
              "    </tr>\n",
              "    <tr>\n",
              "      <th>Airlines</th>\n",
              "      <td>73.0</td>\n",
              "      <td>74.0</td>\n",
              "      <td>75.0</td>\n",
              "      <td>76.0</td>\n",
              "      <td>1.3</td>\n",
              "    </tr>\n",
              "    <tr>\n",
              "      <th>United</th>\n",
              "      <td>67.0</td>\n",
              "      <td>70.0</td>\n",
              "      <td>75.0</td>\n",
              "      <td>75.0</td>\n",
              "      <td>0.0</td>\n",
              "    </tr>\n",
              "    <tr>\n",
              "      <th>American</th>\n",
              "      <td>74.0</td>\n",
              "      <td>73.0</td>\n",
              "      <td>74.0</td>\n",
              "      <td>75.0</td>\n",
              "      <td>1.4</td>\n",
              "    </tr>\n",
              "    <tr>\n",
              "      <th>All Others</th>\n",
              "      <td>73.0</td>\n",
              "      <td>71.0</td>\n",
              "      <td>70.0</td>\n",
              "      <td>74.0</td>\n",
              "      <td>5.7</td>\n",
              "    </tr>\n",
              "    <tr>\n",
              "      <th>Allegiant</th>\n",
              "      <td>74.0</td>\n",
              "      <td>71.0</td>\n",
              "      <td>74.0</td>\n",
              "      <td>72.0</td>\n",
              "      <td>-2.7</td>\n",
              "    </tr>\n",
              "    <tr>\n",
              "      <th>Frontier</th>\n",
              "      <td>62.0</td>\n",
              "      <td>64.0</td>\n",
              "      <td>66.0</td>\n",
              "      <td>68.0</td>\n",
              "      <td>3.0</td>\n",
              "    </tr>\n",
              "  </tbody>\n",
              "</table>\n",
              "</div>"
            ],
            "text/plain": [
              "              18    19    20    21  PreviousYear%Change\n",
              "Delta       74.0  75.0  77.0  79.0                  2.6\n",
              "Southwest   80.0  79.0  79.0  79.0                  0.0\n",
              "Alaska      79.0  80.0  78.0  77.0                 -1.3\n",
              "JetBlue     79.0  79.0  78.0  77.0                 -1.3\n",
              "Airlines    73.0  74.0  75.0  76.0                  1.3\n",
              "United      67.0  70.0  75.0  75.0                  0.0\n",
              "American    74.0  73.0  74.0  75.0                  1.4\n",
              "All Others  73.0  71.0  70.0  74.0                  5.7\n",
              "Allegiant   74.0  71.0  74.0  72.0                 -2.7\n",
              "Frontier    62.0  64.0  66.0  68.0                  3.0"
            ]
          },
          "metadata": {
            "tags": []
          },
          "execution_count": 55
        }
      ]
    },
    {
      "cell_type": "markdown",
      "metadata": {
        "id": "-4mE8sbW9IOB"
      },
      "source": [
        "We select the column \"13\" for the year when tweets were extracted (use \"21\" in case you are analyzing current tweets) and the rows related to analyzed companies"
      ]
    },
    {
      "cell_type": "code",
      "metadata": {
        "id": "8jJfNKq39IOB"
      },
      "source": [
        "airline_names = [\"Southwest\", \"JetBlue\", \"American\", \"Delta\", \"United\"]\n",
        "acsi_score = acsi_table.loc[airline_names, \"13\"].astype(float).sort_index()"
      ],
      "execution_count": null,
      "outputs": []
    },
    {
      "cell_type": "code",
      "metadata": {
        "id": "kkg7Ug9C9IOE",
        "colab": {
          "base_uri": "https://localhost:8080/"
        },
        "outputId": "30b948f1-5971-48da-d074-2953f4a1306e"
      },
      "source": [
        "acsi_score"
      ],
      "execution_count": null,
      "outputs": [
        {
          "output_type": "execute_result",
          "data": {
            "text/plain": [
              "American     65.0\n",
              "Delta        68.0\n",
              "JetBlue      83.0\n",
              "Southwest    81.0\n",
              "United       62.0\n",
              "Name: 13, dtype: float64"
            ]
          },
          "metadata": {
            "tags": []
          },
          "execution_count": 57
        }
      ]
    },
    {
      "cell_type": "markdown",
      "metadata": {
        "id": "E5F0584r9IOF"
      },
      "source": [
        "In case you miss the required libraries, here are two alternative instructions to create the ACSI scores series without using the `read_html` function"
      ]
    },
    {
      "cell_type": "code",
      "metadata": {
        "id": "wroivXas9IOF"
      },
      "source": [
        "# 2021 (current_tweets)\n",
        "acsi_score = pd.Series(\n",
        "          [      79.0 ,     77.0 ,      75.0 ,   79.0 ,    75.0 ],\n",
        "    index=[\"Southwest\", \"JetBlue\", \"American\", \"Delta\", \"United\"]\n",
        ").sort_index()"
      ],
      "execution_count": null,
      "outputs": []
    },
    {
      "cell_type": "code",
      "metadata": {
        "id": "lpIwLxb39IOG",
        "colab": {
          "base_uri": "https://localhost:8080/"
        },
        "outputId": "03380665-6440-406b-996f-8eae312099af"
      },
      "source": [
        "# 2013 (archive_tweets)\n",
        "acsi_score = pd.Series(\n",
        "          [      81.0 ,     83.0 ,      65.0 ,   68.0 ,    62.0 ],\n",
        "    index=[\"Southwest\", \"JetBlue\", \"American\", \"Delta\", \"United\"]\n",
        ").sort_index()\n",
        "\n",
        "acsi_score"
      ],
      "execution_count": null,
      "outputs": [
        {
          "output_type": "execute_result",
          "data": {
            "text/plain": [
              "American     65.0\n",
              "Delta        68.0\n",
              "JetBlue      83.0\n",
              "Southwest    81.0\n",
              "United       62.0\n",
              "dtype: float64"
            ]
          },
          "metadata": {
            "tags": []
          },
          "execution_count": 59
        }
      ]
    },
    {
      "cell_type": "markdown",
      "metadata": {
        "id": "iOIy6Cvd9IOH"
      },
      "source": [
        "We extracted a single column of the table along with the index containing company names: we change names in order to match the index from `twitter_scores`"
      ]
    },
    {
      "cell_type": "code",
      "metadata": {
        "id": "-B_8edSA9IOH"
      },
      "source": [
        "acsi_score.index = (acsi_score.index\n",
        "                    .str.lower()\n",
        "                    .str.replace(\"american\", \"americanair\")\n",
        "                    .str.replace(\"southwest\", \"southwestair\"))"
      ],
      "execution_count": null,
      "outputs": []
    },
    {
      "cell_type": "code",
      "metadata": {
        "id": "rJTUitHH9IOI",
        "colab": {
          "base_uri": "https://localhost:8080/"
        },
        "outputId": "a12034c9-f6a7-41e8-9483-db460e27d130"
      },
      "source": [
        "acsi_score"
      ],
      "execution_count": null,
      "outputs": [
        {
          "output_type": "execute_result",
          "data": {
            "text/plain": [
              "americanair     65.0\n",
              "delta           68.0\n",
              "jetblue         83.0\n",
              "southwestair    81.0\n",
              "united          62.0\n",
              "dtype: float64"
            ]
          },
          "metadata": {
            "tags": []
          },
          "execution_count": 61
        }
      ]
    },
    {
      "cell_type": "markdown",
      "metadata": {
        "id": "dDcu3Kfx9IOJ"
      },
      "source": [
        "We have now the `acsi_score` series and the `score` column of the `twitter_score` frame indexed with the same labels, but in different order: we can merge them into a new frame to align the series"
      ]
    },
    {
      "cell_type": "code",
      "metadata": {
        "id": "hhtsXGno9IOJ",
        "colab": {
          "base_uri": "https://localhost:8080/",
          "height": 237
        },
        "outputId": "a11f37f8-ceb5-4c56-dabe-a8bc36af0253"
      },
      "source": [
        "pd.DataFrame({\"twitter\": twitter_score[\"score\"], \"acsi\": acsi_score})"
      ],
      "execution_count": null,
      "outputs": [
        {
          "output_type": "execute_result",
          "data": {
            "text/html": [
              "<div>\n",
              "<style scoped>\n",
              "    .dataframe tbody tr th:only-of-type {\n",
              "        vertical-align: middle;\n",
              "    }\n",
              "\n",
              "    .dataframe tbody tr th {\n",
              "        vertical-align: top;\n",
              "    }\n",
              "\n",
              "    .dataframe thead th {\n",
              "        text-align: right;\n",
              "    }\n",
              "</style>\n",
              "<table border=\"1\" class=\"dataframe\">\n",
              "  <thead>\n",
              "    <tr style=\"text-align: right;\">\n",
              "      <th></th>\n",
              "      <th>twitter</th>\n",
              "      <th>acsi</th>\n",
              "    </tr>\n",
              "    <tr>\n",
              "      <th>airline</th>\n",
              "      <th></th>\n",
              "      <th></th>\n",
              "    </tr>\n",
              "  </thead>\n",
              "  <tbody>\n",
              "    <tr>\n",
              "      <th>americanair</th>\n",
              "      <td>79.195</td>\n",
              "      <td>65.0</td>\n",
              "    </tr>\n",
              "    <tr>\n",
              "      <th>delta</th>\n",
              "      <td>67.836</td>\n",
              "      <td>68.0</td>\n",
              "    </tr>\n",
              "    <tr>\n",
              "      <th>jetblue</th>\n",
              "      <td>83.333</td>\n",
              "      <td>83.0</td>\n",
              "    </tr>\n",
              "    <tr>\n",
              "      <th>southwestair</th>\n",
              "      <td>78.205</td>\n",
              "      <td>81.0</td>\n",
              "    </tr>\n",
              "    <tr>\n",
              "      <th>united</th>\n",
              "      <td>53.953</td>\n",
              "      <td>62.0</td>\n",
              "    </tr>\n",
              "  </tbody>\n",
              "</table>\n",
              "</div>"
            ],
            "text/plain": [
              "              twitter  acsi\n",
              "airline                    \n",
              "americanair    79.195  65.0\n",
              "delta          67.836  68.0\n",
              "jetblue        83.333  83.0\n",
              "southwestair   78.205  81.0\n",
              "united         53.953  62.0"
            ]
          },
          "metadata": {
            "tags": []
          },
          "execution_count": 62
        }
      ]
    },
    {
      "cell_type": "markdown",
      "metadata": {
        "id": "eZhczxte9IOK"
      },
      "source": [
        "We can now evaluate the degree of agreement between the two scores: we may do it graphically using a _scatter plot_..."
      ]
    },
    {
      "cell_type": "code",
      "metadata": {
        "id": "pFLxT67U9IOK",
        "colab": {
          "base_uri": "https://localhost:8080/",
          "height": 279
        },
        "outputId": "437ec5b2-d791-4c23-9130-6f48807196cb"
      },
      "source": [
        "plt.scatter(twitter_score[\"score\"], acsi_score, s=50) # plt.scatter() function is used to plot points. 's' parameters can be use to set the point dimension\n",
        "plt.plot([50, 100], [50, 100], \"r--\")  # plot a x=y segment. First two parameters represents the coordinates of the segment, while the third one let us draw red dashes\n",
        "plt.xlabel(\"Twitter score\")\n",
        "plt.ylabel(\"ACSI score\");"
      ],
      "execution_count": null,
      "outputs": [
        {
          "output_type": "display_data",
          "data": {
            "image/png": "[encoded data removed]",
            "text/plain": [
              "<Figure size 432x288 with 1 Axes>"
            ]
          },
          "metadata": {
            "tags": [],
            "needs_background": "light"
          }
        }
      ]
    },
    {
      "cell_type": "markdown",
      "metadata": {
        "id": "DL-_tWRJ9IOL"
      },
      "source": [
        "Each point indicates the scores of a company, the dashed line indicates where scores match: the most the points are close to the line, the most the scores agree"
      ]
    },
    {
      "cell_type": "markdown",
      "metadata": {
        "id": "ZJ8Q-miJ9IOM"
      },
      "source": [
        "To properly verify the agreement of the two scores, we measure the _Pearson's correlation coefficient_"
      ]
    },
    {
      "cell_type": "code",
      "metadata": {
        "id": "7fLMeuQd9IOM",
        "colab": {
          "base_uri": "https://localhost:8080/"
        },
        "outputId": "64109b62-06ad-4f2c-c0a6-3469e32970b3"
      },
      "source": [
        "from scipy.stats import pearsonr\n",
        "pearsonr(twitter_score[\"score\"], acsi_score)"
      ],
      "execution_count": null,
      "outputs": [
        {
          "output_type": "execute_result",
          "data": {
            "text/plain": [
              "(0.7229235158616781, 0.167611728008456)"
            ]
          },
          "metadata": {
            "tags": []
          },
          "execution_count": 64
        }
      ]
    },
    {
      "cell_type": "markdown",
      "metadata": {
        "id": "igRoHtv-9ION"
      },
      "source": [
        "The first value is the Pearson's coefficient, while the second value is the associated p-value, i.e. the probability that the correlation between the two series was obtained by chance"
      ]
    },
    {
      "cell_type": "markdown",
      "metadata": {
        "id": "_x0CVCda9ION"
      },
      "source": [
        "### Exercise 1: interpreting negations\n",
        "\n",
        "In the `sentiment_score` function, when we look for positive or negative words, we do not consider whether they are negated\n",
        "\n",
        "**A)** The `sentiment_score_neg` function below implements the same logic of `sentiment_score` so that it can be more easily changed: modify it in order to count any positive word immediately preceded by \"not\" (case-insensitive) as negative and vice versa"
      ]
    },
    {
      "cell_type": "code",
      "metadata": {
        "id": "7_ebKPt09IOP"
      },
      "source": [
        "def sentiment_score_neg(text, pos_words, neg_words):\n",
        "    words = nltk.word_tokenize(text)\n",
        "    score = 0\n",
        "    for i in range(len(words)):\n",
        "        word_score = 0\n",
        "        if words[i] in pos_words:\n",
        "            word_score = 1\n",
        "        elif words[i] in neg_words:\n",
        "            word_score = -1\n",
        "        score += word_score\n",
        "    return score"
      ],
      "execution_count": null,
      "outputs": []
    },
    {
      "cell_type": "markdown",
      "metadata": {
        "id": "eozF1o_R9IOQ"
      },
      "source": [
        "**B)** Create a series `tweet_scores_neg` with scores of tweets in `tweets[\"text\"]`"
      ]
    },
    {
      "cell_type": "markdown",
      "metadata": {
        "id": "GYBWW05y9IOQ"
      },
      "source": [
        "**C)** Compute the mean absolute difference between this previous score and the new score of each tweet"
      ]
    },
    {
      "cell_type": "markdown",
      "metadata": {
        "id": "v8wVHZ-R9IOQ"
      },
      "source": [
        "**D)** Use the `get_summary_scores` defined above to get a series `twitter_score_neg` with summary scores for each airline"
      ]
    },
    {
      "cell_type": "markdown",
      "metadata": {
        "id": "g9sRf63e9IOQ"
      },
      "source": [
        "**E)** Verify the correlation between the new Twitter score and the ACSI score using a scatter plot and Pearson's coefficient as above"
      ]
    },
    {
      "cell_type": "markdown",
      "metadata": {
        "id": "yygvv94X9IOQ"
      },
      "source": [
        "## Activity 2: Sentiment Analysis at sentence and feature level\n",
        "\n",
        "We reuse techniques seen above to perform sentiment analysis at sentence and feature level on reviews of hotels\n",
        "\n",
        "TripAdvisor used to provide a summary of hotel ratings against 6 different features: **Location, Sleep Quality, Rooms, Service, Value, Cleanliness**"
      ]
    },
    {
      "cell_type": "markdown",
      "metadata": {
        "id": "ZwNfCgBU9IOR"
      },
      "source": [
        "### Activity plan\n",
        "\n",
        "1. Define lists of opinion and feature words\n",
        "  - for opinion words, we reuse the lists of Hu and Liu from above\n",
        "2. Break reviews into sentences\n",
        "3. Detect sentences dealing with a specific feature and score its sentiment\n",
        "4. Summarize evaluation of each hotel and each feature\n",
        "5. Compare features of each hotel\n",
        "6. Compare results with scores on TripAdvisor"
      ]
    },
    {
      "cell_type": "markdown",
      "metadata": {
        "id": "Hf0Kw1v49IOR"
      },
      "source": [
        "### Loading reviews\n",
        "\n",
        "We provide a ZIP file with reviews of 6 different Hotels in Chicago, in a format similar to that of airline tweets used above (one file per hotel, one review per line)"
      ]
    },
    {
      "cell_type": "code",
      "metadata": {
        "id": "kOhA6CRF9IOR"
      },
      "source": [
        "download(\"hotel-reviews.zip\", \"https://github.com/datascienceunibo/bbs-opinion-lab-2019/raw/master/hotel-reviews.zip\")"
      ],
      "execution_count": null,
      "outputs": []
    },
    {
      "cell_type": "code",
      "metadata": {
        "id": "WMYKO7r39IOT",
        "colab": {
          "base_uri": "https://localhost:8080/"
        },
        "outputId": "14d34af3-4680-4ff9-9087-1853c75ed4ae"
      },
      "source": [
        "from zipfile import ZipFile\n",
        "import re\n",
        "\n",
        "all_reviews = {} # Init an empty dictionary that will be used to collect all the reviews\n",
        "\n",
        "# Define the regular expression that matches the reviews filenames.\n",
        "filename_pattern = re.compile(\"usa_illinois_chicago_([a-z_]+).txt\") # ([a-z_]+) means: \"one or more groups of alphabetic character followed by an underscore\"\n",
        "\n",
        "with ZipFile(\"hotel-reviews.zip\") as zip: # open the zip file and read the files inside\n",
        "\n",
        "    for filename in zip.namelist(): # we repeat the following statements for each file inside the zip in order to collect the text of each hotel. 1 file --> 1 hotel\n",
        "        print(filename)\n",
        "        # match() returns a match object if one If zero or more characters at the beginning of string match this regular expression, None otherwise. \n",
        "        # Then we call the group() method on the match object: group(1) returns the matched content of the first parenthesized subgroup in the regular expression\n",
        "        hotel = filename_pattern.match(filename).group(1) \n",
        "\n",
        "        print(hotel)\n",
        "\n",
        "        with zip.open(filename) as f: # open each txt file to read its content (i.e the reviews texts)\n",
        "            # for each file: decode each line of the file to UTF-8 encoding (to properly read the string), delete spaces at beginning/end of the string using strip()\n",
        "            # put each transformed line in a list using list()\n",
        "            # put the list of lines of the current file in a new entry of all_reviews dictionary\n",
        "            all_reviews[hotel] = list(line.decode(errors=\"ignore\").strip() for line in f) "
      ],
      "execution_count": null,
      "outputs": [
        {
          "output_type": "stream",
          "text": [
            "usa_illinois_chicago_affinia_chicago.txt\n",
            "affinia_chicago\n",
            "usa_illinois_chicago_hyatt_regency_chicago.txt\n",
            "hyatt_regency_chicago\n",
            "usa_illinois_chicago_intercontinental_chicago.txt\n",
            "intercontinental_chicago\n",
            "usa_illinois_chicago_james_chicago.txt\n",
            "james_chicago\n",
            "usa_illinois_chicago_swissotel_chicago.txt\n",
            "swissotel_chicago\n",
            "usa_illinois_chicago_the_palmer_house_hilton.txt\n",
            "the_palmer_house_hilton\n"
          ],
          "name": "stdout"
        }
      ]
    },
    {
      "cell_type": "markdown",
      "metadata": {
        "id": "9aGIOvin9IOU"
      },
      "source": [
        "As an example, we will use reviews for the Intercontinental hotel"
      ]
    },
    {
      "cell_type": "code",
      "metadata": {
        "id": "DjuPCyyq9IOV"
      },
      "source": [
        "reviews_interc = all_reviews[\"intercontinental_chicago\"]"
      ],
      "execution_count": null,
      "outputs": []
    },
    {
      "cell_type": "code",
      "metadata": {
        "id": "WHYJMRsK9IOX",
        "colab": {
          "base_uri": "https://localhost:8080/",
          "height": 35
        },
        "outputId": "99a1e995-8ec7-4e63-87a7-93515b18458d"
      },
      "source": [
        "reviews_interc[0]"
      ],
      "execution_count": null,
      "outputs": [
        {
          "output_type": "execute_result",
          "data": {
            "application/vnd.google.colaboratory.intrinsic+json": {
              "type": "string"
            },
            "text/plain": [
              "'A great spot! We have always been pleased with our stays at Intercontinental hotels. Chicago was especially pleasant with a helpful staff.'"
            ]
          },
          "metadata": {
            "tags": []
          },
          "execution_count": 69
        }
      ]
    },
    {
      "cell_type": "markdown",
      "metadata": {
        "id": "ZbemiaFE9IOY"
      },
      "source": [
        "### Lists of feature words\n",
        "\n",
        "To detect sentences dealing with a specific feature, we search for feature-related keywords\n",
        "\n",
        "Using only the names of the 6 features as keywords, would produce few results: lists of _feature words_ which are synonyms or anyhow else related to each feature is created (manually in this case)"
      ]
    },
    {
      "cell_type": "code",
      "metadata": {
        "id": "S-3DBtSl9IOZ"
      },
      "source": [
        "feature_words = {\n",
        "    'location': {'location', 'airport', 'center', 'island', 'lake', 'ocean',\n",
        "                 'sea', 'around', 'university', 'romantic', 'coast', 'beach',\n",
        "                 'disco', 'nightlife'},\n",
        "    'sleepquality': {'silence','sleep','night','noise','nightlife'},\n",
        "    'rooms': {'room', 'rooms', 'space', 'bed', 'bath', 'bathroom', 'toilet',\n",
        "              'degrade', 'disorder','shower','jacuzzi','frigo'},\n",
        "    'service': {'service','pet','friendly','swimming', 'pool', 'pools', 'spa',\n",
        "                'waiters', 'severs', 'waiter', 'manservant', 'cordial',\n",
        "                'hearty', 'restorative', 'disagreeable', 'unpleasant',\n",
        "                'restaurant', 'food', 'breakfast', 'lunch', 'dinner', 'bar'},\n",
        "    'value': {'cheap','affordable','afford','woth', 'price', 'value', 'cost',\n",
        "              'expensive', 'economical', 'depreciate', 'discount', 'luxury',\n",
        "              'hall', 'meal'},\n",
        "    'cleanliness': {'clean', 'cleanliness', 'place', 'neatness', 'sweeping',\n",
        "                    'dirty', 'soiled', 'grubby', 'foul', 'mucky'}\n",
        "}"
      ],
      "execution_count": null,
      "outputs": []
    },
    {
      "cell_type": "markdown",
      "metadata": {
        "id": "aa3tsTGX9IOa"
      },
      "source": [
        "### Breaking reviews into sentences\n",
        "\n",
        "We break reviews into single sentences, assuming that each sentence deals with (at most) one of the features\n",
        "\n",
        "Breaking text into sentences (_sentence tokenization_) is not straightforward: sentences usually end with a period (\".\"), but may also end with other punctuation (\"!\", \"?\")"
      ]
    },
    {
      "cell_type": "markdown",
      "metadata": {
        "id": "MLGtjlvH9IOa"
      },
      "source": [
        "This is an example of function for sentence tokenization, which splits text on \".\", \"?\" and \"!\""
      ]
    },
    {
      "cell_type": "code",
      "metadata": {
        "id": "GtYfbWuB9IOa"
      },
      "source": [
        "def my_sent_tokenizer(text):\n",
        "    return re.split(\"[\\\\.\\\\?!]\", text) #\\\\ operator escapes the dot and question mark characters. This is needed because '.' and '?' are special characters in regex syntax"
      ],
      "execution_count": null,
      "outputs": []
    },
    {
      "cell_type": "code",
      "metadata": {
        "id": "w-qawU1O9IOb",
        "colab": {
          "base_uri": "https://localhost:8080/"
        },
        "outputId": "e88515ea-8550-4f02-f8ff-7c04ec1f0568"
      },
      "source": [
        "my_sent_tokenizer(reviews_interc[0])"
      ],
      "execution_count": null,
      "outputs": [
        {
          "output_type": "execute_result",
          "data": {
            "text/plain": [
              "['A great spot',\n",
              " ' We have always been pleased with our stays at Intercontinental hotels',\n",
              " ' Chicago was especially pleasant with a helpful staff',\n",
              " '']"
            ]
          },
          "metadata": {
            "tags": []
          },
          "execution_count": 72
        }
      ]
    },
    {
      "cell_type": "markdown",
      "metadata": {
        "id": "Vsr537m99IOe"
      },
      "source": [
        "However this function fails when these characters are used in the middle of a sentence, e.g. in an ellipsis"
      ]
    },
    {
      "cell_type": "code",
      "metadata": {
        "id": "sOwOjGfT9IOe",
        "colab": {
          "base_uri": "https://localhost:8080/"
        },
        "outputId": "b42f867c-6221-4e90-8667-10387af0b134"
      },
      "source": [
        "my_sent_tokenizer(\"This works... or not? Maybe not.\")"
      ],
      "execution_count": null,
      "outputs": [
        {
          "output_type": "execute_result",
          "data": {
            "text/plain": [
              "['This works', '', '', ' or not', ' Maybe not', '']"
            ]
          },
          "metadata": {
            "tags": []
          },
          "execution_count": 73
        }
      ]
    },
    {
      "cell_type": "markdown",
      "metadata": {
        "id": "fGF6ez9s9IOf"
      },
      "source": [
        "Similarly to the word tokenizer used above, NLTK provides a sentence tokenizer based on knowledge of English language to detect such exceptions"
      ]
    },
    {
      "cell_type": "code",
      "metadata": {
        "id": "2urU6hiB9IOg",
        "colab": {
          "base_uri": "https://localhost:8080/"
        },
        "outputId": "d411a454-6c75-4397-dd8c-9885db4aba8d"
      },
      "source": [
        "nltk.sent_tokenize(\"This works... or not? Maybe not.\")"
      ],
      "execution_count": null,
      "outputs": [
        {
          "output_type": "execute_result",
          "data": {
            "text/plain": [
              "['This works... or not?', 'Maybe not.']"
            ]
          },
          "metadata": {
            "tags": []
          },
          "execution_count": 74
        }
      ]
    },
    {
      "cell_type": "markdown",
      "metadata": {
        "id": "FFIWabkV9IOh"
      },
      "source": [
        "Using this tokenization function, we turn the list of reviews into a list of single sentences"
      ]
    },
    {
      "cell_type": "code",
      "metadata": {
        "id": "Hz-aaqP39IOh"
      },
      "source": [
        "sentences_interc = [sent for review in reviews_interc for sent in nltk.sent_tokenize(review)]"
      ],
      "execution_count": null,
      "outputs": []
    },
    {
      "cell_type": "markdown",
      "metadata": {
        "id": "QWUuSZu49IOi"
      },
      "source": [
        "### Detecting features and opinions in sentences\n",
        "\n",
        "We define a function which counts, for each feature, the number of sentences in a given list expressing a positive or negative judgement about it"
      ]
    },
    {
      "cell_type": "code",
      "metadata": {
        "id": "1Qxb70Fj9IOi"
      },
      "source": [
        "def feature_pos_neg_counts(sentences, feature_words, pos_words, neg_words):\n",
        "    # initialize to 0 counts of positive and negative sentences per feature\n",
        "    pos_counts = {feat: 0 for feat in feature_words.keys()}\n",
        "    neg_counts = {feat: 0 for feat in feature_words.keys()} \n",
        "    # {\n",
        "    #  \"value\": 0,\n",
        "    #  \"service\": 0,\n",
        "    #  ...\n",
        "    # }\n",
        "\n",
        "    for sent in sentences: # analyze each sentence in the sentences list passed as argument to this function\n",
        "\n",
        "        # evaluate sentiment of sentence\n",
        "        word_list = nltk.word_tokenize(sent) # e.g. nltk.word_tokenize(\"This isn't a test, or is it?\") --> ['This', 'is', \"n't\", 'a', 'test', ',', 'or', 'is', 'it', '?']\n",
        "        pos_word_count = sum(1 for word in word_list if word in pos_words) # Sum 1 for each positive word found in the sentence. E.g. 2\n",
        "        neg_word_count = sum(1 for word in word_list if word in neg_words) # Sum 1 for each negative word found in the sentence. E.g. 3\n",
        "        sent_score = pos_word_count - neg_word_count # E.g. 3 - 2 = 1\n",
        "\n",
        "        # detect features in sentence\n",
        "        word_set = set(word_list) # e.g. {'this', 'is', \"n't\", \"a\", \"test\", \",\", \"or\", \"it\", \"?\"}   No words are repeated since we use a set!\n",
        "        for feat, keywords in feature_words.items(): # analyze each feature in the current sentence\n",
        "            if word_set & keywords:   # if the intersection between the sentence word set and the feature keywords is not empty (i.e. the sentence contains at least one of the current feature keywords)\n",
        "                if sent_score > 0: # if the sentence polarity is positive\n",
        "                    pos_counts[feat] += 1 # increment by one the positive counter of the current feature we are analyzing\n",
        "                elif sent_score < 0: # if the sentence polarity is negative\n",
        "                    neg_counts[feat] += 1 # increment by one the negative counter of the current feature we are analyzing\n",
        "\n",
        "    # At the end of the positive/negative counts for each feature, we create a new dataframe containing the features as rows and the two counters as columns\n",
        "    return pd.DataFrame({\"pos_count\": pos_counts, \"neg_count\": neg_counts})"
      ],
      "execution_count": null,
      "outputs": []
    },
    {
      "cell_type": "markdown",
      "metadata": {
        "id": "5qmR31Yb9IOj"
      },
      "source": [
        "For each list of sentences, the function returns a DataFrame with counts of positive and negative sentences for each feature\n",
        "\n",
        "Let's apply it for example to reviews of Intercontinental"
      ]
    },
    {
      "cell_type": "code",
      "metadata": {
        "id": "Sl6kJjaF9IOk"
      },
      "source": [
        "scores_interc = feature_pos_neg_counts(sentences_interc, feature_words, hu_liu_pos, hu_liu_neg)"
      ],
      "execution_count": null,
      "outputs": []
    },
    {
      "cell_type": "code",
      "metadata": {
        "id": "ODajRR8-9IOk",
        "colab": {
          "base_uri": "https://localhost:8080/",
          "height": 237
        },
        "outputId": "3a34d8bc-0dc2-4e45-92ae-768067524fcf"
      },
      "source": [
        "scores_interc"
      ],
      "execution_count": null,
      "outputs": [
        {
          "output_type": "execute_result",
          "data": {
            "text/html": [
              "<div>\n",
              "<style scoped>\n",
              "    .dataframe tbody tr th:only-of-type {\n",
              "        vertical-align: middle;\n",
              "    }\n",
              "\n",
              "    .dataframe tbody tr th {\n",
              "        vertical-align: top;\n",
              "    }\n",
              "\n",
              "    .dataframe thead th {\n",
              "        text-align: right;\n",
              "    }\n",
              "</style>\n",
              "<table border=\"1\" class=\"dataframe\">\n",
              "  <thead>\n",
              "    <tr style=\"text-align: right;\">\n",
              "      <th></th>\n",
              "      <th>pos_count</th>\n",
              "      <th>neg_count</th>\n",
              "    </tr>\n",
              "  </thead>\n",
              "  <tbody>\n",
              "    <tr>\n",
              "      <th>location</th>\n",
              "      <td>231</td>\n",
              "      <td>18</td>\n",
              "    </tr>\n",
              "    <tr>\n",
              "      <th>sleepquality</th>\n",
              "      <td>50</td>\n",
              "      <td>28</td>\n",
              "    </tr>\n",
              "    <tr>\n",
              "      <th>rooms</th>\n",
              "      <td>423</td>\n",
              "      <td>92</td>\n",
              "    </tr>\n",
              "    <tr>\n",
              "      <th>service</th>\n",
              "      <td>370</td>\n",
              "      <td>55</td>\n",
              "    </tr>\n",
              "    <tr>\n",
              "      <th>value</th>\n",
              "      <td>70</td>\n",
              "      <td>34</td>\n",
              "    </tr>\n",
              "    <tr>\n",
              "      <th>cleanliness</th>\n",
              "      <td>131</td>\n",
              "      <td>11</td>\n",
              "    </tr>\n",
              "  </tbody>\n",
              "</table>\n",
              "</div>"
            ],
            "text/plain": [
              "              pos_count  neg_count\n",
              "location            231         18\n",
              "sleepquality         50         28\n",
              "rooms               423         92\n",
              "service             370         55\n",
              "value                70         34\n",
              "cleanliness         131         11"
            ]
          },
          "metadata": {
            "tags": []
          },
          "execution_count": 78
        }
      ]
    },
    {
      "cell_type": "markdown",
      "metadata": {
        "id": "m5smNWpx9IOl"
      },
      "source": [
        "### Summarizing evaluation of hotel features\n",
        "\n",
        "Similarly to above, we compute for each feature a sentiment score in a 0-50 scale from the ratio of positive sentences about a feature w.r.t. their total"
      ]
    },
    {
      "cell_type": "code",
      "metadata": {
        "id": "hvyHtRYs9IOm"
      },
      "source": [
        "scores_interc[\"tot_count\"] = scores_interc.pos_count + scores_interc.neg_count"
      ],
      "execution_count": null,
      "outputs": []
    },
    {
      "cell_type": "code",
      "metadata": {
        "id": "NxSaH52X9IOn"
      },
      "source": [
        "scores_interc[\"score\"] = round(50 * scores_interc.pos_count / scores_interc.tot_count)"
      ],
      "execution_count": null,
      "outputs": []
    },
    {
      "cell_type": "code",
      "metadata": {
        "id": "TPqAtJN99IOo",
        "colab": {
          "base_uri": "https://localhost:8080/",
          "height": 237
        },
        "outputId": "faf63c9b-4858-4215-8d3b-e6090ef57a9a"
      },
      "source": [
        "scores_interc"
      ],
      "execution_count": null,
      "outputs": [
        {
          "output_type": "execute_result",
          "data": {
            "text/html": [
              "<div>\n",
              "<style scoped>\n",
              "    .dataframe tbody tr th:only-of-type {\n",
              "        vertical-align: middle;\n",
              "    }\n",
              "\n",
              "    .dataframe tbody tr th {\n",
              "        vertical-align: top;\n",
              "    }\n",
              "\n",
              "    .dataframe thead th {\n",
              "        text-align: right;\n",
              "    }\n",
              "</style>\n",
              "<table border=\"1\" class=\"dataframe\">\n",
              "  <thead>\n",
              "    <tr style=\"text-align: right;\">\n",
              "      <th></th>\n",
              "      <th>pos_count</th>\n",
              "      <th>neg_count</th>\n",
              "      <th>tot_count</th>\n",
              "      <th>score</th>\n",
              "    </tr>\n",
              "  </thead>\n",
              "  <tbody>\n",
              "    <tr>\n",
              "      <th>location</th>\n",
              "      <td>231</td>\n",
              "      <td>18</td>\n",
              "      <td>249</td>\n",
              "      <td>46.0</td>\n",
              "    </tr>\n",
              "    <tr>\n",
              "      <th>sleepquality</th>\n",
              "      <td>50</td>\n",
              "      <td>28</td>\n",
              "      <td>78</td>\n",
              "      <td>32.0</td>\n",
              "    </tr>\n",
              "    <tr>\n",
              "      <th>rooms</th>\n",
              "      <td>423</td>\n",
              "      <td>92</td>\n",
              "      <td>515</td>\n",
              "      <td>41.0</td>\n",
              "    </tr>\n",
              "    <tr>\n",
              "      <th>service</th>\n",
              "      <td>370</td>\n",
              "      <td>55</td>\n",
              "      <td>425</td>\n",
              "      <td>44.0</td>\n",
              "    </tr>\n",
              "    <tr>\n",
              "      <th>value</th>\n",
              "      <td>70</td>\n",
              "      <td>34</td>\n",
              "      <td>104</td>\n",
              "      <td>34.0</td>\n",
              "    </tr>\n",
              "    <tr>\n",
              "      <th>cleanliness</th>\n",
              "      <td>131</td>\n",
              "      <td>11</td>\n",
              "      <td>142</td>\n",
              "      <td>46.0</td>\n",
              "    </tr>\n",
              "  </tbody>\n",
              "</table>\n",
              "</div>"
            ],
            "text/plain": [
              "              pos_count  neg_count  tot_count  score\n",
              "location            231         18        249   46.0\n",
              "sleepquality         50         28         78   32.0\n",
              "rooms               423         92        515   41.0\n",
              "service             370         55        425   44.0\n",
              "value                70         34        104   34.0\n",
              "cleanliness         131         11        142   46.0"
            ]
          },
          "metadata": {
            "tags": []
          },
          "execution_count": 81
        }
      ]
    },
    {
      "cell_type": "markdown",
      "metadata": {
        "id": "BCoak-S39IOp"
      },
      "source": [
        "In order to easily repeat this process for every hotel, we wrap it in a function which takes as input the list of reviews and returns the Series with the final scores per feature"
      ]
    },
    {
      "cell_type": "code",
      "metadata": {
        "id": "xL4QJitL9IOp"
      },
      "source": [
        "def feature_scores(reviews, feature_words, pos_words, neg_words):\n",
        "    sentences = [sent for review in reviews for sent in nltk.sent_tokenize(review)]\n",
        "    counts = feature_pos_neg_counts(sentences, feature_words, pos_words, neg_words)\n",
        "    total = counts.pos_count + counts.neg_count\n",
        "    return round(50 * counts.pos_count / total)"
      ],
      "execution_count": null,
      "outputs": []
    },
    {
      "cell_type": "code",
      "metadata": {
        "id": "BF2X1PJN9IOq",
        "colab": {
          "base_uri": "https://localhost:8080/"
        },
        "outputId": "b13098f1-cd08-4dd9-feba-4a2584800340"
      },
      "source": [
        "feature_scores(reviews_interc, feature_words, hu_liu_pos, hu_liu_neg)"
      ],
      "execution_count": null,
      "outputs": [
        {
          "output_type": "execute_result",
          "data": {
            "text/plain": [
              "location        46.0\n",
              "sleepquality    32.0\n",
              "rooms           41.0\n",
              "service         44.0\n",
              "value           34.0\n",
              "cleanliness     46.0\n",
              "dtype: float64"
            ]
          },
          "metadata": {
            "tags": []
          },
          "execution_count": 83
        }
      ]
    },
    {
      "cell_type": "markdown",
      "metadata": {
        "id": "ovCL19qT9IOr"
      },
      "source": [
        "Let's create a DataFrame with feature scores for all analyzed hotels"
      ]
    },
    {
      "cell_type": "code",
      "metadata": {
        "id": "RnPw_fR_9IOr"
      },
      "source": [
        "scores = pd.DataFrame({hotel: feature_scores(reviews, feature_words, hu_liu_pos, hu_liu_neg) for hotel, reviews in all_reviews.items()})"
      ],
      "execution_count": null,
      "outputs": []
    },
    {
      "cell_type": "code",
      "metadata": {
        "id": "eZMYfs7G9IOs",
        "colab": {
          "base_uri": "https://localhost:8080/",
          "height": 393
        },
        "outputId": "aebc00e7-cdb2-4b6a-862c-7ea3dc66539f"
      },
      "source": [
        "print(scores)\n",
        "\n",
        "scores.T   # transpose the table"
      ],
      "execution_count": null,
      "outputs": [
        {
          "output_type": "stream",
          "text": [
            "              affinia_chicago  ...  the_palmer_house_hilton\n",
            "location                 45.0  ...                     45.0\n",
            "sleepquality             25.0  ...                     26.0\n",
            "rooms                    42.0  ...                     37.0\n",
            "service                  45.0  ...                     40.0\n",
            "value                    39.0  ...                     35.0\n",
            "cleanliness              46.0  ...                     44.0\n",
            "\n",
            "[6 rows x 6 columns]\n"
          ],
          "name": "stdout"
        },
        {
          "output_type": "execute_result",
          "data": {
            "text/html": [
              "<div>\n",
              "<style scoped>\n",
              "    .dataframe tbody tr th:only-of-type {\n",
              "        vertical-align: middle;\n",
              "    }\n",
              "\n",
              "    .dataframe tbody tr th {\n",
              "        vertical-align: top;\n",
              "    }\n",
              "\n",
              "    .dataframe thead th {\n",
              "        text-align: right;\n",
              "    }\n",
              "</style>\n",
              "<table border=\"1\" class=\"dataframe\">\n",
              "  <thead>\n",
              "    <tr style=\"text-align: right;\">\n",
              "      <th></th>\n",
              "      <th>location</th>\n",
              "      <th>sleepquality</th>\n",
              "      <th>rooms</th>\n",
              "      <th>service</th>\n",
              "      <th>value</th>\n",
              "      <th>cleanliness</th>\n",
              "    </tr>\n",
              "  </thead>\n",
              "  <tbody>\n",
              "    <tr>\n",
              "      <th>affinia_chicago</th>\n",
              "      <td>45.0</td>\n",
              "      <td>25.0</td>\n",
              "      <td>42.0</td>\n",
              "      <td>45.0</td>\n",
              "      <td>39.0</td>\n",
              "      <td>46.0</td>\n",
              "    </tr>\n",
              "    <tr>\n",
              "      <th>hyatt_regency_chicago</th>\n",
              "      <td>45.0</td>\n",
              "      <td>27.0</td>\n",
              "      <td>37.0</td>\n",
              "      <td>39.0</td>\n",
              "      <td>30.0</td>\n",
              "      <td>42.0</td>\n",
              "    </tr>\n",
              "    <tr>\n",
              "      <th>intercontinental_chicago</th>\n",
              "      <td>46.0</td>\n",
              "      <td>32.0</td>\n",
              "      <td>41.0</td>\n",
              "      <td>44.0</td>\n",
              "      <td>34.0</td>\n",
              "      <td>46.0</td>\n",
              "    </tr>\n",
              "    <tr>\n",
              "      <th>james_chicago</th>\n",
              "      <td>47.0</td>\n",
              "      <td>30.0</td>\n",
              "      <td>41.0</td>\n",
              "      <td>44.0</td>\n",
              "      <td>35.0</td>\n",
              "      <td>46.0</td>\n",
              "    </tr>\n",
              "    <tr>\n",
              "      <th>swissotel_chicago</th>\n",
              "      <td>44.0</td>\n",
              "      <td>32.0</td>\n",
              "      <td>40.0</td>\n",
              "      <td>43.0</td>\n",
              "      <td>34.0</td>\n",
              "      <td>46.0</td>\n",
              "    </tr>\n",
              "    <tr>\n",
              "      <th>the_palmer_house_hilton</th>\n",
              "      <td>45.0</td>\n",
              "      <td>26.0</td>\n",
              "      <td>37.0</td>\n",
              "      <td>40.0</td>\n",
              "      <td>35.0</td>\n",
              "      <td>44.0</td>\n",
              "    </tr>\n",
              "  </tbody>\n",
              "</table>\n",
              "</div>"
            ],
            "text/plain": [
              "                          location  sleepquality  ...  value  cleanliness\n",
              "affinia_chicago               45.0          25.0  ...   39.0         46.0\n",
              "hyatt_regency_chicago         45.0          27.0  ...   30.0         42.0\n",
              "intercontinental_chicago      46.0          32.0  ...   34.0         46.0\n",
              "james_chicago                 47.0          30.0  ...   35.0         46.0\n",
              "swissotel_chicago             44.0          32.0  ...   34.0         46.0\n",
              "the_palmer_house_hilton       45.0          26.0  ...   35.0         44.0\n",
              "\n",
              "[6 rows x 6 columns]"
            ]
          },
          "metadata": {
            "tags": []
          },
          "execution_count": 85
        }
      ]
    },
    {
      "cell_type": "markdown",
      "metadata": {
        "id": "SRg2vywT9IOv"
      },
      "source": [
        "We can create a bar plot to compare the hotels by each feature"
      ]
    },
    {
      "cell_type": "code",
      "metadata": {
        "id": "Z77JJX999IOv",
        "colab": {
          "base_uri": "https://localhost:8080/",
          "height": 333
        },
        "outputId": "67e2e027-8dc0-4bb9-f1f9-d79df53ee531"
      },
      "source": [
        "scores.plot.bar()"
      ],
      "execution_count": null,
      "outputs": [
        {
          "output_type": "execute_result",
          "data": {
            "text/plain": [
              "<matplotlib.axes._subplots.AxesSubplot at 0x7fafdeee0f50>"
            ]
          },
          "metadata": {
            "tags": []
          },
          "execution_count": 86
        },
        {
          "output_type": "display_data",
          "data": {
            "image/png": "[encoded data removed]",
            "text/plain": [
              "<Figure size 432x288 with 1 Axes>"
            ]
          },
          "metadata": {
            "tags": [],
            "needs_background": "light"
          }
        }
      ]
    },
    {
      "cell_type": "markdown",
      "metadata": {
        "id": "Qr17VRMp9IOw"
      },
      "source": [
        "### Comparing scores with TripAdvisor\n",
        "\n",
        "Obtained scores can be compared with the feature ratings which were computed by TripAdvisor up to some time ago\n",
        "\n",
        "![hotel ratings](https://www.dropbox.com/s/pq6q9ugsaessow6/hotel-ratings.png?dl=1)"
      ]
    },
    {
      "cell_type": "markdown",
      "metadata": {
        "id": "3k9gENE_9IOw"
      },
      "source": [
        "## Activity 3: Classification of Reviews via Supervised Training\n",
        "\n",
        "**Goal:** classify user reviews of movies extracted from IMDB as positive or negative\n",
        "\n",
        "Contrarily to previous activities, this time we will train a classificaton model on existing reviews instead of using manually set keywords"
      ]
    },
    {
      "cell_type": "markdown",
      "metadata": {
        "id": "AXWxfW1Q9IOw"
      },
      "source": [
        "### Loading reviews\n",
        "\n",
        "We load reviews from a GZIP-compressed CSV file of 10,000 movie reviews, alternated between positive and negative"
      ]
    },
    {
      "cell_type": "code",
      "metadata": {
        "id": "gyb5edlH9IOx"
      },
      "source": [
        "download(\"acl-10k.csv.gz\", \"https://github.com/datascienceunibo/bbs-opinion-lab-2019/raw/master/acl-10k.csv.gz\")"
      ],
      "execution_count": null,
      "outputs": []
    },
    {
      "cell_type": "code",
      "metadata": {
        "id": "pUWkUCnB9IOy"
      },
      "source": [
        "reviews = pd.read_csv(\"acl-10k.csv.gz\", sep=\"\\t\", header=None, names=[\"label\", \"text\"], compression=\"gzip\")"
      ],
      "execution_count": null,
      "outputs": []
    },
    {
      "cell_type": "code",
      "metadata": {
        "id": "gYE_BFzX9IOz",
        "colab": {
          "base_uri": "https://localhost:8080/",
          "height": 206
        },
        "outputId": "65e78c83-f595-4761-f849-507acb881b59"
      },
      "source": [
        "reviews.head()"
      ],
      "execution_count": null,
      "outputs": [
        {
          "output_type": "execute_result",
          "data": {
            "text/html": [
              "<div>\n",
              "<style scoped>\n",
              "    .dataframe tbody tr th:only-of-type {\n",
              "        vertical-align: middle;\n",
              "    }\n",
              "\n",
              "    .dataframe tbody tr th {\n",
              "        vertical-align: top;\n",
              "    }\n",
              "\n",
              "    .dataframe thead th {\n",
              "        text-align: right;\n",
              "    }\n",
              "</style>\n",
              "<table border=\"1\" class=\"dataframe\">\n",
              "  <thead>\n",
              "    <tr style=\"text-align: right;\">\n",
              "      <th></th>\n",
              "      <th>label</th>\n",
              "      <th>text</th>\n",
              "    </tr>\n",
              "  </thead>\n",
              "  <tbody>\n",
              "    <tr>\n",
              "      <th>0</th>\n",
              "      <td>pos</td>\n",
              "      <td>Bromwell High is a cartoon comedy. It ran at the same time as some other programs about school l...</td>\n",
              "    </tr>\n",
              "    <tr>\n",
              "      <th>1</th>\n",
              "      <td>neg</td>\n",
              "      <td>Story of a man who has unnatural feelings for a pig. Starts out with a opening scene that is a t...</td>\n",
              "    </tr>\n",
              "    <tr>\n",
              "      <th>2</th>\n",
              "      <td>pos</td>\n",
              "      <td>If you like adult comedy cartoons, like South Park, then this is nearly a similar format about t...</td>\n",
              "    </tr>\n",
              "    <tr>\n",
              "      <th>3</th>\n",
              "      <td>neg</td>\n",
              "      <td>Robert DeNiro plays the most unbelievably intelligent illiterate of all time. This movie is so w...</td>\n",
              "    </tr>\n",
              "    <tr>\n",
              "      <th>4</th>\n",
              "      <td>pos</td>\n",
              "      <td>Bromwell High is nothing short of brilliant. Expertly scripted and perfectly delivered, this sea...</td>\n",
              "    </tr>\n",
              "  </tbody>\n",
              "</table>\n",
              "</div>"
            ],
            "text/plain": [
              "  label                                                                                                 text\n",
              "0   pos  Bromwell High is a cartoon comedy. It ran at the same time as some other programs about school l...\n",
              "1   neg  Story of a man who has unnatural feelings for a pig. Starts out with a opening scene that is a t...\n",
              "2   pos  If you like adult comedy cartoons, like South Park, then this is nearly a similar format about t...\n",
              "3   neg  Robert DeNiro plays the most unbelievably intelligent illiterate of all time. This movie is so w...\n",
              "4   pos  Bromwell High is nothing short of brilliant. Expertly scripted and perfectly delivered, this sea..."
            ]
          },
          "metadata": {
            "tags": []
          },
          "execution_count": 89
        }
      ]
    },
    {
      "cell_type": "markdown",
      "metadata": {
        "id": "U172DUlL9IO0"
      },
      "source": [
        "In order to validate the goodness of automated classification, we use the _hold-out_ approach: a part of the reviews is used to train a classifier, while the remaining ones are used to assess its accuracy\n",
        "\n",
        "Let's select the first half of the reviews as the _training set_ and the second half as the _test set_"
      ]
    },
    {
      "cell_type": "code",
      "metadata": {
        "id": "KxsrEToT9IO0"
      },
      "source": [
        "reviews_train = reviews[:5000]\n",
        "reviews_test = reviews[5000:]"
      ],
      "execution_count": null,
      "outputs": []
    },
    {
      "cell_type": "markdown",
      "metadata": {
        "id": "nSndGPba9IO1"
      },
      "source": [
        "### Bag of Words and Vector Space Model\n",
        "\n",
        "In order to train and use a classifier on reviews, we have to define the _features_ which represent them\n",
        "\n",
        "With the _Bag of Words_ model we represent each review as the set of words contained in it, regardless of their order\n",
        "\n",
        "Once defined a set of known words, we can represent each review with a vector indicating for each word the number of occurrencies in the text; a set of reviews can be be consequently represented as a _document-term matrix_ with a row vector for each review"
      ]
    },
    {
      "cell_type": "markdown",
      "metadata": {
        "id": "f4Wvi4Uo9IO1"
      },
      "source": [
        "Let's define a list of example text documents..."
      ]
    },
    {
      "cell_type": "code",
      "metadata": {
        "id": "CV26ZAf49IO1"
      },
      "source": [
        "docs = [\n",
        "    \"the sky is blue\",\n",
        "    \"sky is blue and sky is beautiful\",\n",
        "    \"the beautiful sky is so blue\",\n",
        "    \"i love blue cheese\"\n",
        "]"
      ],
      "execution_count": null,
      "outputs": []
    },
    {
      "cell_type": "markdown",
      "metadata": {
        "id": "MossE1cR9IO2"
      },
      "source": [
        "A `CountVectorizer` extracts a vector for each document with counts of distinct words in it: we start from creating an \"empty\" vectorizer"
      ]
    },
    {
      "cell_type": "code",
      "metadata": {
        "id": "WeRiIqIZ9IO2"
      },
      "source": [
        "from sklearn.feature_extraction.text import CountVectorizer\n",
        "vect = CountVectorizer()"
      ],
      "execution_count": null,
      "outputs": []
    },
    {
      "cell_type": "markdown",
      "metadata": {
        "id": "Abjwprh_9IO3"
      },
      "source": [
        "We use the `fit_transform` method passing the list of documents to\n",
        "\n",
        "- \"build\" the vector space with dimensions corresponding to words within them (_fit_)\n",
        "- return the document-term matrix representing them (_transform_)"
      ]
    },
    {
      "cell_type": "code",
      "metadata": {
        "id": "FaqE_cGv9IO3",
        "colab": {
          "base_uri": "https://localhost:8080/"
        },
        "outputId": "03edb9e4-8100-4644-a1e5-290ea72e3a43"
      },
      "source": [
        "dtm = vect.fit_transform(docs)\n",
        "dtm"
      ],
      "execution_count": null,
      "outputs": [
        {
          "output_type": "execute_result",
          "data": {
            "text/plain": [
              "<4x9 sparse matrix of type '<class 'numpy.int64'>'\n",
              "\twith 18 stored elements in Compressed Sparse Row format>"
            ]
          },
          "metadata": {
            "tags": []
          },
          "execution_count": 93
        }
      ]
    },
    {
      "cell_type": "markdown",
      "metadata": {
        "id": "sNyRpX6J9IO4"
      },
      "source": [
        "The obtained `dtm` matrix contains a row for each document and a column for each distinct word found within documents: we can obtain a list of the words \"learned\" by the vectorizer..."
      ]
    },
    {
      "cell_type": "code",
      "metadata": {
        "id": "qsirTqtE9IO4",
        "colab": {
          "base_uri": "https://localhost:8080/"
        },
        "outputId": "d937ac95-075b-44b4-e558-0675a661f655"
      },
      "source": [
        "vect.get_feature_names()"
      ],
      "execution_count": null,
      "outputs": [
        {
          "output_type": "execute_result",
          "data": {
            "text/plain": [
              "['and', 'beautiful', 'blue', 'cheese', 'is', 'love', 'sky', 'so', 'the']"
            ]
          },
          "metadata": {
            "tags": []
          },
          "execution_count": 94
        }
      ]
    },
    {
      "cell_type": "markdown",
      "metadata": {
        "id": "_vDbPWyr9IO5"
      },
      "source": [
        "Let's view the matrix as a DataFrame, labeling rows and columns with corresponding documents and features"
      ]
    },
    {
      "cell_type": "code",
      "metadata": {
        "id": "C8xOa6zB9IO5",
        "colab": {
          "base_uri": "https://localhost:8080/",
          "height": 175
        },
        "outputId": "80faf787-bf18-466f-8c31-baf3efa0a8a1"
      },
      "source": [
        "pd.DataFrame(dtm.toarray(), index=docs, columns=vect.get_feature_names())"
      ],
      "execution_count": null,
      "outputs": [
        {
          "output_type": "execute_result",
          "data": {
            "text/html": [
              "<div>\n",
              "<style scoped>\n",
              "    .dataframe tbody tr th:only-of-type {\n",
              "        vertical-align: middle;\n",
              "    }\n",
              "\n",
              "    .dataframe tbody tr th {\n",
              "        vertical-align: top;\n",
              "    }\n",
              "\n",
              "    .dataframe thead th {\n",
              "        text-align: right;\n",
              "    }\n",
              "</style>\n",
              "<table border=\"1\" class=\"dataframe\">\n",
              "  <thead>\n",
              "    <tr style=\"text-align: right;\">\n",
              "      <th></th>\n",
              "      <th>and</th>\n",
              "      <th>beautiful</th>\n",
              "      <th>blue</th>\n",
              "      <th>cheese</th>\n",
              "      <th>is</th>\n",
              "      <th>love</th>\n",
              "      <th>sky</th>\n",
              "      <th>so</th>\n",
              "      <th>the</th>\n",
              "    </tr>\n",
              "  </thead>\n",
              "  <tbody>\n",
              "    <tr>\n",
              "      <th>the sky is blue</th>\n",
              "      <td>0</td>\n",
              "      <td>0</td>\n",
              "      <td>1</td>\n",
              "      <td>0</td>\n",
              "      <td>1</td>\n",
              "      <td>0</td>\n",
              "      <td>1</td>\n",
              "      <td>0</td>\n",
              "      <td>1</td>\n",
              "    </tr>\n",
              "    <tr>\n",
              "      <th>sky is blue and sky is beautiful</th>\n",
              "      <td>1</td>\n",
              "      <td>1</td>\n",
              "      <td>1</td>\n",
              "      <td>0</td>\n",
              "      <td>2</td>\n",
              "      <td>0</td>\n",
              "      <td>2</td>\n",
              "      <td>0</td>\n",
              "      <td>0</td>\n",
              "    </tr>\n",
              "    <tr>\n",
              "      <th>the beautiful sky is so blue</th>\n",
              "      <td>0</td>\n",
              "      <td>1</td>\n",
              "      <td>1</td>\n",
              "      <td>0</td>\n",
              "      <td>1</td>\n",
              "      <td>0</td>\n",
              "      <td>1</td>\n",
              "      <td>1</td>\n",
              "      <td>1</td>\n",
              "    </tr>\n",
              "    <tr>\n",
              "      <th>i love blue cheese</th>\n",
              "      <td>0</td>\n",
              "      <td>0</td>\n",
              "      <td>1</td>\n",
              "      <td>1</td>\n",
              "      <td>0</td>\n",
              "      <td>1</td>\n",
              "      <td>0</td>\n",
              "      <td>0</td>\n",
              "      <td>0</td>\n",
              "    </tr>\n",
              "  </tbody>\n",
              "</table>\n",
              "</div>"
            ],
            "text/plain": [
              "                                  and  beautiful  blue  ...  sky  so  the\n",
              "the sky is blue                     0          0     1  ...    1   0    1\n",
              "sky is blue and sky is beautiful    1          1     1  ...    2   0    0\n",
              "the beautiful sky is so blue        0          1     1  ...    1   1    1\n",
              "i love blue cheese                  0          0     1  ...    0   0    0\n",
              "\n",
              "[4 rows x 9 columns]"
            ]
          },
          "metadata": {
            "tags": []
          },
          "execution_count": 95
        }
      ]
    },
    {
      "cell_type": "markdown",
      "metadata": {
        "id": "SoJFPERf9IO6"
      },
      "source": [
        "As we can see, the matrix indicates for each document the number of occurrencies of each word"
      ]
    },
    {
      "cell_type": "markdown",
      "metadata": {
        "id": "BRH85pEK9IO6"
      },
      "source": [
        "Using the `transform` method, we can represent further documents in the same vector space"
      ]
    },
    {
      "cell_type": "code",
      "metadata": {
        "id": "MNvHGGTU9IO6"
      },
      "source": [
        "new_docs = [\"loving this blue sky today\"]\n",
        "new_dtm = vect.transform(new_docs)"
      ],
      "execution_count": null,
      "outputs": []
    },
    {
      "cell_type": "code",
      "metadata": {
        "id": "k3ZWv5yl9IO7",
        "colab": {
          "base_uri": "https://localhost:8080/",
          "height": 81
        },
        "outputId": "d2d43673-678e-486d-e35f-227373f444e3"
      },
      "source": [
        "pd.DataFrame(new_dtm.toarray(), index=new_docs, columns=vect.get_feature_names())"
      ],
      "execution_count": null,
      "outputs": [
        {
          "output_type": "execute_result",
          "data": {
            "text/html": [
              "<div>\n",
              "<style scoped>\n",
              "    .dataframe tbody tr th:only-of-type {\n",
              "        vertical-align: middle;\n",
              "    }\n",
              "\n",
              "    .dataframe tbody tr th {\n",
              "        vertical-align: top;\n",
              "    }\n",
              "\n",
              "    .dataframe thead th {\n",
              "        text-align: right;\n",
              "    }\n",
              "</style>\n",
              "<table border=\"1\" class=\"dataframe\">\n",
              "  <thead>\n",
              "    <tr style=\"text-align: right;\">\n",
              "      <th></th>\n",
              "      <th>and</th>\n",
              "      <th>beautiful</th>\n",
              "      <th>blue</th>\n",
              "      <th>cheese</th>\n",
              "      <th>is</th>\n",
              "      <th>love</th>\n",
              "      <th>sky</th>\n",
              "      <th>so</th>\n",
              "      <th>the</th>\n",
              "    </tr>\n",
              "  </thead>\n",
              "  <tbody>\n",
              "    <tr>\n",
              "      <th>loving this blue sky today</th>\n",
              "      <td>0</td>\n",
              "      <td>0</td>\n",
              "      <td>1</td>\n",
              "      <td>0</td>\n",
              "      <td>0</td>\n",
              "      <td>0</td>\n",
              "      <td>1</td>\n",
              "      <td>0</td>\n",
              "      <td>0</td>\n",
              "    </tr>\n",
              "  </tbody>\n",
              "</table>\n",
              "</div>"
            ],
            "text/plain": [
              "                            and  beautiful  blue  cheese  ...  love  sky  so  the\n",
              "loving this blue sky today    0          0     1       0  ...     0    1   0    0\n",
              "\n",
              "[1 rows x 9 columns]"
            ]
          },
          "metadata": {
            "tags": []
          },
          "execution_count": 97
        }
      ]
    },
    {
      "cell_type": "markdown",
      "metadata": {
        "id": "pdXF5wcL9IO-"
      },
      "source": [
        "Notice that some words of the new document (e.g. \"loving\") are lost in the representation, because they are not known in the vector space, but this is generally a minor problem if the vector space is built on many documents"
      ]
    },
    {
      "cell_type": "markdown",
      "metadata": {
        "id": "gEB3lHRu9IO_"
      },
      "source": [
        "### Training a classifier\n",
        "\n",
        "We use the vector space model to represent reviews passed to a classifier: let's create a new vector space..."
      ]
    },
    {
      "cell_type": "code",
      "metadata": {
        "id": "AaeFZphn9IPA"
      },
      "source": [
        "vect = CountVectorizer()"
      ],
      "execution_count": null,
      "outputs": []
    },
    {
      "cell_type": "markdown",
      "metadata": {
        "id": "sxVsu06v9IPB"
      },
      "source": [
        "...and fit it to reviews of the training set only (as we assume to _not_ know in advance documents of the test set), obtaining the document-term matrix representing them"
      ]
    },
    {
      "cell_type": "code",
      "metadata": {
        "id": "IJ19rE7L9IPB"
      },
      "source": [
        "dtm_train = vect.fit_transform(reviews_train.text)"
      ],
      "execution_count": null,
      "outputs": []
    },
    {
      "cell_type": "markdown",
      "metadata": {
        "id": "EvHsj5Jh9IPC"
      },
      "source": [
        "We can get the total count of extracted feature words..."
      ]
    },
    {
      "cell_type": "code",
      "metadata": {
        "id": "xUqEZwSn9IPC",
        "colab": {
          "base_uri": "https://localhost:8080/"
        },
        "outputId": "75fa10e1-1f27-48e6-fcc4-52bdd42f1374"
      },
      "source": [
        "len(vect.get_feature_names())"
      ],
      "execution_count": null,
      "outputs": [
        {
          "output_type": "execute_result",
          "data": {
            "text/plain": [
              "36272"
            ]
          },
          "metadata": {
            "tags": []
          },
          "execution_count": 100
        }
      ]
    },
    {
      "cell_type": "markdown",
      "metadata": {
        "id": "Ao9puiLl9IPD"
      },
      "source": [
        "...and see some of them (they are in alphabetical order)"
      ]
    },
    {
      "cell_type": "code",
      "metadata": {
        "id": "z8nvNkQL9IPD",
        "colab": {
          "base_uri": "https://localhost:8080/"
        },
        "outputId": "43081911-6398-4f87-ac5a-25e76c8ec162"
      },
      "source": [
        "vect.get_feature_names()[1000:1005]"
      ],
      "execution_count": null,
      "outputs": [
        {
          "output_type": "execute_result",
          "data": {
            "text/plain": [
              "['affections', 'affects', 'afficinados', 'affiliated', 'affiliation']"
            ]
          },
          "metadata": {
            "tags": []
          },
          "execution_count": 101
        }
      ]
    },
    {
      "cell_type": "markdown",
      "metadata": {
        "id": "HEbpXAp49IPE"
      },
      "source": [
        "The document-term matrix is _sparse_, meaning that most of its elements are zero. We can verify the ratio of non-zero elements by converting them to booleans and computing the mean value (all non-zero values become 1)"
      ]
    },
    {
      "cell_type": "code",
      "metadata": {
        "id": "nQ4TYTLb9IPE",
        "colab": {
          "base_uri": "https://localhost:8080/"
        },
        "outputId": "5e509985-2623-4607-b114-d34300de73f6"
      },
      "source": [
        "dtm_train.astype(bool).mean()"
      ],
      "execution_count": null,
      "outputs": [
        {
          "output_type": "execute_result",
          "data": {
            "text/plain": [
              "0.0037657973092192322"
            ]
          },
          "metadata": {
            "tags": []
          },
          "execution_count": 102
        }
      ]
    },
    {
      "cell_type": "markdown",
      "metadata": {
        "id": "E-5Ij_zz9IPF"
      },
      "source": [
        "Such matrix is represented in memory with a space-efficient data structure which explicitly stores non-zero values only"
      ]
    },
    {
      "cell_type": "markdown",
      "metadata": {
        "id": "4MtpO5hF9IPF"
      },
      "source": [
        "Now we can train any classification model on the generated vectors: let's use for example logistic regression, SVM and some bayesian models.\n",
        "\n",
        "As for the vectorizer, we first create the \"empty\" model..."
      ]
    },
    {
      "cell_type": "code",
      "metadata": {
        "id": "UV3gt-5wxKxW"
      },
      "source": [
        "from sklearn.naive_bayes import MultinomialNB\n",
        "model = MultinomialNB() # Naive Bayes classifier for multinomial models"
      ],
      "execution_count": null,
      "outputs": []
    },
    {
      "cell_type": "markdown",
      "metadata": {
        "id": "aDV_JuKf-ieE"
      },
      "source": [
        "The multinomial Naive Bayes classifier is suitable for classification with discrete features (e.g., word counts for text classification). The multinomial distribution normally requires integer feature counts. However, in practice, fractional counts such as tf-idf may also work."
      ]
    },
    {
      "cell_type": "code",
      "metadata": {
        "id": "Hd6GUeZ6yEno"
      },
      "source": [
        "from sklearn.naive_bayes import BernoulliNB # Naive Bayes classifier for multivariate Bernoulli models.\n",
        "# The default parameter named \"binarize\" will transform each input vector in a\n",
        "# binary vector based on the specified threshold (0.0)\n",
        "model = BernoulliNB(binarize=0.0) # if input > 0.0 then 1 else 0"
      ],
      "execution_count": null,
      "outputs": []
    },
    {
      "cell_type": "markdown",
      "metadata": {
        "id": "gxyakhXB4z-v"
      },
      "source": [
        "Like MultinomialNB, this classifier is suitable for discrete data but it usually works better with few features and **short docs**. \n",
        "Indeed, this latter Naive Bayes model will perform better (Accuracy: 77.38% to $\\approx$ 81%) than the multinomial version since we are dealing with short texts.\n",
        "\n",
        "The difference is that while MultinomialNB works with occurrence counts, BernoulliNB is designed for binary/boolean features! Since we have the frequency count for each term, we have to convert it into a binary variable but the BernoulliNB implementation already do this mapping!"
      ]
    },
    {
      "cell_type": "code",
      "metadata": {
        "id": "0rNKFlWZ09Ko"
      },
      "source": [
        "from sklearn.svm import SVC\n",
        "model = SVC() # default kernel is set to RBF"
      ],
      "execution_count": null,
      "outputs": []
    },
    {
      "cell_type": "code",
      "metadata": {
        "id": "2dY6AnK61uJ6"
      },
      "source": [
        "from sklearn.svm import LinearSVC\n",
        "model = LinearSVC(max_iter = 5000) # max_iter param represents the maximum number of iterations performed by the optimization algorithm used to train the model by the sklearn library"
      ],
      "execution_count": null,
      "outputs": []
    },
    {
      "cell_type": "markdown",
      "metadata": {
        "id": "BYCAZu2v4C1L"
      },
      "source": [
        "SVM generally does just as well on textual data without using kernels because the multidimensional space is so vast that the probability of finding a separation hyperplane is similar to that of finding a nonlinear separation.\n",
        "In other words you can notice that with or without a kernel the result does not change significantly."
      ]
    },
    {
      "cell_type": "markdown",
      "metadata": {
        "id": "Vc_lVIQnAS-A"
      },
      "source": [
        "Let's go on creating a logistic regression model..."
      ]
    },
    {
      "cell_type": "code",
      "metadata": {
        "id": "1jtFH7fT9IPF"
      },
      "source": [
        "from sklearn.linear_model import LogisticRegression\n",
        "model = LogisticRegression(solver=\"liblinear\") # liblinear is an optimization algorithm recommended for small volume (small number of rows) and high dimension (high number of columns) datasets"
      ],
      "execution_count": null,
      "outputs": []
    },
    {
      "cell_type": "markdown",
      "metadata": {
        "id": "-8die02Q9IPH"
      },
      "source": [
        "...then we fit it to the training set, passing the vector representation of the reviews along with their actual labels"
      ]
    },
    {
      "cell_type": "code",
      "metadata": {
        "id": "4yda-8J79IPH",
        "colab": {
          "base_uri": "https://localhost:8080/"
        },
        "outputId": "ddb65263-3513-40e6-e13a-9a09f2aa580c"
      },
      "source": [
        "model.fit(dtm_train, reviews_train.label)"
      ],
      "execution_count": null,
      "outputs": [
        {
          "output_type": "execute_result",
          "data": {
            "text/plain": [
              "LogisticRegression(C=1.0, class_weight=None, dual=False, fit_intercept=True,\n",
              "                   intercept_scaling=1, l1_ratio=None, max_iter=100,\n",
              "                   multi_class='auto', n_jobs=None, penalty='l2',\n",
              "                   random_state=None, solver='liblinear', tol=0.0001, verbose=0,\n",
              "                   warm_start=False)"
            ]
          },
          "metadata": {
            "tags": []
          },
          "execution_count": 108
        }
      ]
    },
    {
      "cell_type": "markdown",
      "metadata": {
        "id": "_TiT04TP9IPI"
      },
      "source": [
        "### Using the classifier\n",
        "\n",
        "Once the classifier is trained, we can use it to estimate labels for further reviews"
      ]
    },
    {
      "cell_type": "code",
      "metadata": {
        "id": "quyMXP829IPI"
      },
      "source": [
        "new_reviews = [\"What an awesome movie!\", \"It was really boring\"]"
      ],
      "execution_count": null,
      "outputs": []
    },
    {
      "cell_type": "markdown",
      "metadata": {
        "id": "aN_eCM4V9IPI"
      },
      "source": [
        "We first have to use the vectorizer to extract their representation in the vector space..."
      ]
    },
    {
      "cell_type": "code",
      "metadata": {
        "id": "TImYsSgC9IPJ"
      },
      "source": [
        "dtm_new = vect.transform(new_reviews)"
      ],
      "execution_count": null,
      "outputs": []
    },
    {
      "cell_type": "markdown",
      "metadata": {
        "id": "b1JhS_eH9IPJ"
      },
      "source": [
        "...then we use the `predict` method of the model to get corresponding predicted labels"
      ]
    },
    {
      "cell_type": "code",
      "metadata": {
        "id": "uH3B9x-A9IPJ",
        "colab": {
          "base_uri": "https://localhost:8080/"
        },
        "outputId": "188bfcf8-9893-4262-96ea-a6f0acdd3795"
      },
      "source": [
        "model.predict(dtm_new)"
      ],
      "execution_count": null,
      "outputs": [
        {
          "output_type": "execute_result",
          "data": {
            "text/plain": [
              "array(['pos', 'neg'], dtype=object)"
            ]
          },
          "metadata": {
            "tags": []
          },
          "execution_count": 111
        }
      ]
    },
    {
      "cell_type": "markdown",
      "metadata": {
        "id": "s1XAeXqW9IPK"
      },
      "source": [
        "### Evaluating the classifier\n",
        "\n",
        "We can evaluate the goodness of the classifier by getting predicted labels for reviews in the test set and comparing them with known actual labels\n",
        "\n",
        "Given data and actual labels of the test set, the `score` method of the model computes the _accuracy_ as the ratio of test reviews for which classification is correct\n",
        "\n",
        "We first obtain the document-term matrix for the test set..."
      ]
    },
    {
      "cell_type": "code",
      "metadata": {
        "id": "5t3vPmrv9IPK"
      },
      "source": [
        "dtm_test = vect.transform(reviews_test.text)"
      ],
      "execution_count": null,
      "outputs": []
    },
    {
      "cell_type": "markdown",
      "metadata": {
        "id": "8p-rRVcK9IPM"
      },
      "source": [
        "...then we call the `score` method on it and on the known labels"
      ]
    },
    {
      "cell_type": "code",
      "metadata": {
        "id": "lUGulqIl9IPM",
        "colab": {
          "base_uri": "https://localhost:8080/"
        },
        "outputId": "7d81c713-ce95-46f5-b94f-4320c557edc3"
      },
      "source": [
        "model.score(dtm_test, reviews_test.label) # classification accuracy"
      ],
      "execution_count": null,
      "outputs": [
        {
          "output_type": "execute_result",
          "data": {
            "text/plain": [
              "0.8188"
            ]
          },
          "metadata": {
            "tags": []
          },
          "execution_count": 113
        }
      ]
    },
    {
      "cell_type": "markdown",
      "metadata": {
        "id": "7rSJPrJY9IPN"
      },
      "source": [
        "### Creating a pipeline\n",
        "\n",
        "In all the operations above (training, predicting, evaluating) we had to manually convert text reviews into their vector representations before passing them to the model\n",
        "\n",
        "scikit-learn allows to create _pipelines_, which combine a prediction model with a sequence of one or more pre-processing steps into a single object\n",
        "\n",
        "We first create the pipeline by specifying its components, in this case the vectorizer and the actual classifier; each component has a name, allowing it to be referenced after creation"
      ]
    },
    {
      "cell_type": "code",
      "metadata": {
        "id": "vGRxjDKU9IPO"
      },
      "source": [
        "from sklearn.pipeline import Pipeline\n",
        "model = Pipeline([\n",
        "    (\"vectorizer\", CountVectorizer()), # 1\n",
        "    (\"classifier\", LogisticRegression(max_iter=500)) # 2\n",
        "])"
      ],
      "execution_count": null,
      "outputs": []
    },
    {
      "cell_type": "markdown",
      "metadata": {
        "id": "eS6yzG6m9IPO"
      },
      "source": [
        "Now, we can use the pipeline as we used the model above, but passing directly the text of reviews, as the vectorizer is automatically fit to reviews used to fit the model and used to transform all reviews passed to the classifier"
      ]
    },
    {
      "cell_type": "code",
      "metadata": {
        "id": "WXol6wfi9IPP"
      },
      "source": [
        "model.fit(reviews_train.text, reviews_train.label);\n",
        "# \";\" is used to suppress output"
      ],
      "execution_count": null,
      "outputs": []
    },
    {
      "cell_type": "code",
      "metadata": {
        "id": "3U9h8m8L9IPP",
        "colab": {
          "base_uri": "https://localhost:8080/"
        },
        "outputId": "13f2bcfc-5f9c-4192-b82c-8907ac4f0daf"
      },
      "source": [
        "model.predict(new_reviews)"
      ],
      "execution_count": null,
      "outputs": [
        {
          "output_type": "execute_result",
          "data": {
            "text/plain": [
              "array(['pos', 'neg'], dtype=object)"
            ]
          },
          "metadata": {
            "tags": []
          },
          "execution_count": 116
        }
      ]
    },
    {
      "cell_type": "code",
      "metadata": {
        "id": "1EYlXN3g9IPQ",
        "colab": {
          "base_uri": "https://localhost:8080/"
        },
        "outputId": "7d027814-ba46-40d4-c0e8-0e6a84196567"
      },
      "source": [
        "model.score(reviews_test.text, reviews_test.label)"
      ],
      "execution_count": null,
      "outputs": [
        {
          "output_type": "execute_result",
          "data": {
            "text/plain": [
              "0.8186"
            ]
          },
          "metadata": {
            "tags": []
          },
          "execution_count": 117
        }
      ]
    },
    {
      "cell_type": "markdown",
      "metadata": {
        "id": "9L8flQBB9IPS"
      },
      "source": [
        "We obtain the same result as above, but with cleaner code"
      ]
    },
    {
      "cell_type": "markdown",
      "metadata": {
        "id": "c_s0lFHW9IPS"
      },
      "source": [
        "### Applying tf.idf term weighting\n",
        "\n",
        "The `CountVectorizer` generates vectors with simple counts of occurrencies of terms within a document, without considering the relative importance of such terms with respect to each other\n",
        "\n",
        "The _tf.idf_ term weighting scheme uses a formula with two factors to better evaluate the weight of each term in each document\n",
        "\n",
        "- The _tf_ factor evaluates the _local_ importance of a term in a document: it is usually the usual count of occurrencies of the term (or its logarithm)\n",
        "- The _idf_ factor evaluates the _global_ importance of a term in the set of documents: it is higher for terms appearing in fewer documents, as they are supposed to be more specific\n",
        "\n",
        "In order to use tf.idf in place of raw counts of occurrencies, we simply use `TfidfVectorizer` in place of `CountVectorizer`"
      ]
    },
    {
      "cell_type": "markdown",
      "metadata": {
        "id": "dTWh-mql9IPS"
      },
      "source": [
        "Let's see for example the tf.idf applied to example documents used above..."
      ]
    },
    {
      "cell_type": "code",
      "metadata": {
        "id": "1adRlwwO9IPS",
        "colab": {
          "base_uri": "https://localhost:8080/",
          "height": 175
        },
        "outputId": "c254011a-d618-405f-f573-ff39380a69f1"
      },
      "source": [
        "from sklearn.feature_extraction.text import TfidfVectorizer\n",
        "vect = TfidfVectorizer()\n",
        "dtm = vect.fit_transform(docs)\n",
        "pd.DataFrame(dtm.toarray(), index=docs, columns=vect.get_feature_names())"
      ],
      "execution_count": null,
      "outputs": [
        {
          "output_type": "execute_result",
          "data": {
            "text/html": [
              "<div>\n",
              "<style scoped>\n",
              "    .dataframe tbody tr th:only-of-type {\n",
              "        vertical-align: middle;\n",
              "    }\n",
              "\n",
              "    .dataframe tbody tr th {\n",
              "        vertical-align: top;\n",
              "    }\n",
              "\n",
              "    .dataframe thead th {\n",
              "        text-align: right;\n",
              "    }\n",
              "</style>\n",
              "<table border=\"1\" class=\"dataframe\">\n",
              "  <thead>\n",
              "    <tr style=\"text-align: right;\">\n",
              "      <th></th>\n",
              "      <th>and</th>\n",
              "      <th>beautiful</th>\n",
              "      <th>blue</th>\n",
              "      <th>cheese</th>\n",
              "      <th>is</th>\n",
              "      <th>love</th>\n",
              "      <th>sky</th>\n",
              "      <th>so</th>\n",
              "      <th>the</th>\n",
              "    </tr>\n",
              "  </thead>\n",
              "  <tbody>\n",
              "    <tr>\n",
              "      <th>the sky is blue</th>\n",
              "      <td>0.000</td>\n",
              "      <td>0.000</td>\n",
              "      <td>0.399</td>\n",
              "      <td>0.000</td>\n",
              "      <td>0.488</td>\n",
              "      <td>0.000</td>\n",
              "      <td>0.488</td>\n",
              "      <td>0.000</td>\n",
              "      <td>0.603</td>\n",
              "    </tr>\n",
              "    <tr>\n",
              "      <th>sky is blue and sky is beautiful</th>\n",
              "      <td>0.441</td>\n",
              "      <td>0.347</td>\n",
              "      <td>0.230</td>\n",
              "      <td>0.000</td>\n",
              "      <td>0.562</td>\n",
              "      <td>0.000</td>\n",
              "      <td>0.562</td>\n",
              "      <td>0.000</td>\n",
              "      <td>0.000</td>\n",
              "    </tr>\n",
              "    <tr>\n",
              "      <th>the beautiful sky is so blue</th>\n",
              "      <td>0.000</td>\n",
              "      <td>0.432</td>\n",
              "      <td>0.286</td>\n",
              "      <td>0.000</td>\n",
              "      <td>0.350</td>\n",
              "      <td>0.000</td>\n",
              "      <td>0.350</td>\n",
              "      <td>0.548</td>\n",
              "      <td>0.432</td>\n",
              "    </tr>\n",
              "    <tr>\n",
              "      <th>i love blue cheese</th>\n",
              "      <td>0.000</td>\n",
              "      <td>0.000</td>\n",
              "      <td>0.346</td>\n",
              "      <td>0.663</td>\n",
              "      <td>0.000</td>\n",
              "      <td>0.663</td>\n",
              "      <td>0.000</td>\n",
              "      <td>0.000</td>\n",
              "      <td>0.000</td>\n",
              "    </tr>\n",
              "  </tbody>\n",
              "</table>\n",
              "</div>"
            ],
            "text/plain": [
              "                                    and  beautiful   blue  ...    sky     so    the\n",
              "the sky is blue                   0.000      0.000  0.399  ...  0.488  0.000  0.603\n",
              "sky is blue and sky is beautiful  0.441      0.347  0.230  ...  0.562  0.000  0.000\n",
              "the beautiful sky is so blue      0.000      0.432  0.286  ...  0.350  0.548  0.432\n",
              "i love blue cheese                0.000      0.000  0.346  ...  0.000  0.000  0.000\n",
              "\n",
              "[4 rows x 9 columns]"
            ]
          },
          "metadata": {
            "tags": []
          },
          "execution_count": 118
        }
      ]
    },
    {
      "cell_type": "markdown",
      "metadata": {
        "id": "_TC1RFxK9IPU"
      },
      "source": [
        "We can see e.g. in the last document that \"cheese\" has an higher importance than \"blue\", being a less common and thus more discriminating word"
      ]
    },
    {
      "cell_type": "markdown",
      "metadata": {
        "id": "q6DC0EG49IPU"
      },
      "source": [
        "We employ tf.idf in our classification pipeline by replacing `CountVectorizer`"
      ]
    },
    {
      "cell_type": "code",
      "metadata": {
        "id": "ByQMYMeM9IPU"
      },
      "source": [
        "model = Pipeline([\n",
        "    (\"vectorizer\", TfidfVectorizer()),\n",
        "    (\"classifier\", LogisticRegression())\n",
        "])"
      ],
      "execution_count": null,
      "outputs": []
    },
    {
      "cell_type": "markdown",
      "metadata": {
        "id": "7C2jNFgP9IPW"
      },
      "source": [
        "As above, we fit the model on the training set and then evaluate it on the test set"
      ]
    },
    {
      "cell_type": "code",
      "metadata": {
        "id": "GmSW_6aS9IPW"
      },
      "source": [
        "model.fit(reviews_train.text, reviews_train.label);"
      ],
      "execution_count": null,
      "outputs": []
    },
    {
      "cell_type": "code",
      "metadata": {
        "id": "YrIM5UFU9IPX",
        "colab": {
          "base_uri": "https://localhost:8080/"
        },
        "outputId": "3ff3f15d-75e6-49f1-c547-565df45c9d6f"
      },
      "source": [
        "model.score(reviews_test.text, reviews_test.label)"
      ],
      "execution_count": null,
      "outputs": [
        {
          "output_type": "execute_result",
          "data": {
            "text/plain": [
              "0.8412"
            ]
          },
          "metadata": {
            "tags": []
          },
          "execution_count": 121
        }
      ]
    },
    {
      "cell_type": "markdown",
      "metadata": {
        "id": "PRfG6tH99IPY"
      },
      "source": [
        "### Looking for the most influential words\n",
        "\n",
        "Logistic regression computes the likelihood of a review being positive (or negative) according to the following formula:\n",
        "$$ h_\\theta(\\mathbf{x})=\\frac{1}{1+\\exp\\left(-\\theta_0-\\sum_{i=1}^n{\\theta_i\\cdot x_i}\\right)} $$\n",
        "\n",
        "Every $x_i$ variable indicates the element $i$ of an input vector (i.e. the weight of the $i$-th word in the dictionary), while $\\theta_i$ is the model parameter indicating how much the word contributes to the review being estimated as positive or negative\n",
        "\n",
        "By looking at values of the parameters, we can find out which words contribute the most at the reviews being labeled as positive or negative"
      ]
    },
    {
      "cell_type": "markdown",
      "metadata": {
        "id": "1e7YGzS49IPZ"
      },
      "source": [
        "The $\\theta_i$ parameters are available as the `coef_` attribute of the `LogisticRegression` model, we get it from the pipeline and print some values"
      ]
    },
    {
      "cell_type": "code",
      "metadata": {
        "id": "GbbzwNtK9IPZ",
        "colab": {
          "base_uri": "https://localhost:8080/"
        },
        "outputId": "343f6a03-0fb3-4856-b04a-3da5bfdbfb62"
      },
      "source": [
        "model_classifier = model.named_steps[\"classifier\"]\n",
        "\n",
        "model_classifier.coef_[0, :4]"
      ],
      "execution_count": null,
      "outputs": [
        {
          "output_type": "execute_result",
          "data": {
            "text/plain": [
              "array([-0.05094521, -0.01434774, -0.0256676 ,  0.04577293])"
            ]
          },
          "metadata": {
            "tags": []
          },
          "execution_count": 122
        }
      ]
    },
    {
      "cell_type": "markdown",
      "metadata": {
        "id": "TUAtgdBA9IPa"
      },
      "source": [
        "In order to make sense of the values, we get from the `TfidfVectorizer` the names of features and match them to values using a series"
      ]
    },
    {
      "cell_type": "code",
      "metadata": {
        "id": "yPsPGgMQ9IPa"
      },
      "source": [
        "model_vectorizer = model.named_steps[\"vectorizer\"]\n",
        "model_coefs = pd.Series(model_classifier.coef_[0],\n",
        "                        model_vectorizer.get_feature_names())"
      ],
      "execution_count": null,
      "outputs": []
    },
    {
      "cell_type": "markdown",
      "metadata": {
        "id": "qXPsMfL_9IPb"
      },
      "source": [
        "We sort the values in ascending order"
      ]
    },
    {
      "cell_type": "code",
      "metadata": {
        "id": "2EiVr4aC9IPc"
      },
      "source": [
        "model_coefs.sort_values(inplace=True) # inplace=True let us sort the original pandas Series stored in model_coefs variable. Otherwise sort_values would return a copy of the sorted series without sorting the original one."
      ],
      "execution_count": null,
      "outputs": []
    },
    {
      "cell_type": "markdown",
      "metadata": {
        "id": "AMLV2Y5O9IPc"
      },
      "source": [
        "Now at the top of the series we find the terms with the lowest coefficients, which make the model decision most tend to the \"negative\" class"
      ]
    },
    {
      "cell_type": "code",
      "metadata": {
        "id": "Q0ZpIVzE9IPd",
        "colab": {
          "base_uri": "https://localhost:8080/"
        },
        "outputId": "3c97bf0e-8641-4ec0-e0b2-2ec48f8ce6d0"
      },
      "source": [
        "model_coefs.head(5)"
      ],
      "execution_count": null,
      "outputs": [
        {
          "output_type": "execute_result",
          "data": {
            "text/plain": [
              "bad      -5.200\n",
              "worst    -4.123\n",
              "awful    -2.801\n",
              "waste    -2.771\n",
              "boring   -2.760\n",
              "dtype: float64"
            ]
          },
          "metadata": {
            "tags": []
          },
          "execution_count": 125
        }
      ]
    },
    {
      "cell_type": "markdown",
      "metadata": {
        "id": "idX8RZY09IPe"
      },
      "source": [
        "...while at the bottom of the series we find terms with the highest coefficients, whose presence makes the review positive"
      ]
    },
    {
      "cell_type": "code",
      "metadata": {
        "id": "8ThCVy2X9IPe",
        "colab": {
          "base_uri": "https://localhost:8080/"
        },
        "outputId": "6a3f8cbc-882d-4751-a2b5-06398d6a1f75"
      },
      "source": [
        "model_coefs.tail(5)"
      ],
      "execution_count": null,
      "outputs": [
        {
          "output_type": "execute_result",
          "data": {
            "text/plain": [
              "and      2.434\n",
              "well     2.517\n",
              "love     2.688\n",
              "best     3.217\n",
              "great    4.528\n",
              "dtype: float64"
            ]
          },
          "metadata": {
            "tags": []
          },
          "execution_count": 126
        }
      ]
    },
    {
      "cell_type": "markdown",
      "metadata": {
        "id": "qeg3twi49IPf"
      },
      "source": [
        "In this way, we can generally find out the most important terms in deciding the orientation of a review"
      ]
    },
    {
      "cell_type": "markdown",
      "metadata": {
        "id": "pULaHu9z9IPf"
      },
      "source": [
        "### Regularization of parameters\n",
        "\n",
        "The logistic regression model uses _regularization_ to prevent parameters from having very high absolute values, which may lead to overfitting\n",
        "\n",
        "The C parameter controls the regularization strength: smaller values lead to stronger regularization, while larger values make the model fit more to training data\n",
        "\n",
        "This parameter can be tuned to improve the model accuracy"
      ]
    },
    {
      "cell_type": "markdown",
      "metadata": {
        "id": "78n6wGbC9IPg"
      },
      "source": [
        "Let's try for example to raise the C parameter from its default value 1 to 10, thus lowering the regularization"
      ]
    },
    {
      "cell_type": "code",
      "metadata": {
        "id": "flxU_m1R9IPg"
      },
      "source": [
        "model = Pipeline([\n",
        "    (\"vectorizer\", TfidfVectorizer()),\n",
        "    (\"classifier\", LogisticRegression(C=10))\n",
        "])"
      ],
      "execution_count": null,
      "outputs": []
    },
    {
      "cell_type": "code",
      "metadata": {
        "id": "qNlSMPQt9IPh"
      },
      "source": [
        "model.fit(reviews_train.text, reviews_train.label);"
      ],
      "execution_count": null,
      "outputs": []
    },
    {
      "cell_type": "code",
      "metadata": {
        "id": "mQNnmdaj9IPh",
        "colab": {
          "base_uri": "https://localhost:8080/"
        },
        "outputId": "1ff5415c-56d0-4ded-8688-bf23c5322e2c"
      },
      "source": [
        "model.score(reviews_test.text, reviews_test.label)"
      ],
      "execution_count": null,
      "outputs": [
        {
          "output_type": "execute_result",
          "data": {
            "text/plain": [
              "0.829"
            ]
          },
          "metadata": {
            "tags": []
          },
          "execution_count": 129
        }
      ]
    },
    {
      "cell_type": "markdown",
      "metadata": {
        "id": "ePLEJs_79IPi"
      },
      "source": [
        "In this case accuracy slightly drops, possibly due to overfitting"
      ]
    },
    {
      "cell_type": "markdown",
      "metadata": {
        "id": "72a-QgZt9IPi"
      },
      "source": [
        "If we check for model parameters, their absolute value are now higher"
      ]
    },
    {
      "cell_type": "code",
      "metadata": {
        "id": "2613CtoE9IPi"
      },
      "source": [
        "model_classifier = model.named_steps[\"classifier\"]\n",
        "model_vectorizer = model.named_steps[\"vectorizer\"]\n",
        "model_coefs = pd.Series(model_classifier.coef_[0],\n",
        "                        model_vectorizer.get_feature_names())\n",
        "model_coefs.sort_values(inplace=True)"
      ],
      "execution_count": null,
      "outputs": []
    },
    {
      "cell_type": "code",
      "metadata": {
        "id": "a5Qb8jwP9IPk",
        "colab": {
          "base_uri": "https://localhost:8080/"
        },
        "outputId": "c3f0a576-4989-4dd9-e9fe-1d47466ea14e"
      },
      "source": [
        "model_coefs.head(3)"
      ],
      "execution_count": null,
      "outputs": [
        {
          "output_type": "execute_result",
          "data": {
            "text/plain": [
              "worst   -9.775\n",
              "bad     -9.499\n",
              "awful   -6.673\n",
              "dtype: float64"
            ]
          },
          "metadata": {
            "tags": []
          },
          "execution_count": 131
        }
      ]
    },
    {
      "cell_type": "code",
      "metadata": {
        "id": "7D1bH_gF9IPl",
        "colab": {
          "base_uri": "https://localhost:8080/"
        },
        "outputId": "b9293ca3-c41f-4b74-d4dc-5575319f5869"
      },
      "source": [
        "model_coefs.tail(3)"
      ],
      "execution_count": null,
      "outputs": [
        {
          "output_type": "execute_result",
          "data": {
            "text/plain": [
              "perfect    6.164\n",
              "best       7.489\n",
              "great      8.936\n",
              "dtype: float64"
            ]
          },
          "metadata": {
            "tags": []
          },
          "execution_count": 132
        }
      ]
    },
    {
      "cell_type": "markdown",
      "metadata": {
        "id": "b-9mDJ7Z9IPm"
      },
      "source": [
        "### Reducing the dimensionality\n",
        "\n",
        "Considering the number of distinct terms across all training reviews, the dimensionality of the vector space is very high"
      ]
    },
    {
      "cell_type": "code",
      "metadata": {
        "id": "BBGZBkZE9IPm",
        "colab": {
          "base_uri": "https://localhost:8080/"
        },
        "outputId": "a32788ee-c9f5-4a67-fb9b-45096404216b"
      },
      "source": [
        "len(model_vectorizer.get_feature_names())"
      ],
      "execution_count": null,
      "outputs": [
        {
          "output_type": "execute_result",
          "data": {
            "text/plain": [
              "36272"
            ]
          },
          "metadata": {
            "tags": []
          },
          "execution_count": 133
        }
      ]
    },
    {
      "cell_type": "markdown",
      "metadata": {
        "id": "rLdnbUD69IPm"
      },
      "source": [
        "Methods exist to reduce the dimensionality in order to lower the time required for training the model with very small repercussion on its accuracy\n",
        "\n",
        "One possibility is to not consider words appearing only in very few reviews, such as very specific terms or misspelled words"
      ]
    },
    {
      "cell_type": "markdown",
      "metadata": {
        "id": "E6EMtre29IPn"
      },
      "source": [
        "We can configure the vectorizer with the `min_df` parameter to exclude terms appearing e.g. in less than 3 training reviews"
      ]
    },
    {
      "cell_type": "code",
      "metadata": {
        "id": "z6ZuZ4H-9IPn"
      },
      "source": [
        "model = Pipeline([\n",
        "    (\"vectorizer\", TfidfVectorizer(min_df=3)),\n",
        "    (\"classifier\", LogisticRegression())\n",
        "])"
      ],
      "execution_count": null,
      "outputs": []
    },
    {
      "cell_type": "markdown",
      "metadata": {
        "id": "BlU4nBov9IPo"
      },
      "source": [
        "Let's fit the model as above..."
      ]
    },
    {
      "cell_type": "code",
      "metadata": {
        "id": "84ujhE7B9IPo"
      },
      "source": [
        "model.fit(reviews_train.text, reviews_train.label);"
      ],
      "execution_count": null,
      "outputs": []
    },
    {
      "cell_type": "markdown",
      "metadata": {
        "id": "tfGd227X9IPo"
      },
      "source": [
        "Looking at the fit vectorizer, the number of dimensions is now much lower..."
      ]
    },
    {
      "cell_type": "code",
      "metadata": {
        "id": "koXs4jxM9IPp",
        "colab": {
          "base_uri": "https://localhost:8080/"
        },
        "outputId": "19df4720-cf1e-4bc3-8ca9-173d1d75091e"
      },
      "source": [
        "len(model.named_steps[\"vectorizer\"].get_feature_names())"
      ],
      "execution_count": null,
      "outputs": [
        {
          "output_type": "execute_result",
          "data": {
            "text/plain": [
              "16127"
            ]
          },
          "metadata": {
            "tags": []
          },
          "execution_count": 136
        }
      ]
    },
    {
      "cell_type": "markdown",
      "metadata": {
        "id": "0d-ti6q79IPp"
      },
      "source": [
        "...but the accuracy is close to the previous value"
      ]
    },
    {
      "cell_type": "code",
      "metadata": {
        "id": "6R5wO9wf9IPq",
        "colab": {
          "base_uri": "https://localhost:8080/"
        },
        "outputId": "6139ea8b-9080-4634-9565-410e1334a25d"
      },
      "source": [
        "model.score(reviews_test.text, reviews_test.label)"
      ],
      "execution_count": null,
      "outputs": [
        {
          "output_type": "execute_result",
          "data": {
            "text/plain": [
              "0.8424"
            ]
          },
          "metadata": {
            "tags": []
          },
          "execution_count": 137
        }
      ]
    },
    {
      "cell_type": "markdown",
      "metadata": {
        "id": "FDT9_dtm9IPq"
      },
      "source": [
        "### Stemming\n",
        "\n",
        "Another way to reduce dimensionality is to group similar terms into an unique feature\n",
        "\n",
        "_Stemming_ is the extraction of the morphological root (_stem_) of a word: using stems of words as features in place of words themselves, we obtain a single feature for possibly several single terms with a common stem (e.g. {run, runned, running} --> \"run\")"
      ]
    },
    {
      "cell_type": "markdown",
      "metadata": {
        "id": "RamgdDXU9IPq"
      },
      "source": [
        "We start creating a `PorterStemmer` object, providing a `stem` method"
      ]
    },
    {
      "cell_type": "code",
      "metadata": {
        "id": "RmpatPc29IPr"
      },
      "source": [
        "ps = nltk.stem.PorterStemmer()"
      ],
      "execution_count": null,
      "outputs": []
    },
    {
      "cell_type": "code",
      "metadata": {
        "id": "2dc0qOEK9IPr",
        "colab": {
          "base_uri": "https://localhost:8080/"
        },
        "outputId": "2e667383-f5ad-47eb-9c41-521c07e99461"
      },
      "source": [
        "ps.stem(\"stem\"), ps.stem(\"stemming\")"
      ],
      "execution_count": null,
      "outputs": [
        {
          "output_type": "execute_result",
          "data": {
            "text/plain": [
              "('stem', 'stem')"
            ]
          },
          "metadata": {
            "tags": []
          },
          "execution_count": 139
        }
      ]
    },
    {
      "cell_type": "code",
      "metadata": {
        "id": "cl_591k6v6TZ",
        "colab": {
          "base_uri": "https://localhost:8080/"
        },
        "outputId": "84f7889e-1a2b-4f3b-d596-999e6c7481e8"
      },
      "source": [
        "ps.stem(\"run\"), ps.stem(\"runned\"), ps.stem(\"running\")"
      ],
      "execution_count": null,
      "outputs": [
        {
          "output_type": "execute_result",
          "data": {
            "text/plain": [
              "('run', 'run', 'run')"
            ]
          },
          "metadata": {
            "tags": []
          },
          "execution_count": 140
        }
      ]
    },
    {
      "cell_type": "markdown",
      "metadata": {
        "id": "fwlX4rHf9IPt"
      },
      "source": [
        "We can use that to create a function which uses NLTK to tokenize text into words and return a sequence of stems instead of complete words"
      ]
    },
    {
      "cell_type": "code",
      "metadata": {
        "id": "ZStwuomf9IPu"
      },
      "source": [
        "def tokenize_with_stemming(text):\n",
        "    return [ps.stem(token) for token # for each word in the tokenized text apply the ps.stem() function\n",
        "        in nltk.tokenize.word_tokenize(text)]"
      ],
      "execution_count": null,
      "outputs": []
    },
    {
      "cell_type": "code",
      "metadata": {
        "id": "DZxdVWzM9IPv",
        "colab": {
          "base_uri": "https://localhost:8080/"
        },
        "outputId": "528b176d-5de1-42d1-a383-ea04f6fcd95d"
      },
      "source": [
        "tokenize_with_stemming(\"We have shown many examples!\")"
      ],
      "execution_count": null,
      "outputs": [
        {
          "output_type": "execute_result",
          "data": {
            "text/plain": [
              "['We', 'have', 'shown', 'mani', 'exampl', '!']"
            ]
          },
          "metadata": {
            "tags": []
          },
          "execution_count": 142
        }
      ]
    },
    {
      "cell_type": "markdown",
      "metadata": {
        "id": "WIs6UWap9IPw"
      },
      "source": [
        "In a vectorizer, we can set the `tokenizer` parameter to use our custom tokenization function in place of scikit-learn default one"
      ]
    },
    {
      "cell_type": "code",
      "metadata": {
        "id": "Ie7GW6VM9IPw"
      },
      "source": [
        "model = Pipeline([\n",
        "    (\"vectorizer\", TfidfVectorizer(min_df=3, tokenizer=tokenize_with_stemming)),\n",
        "    (\"classifier\", LogisticRegression())\n",
        "])"
      ],
      "execution_count": null,
      "outputs": []
    },
    {
      "cell_type": "markdown",
      "metadata": {
        "id": "2Oxp_WkP9IPx"
      },
      "source": [
        "We can then fit the model as usual"
      ]
    },
    {
      "cell_type": "code",
      "metadata": {
        "id": "guFzXQvr9IPx"
      },
      "source": [
        "model.fit(reviews_train.text, reviews_train.label);"
      ],
      "execution_count": null,
      "outputs": []
    },
    {
      "cell_type": "markdown",
      "metadata": {
        "id": "Q3dMVXv-9IPy"
      },
      "source": [
        "The number of feature is further reduced"
      ]
    },
    {
      "cell_type": "code",
      "metadata": {
        "id": "_35EZ_i69IPy",
        "colab": {
          "base_uri": "https://localhost:8080/"
        },
        "outputId": "76e2f5a0-e809-4ea4-b3f8-c1bbfb6e1c90"
      },
      "source": [
        "len(model.named_steps[\"vectorizer\"].get_feature_names())"
      ],
      "execution_count": null,
      "outputs": [
        {
          "output_type": "execute_result",
          "data": {
            "text/plain": [
              "12543"
            ]
          },
          "metadata": {
            "tags": []
          },
          "execution_count": 145
        }
      ]
    },
    {
      "cell_type": "markdown",
      "metadata": {
        "id": "6iysRIvF9IPz"
      },
      "source": [
        "Computing the accuracy..."
      ]
    },
    {
      "cell_type": "code",
      "metadata": {
        "id": "TYBlI3gx9IPz",
        "colab": {
          "base_uri": "https://localhost:8080/"
        },
        "outputId": "1210c0d2-6a56-4e43-9e2a-2ab48194387e"
      },
      "source": [
        "model.score(reviews_test.text, reviews_test.label)"
      ],
      "execution_count": null,
      "outputs": [
        {
          "output_type": "execute_result",
          "data": {
            "text/plain": [
              "0.8394"
            ]
          },
          "metadata": {
            "tags": []
          },
          "execution_count": 146
        }
      ]
    },
    {
      "cell_type": "markdown",
      "metadata": {
        "id": "wbXQzbdz9IP0"
      },
      "source": [
        "...we see in this case a minor loss "
      ]
    },
    {
      "cell_type": "markdown",
      "metadata": {
        "id": "k6QpBeJP9IP0"
      },
      "source": [
        "### n-grams\n",
        "\n",
        "An _n-gram_ is a sequence of n consecutive words in a text: in the common cases with n equal to 2 and 3, they are called _bigrams_ and _trigrams_\n",
        "\n",
        "n-grams can be used in addition or replacement to single words as features to represent reviews: they can be useful to spot meaningful expressions composed of more than one word, although we will also get many n-grams with no significant meaning\n",
        "\n",
        "For example, in the sentence \"Sentiment analysis is not bad\" we have meaningful bigrams indicating a concept (\"Sentiment analysis\") and an opinion (\"not bad\")"
      ]
    },
    {
      "cell_type": "markdown",
      "metadata": {
        "id": "ObnuLgHv9IP0"
      },
      "source": [
        "Setting the `ngram_range` parameter of a vectorizer to a tuple `(a,b)`, it will use as features all n-grams with n between a and b; the default value is `(1, 1)`, meaning that only single words (\"1-grams\") are considered\n",
        "\n",
        "Let's see what happens by setting `(1, 2)`, i.e. considering both single words and bigrams, still limiting features to those appearing in 3 reviews at least"
      ]
    },
    {
      "cell_type": "code",
      "metadata": {
        "id": "xsRwMuQR9IP0"
      },
      "source": [
        "model = Pipeline([\n",
        "    (\"vectorizer\", TfidfVectorizer(min_df=3, ngram_range=(1, 2))), # using 1-grams and 2-grams\n",
        "    (\"classifier\", LogisticRegression())\n",
        "])"
      ],
      "execution_count": null,
      "outputs": []
    },
    {
      "cell_type": "markdown",
      "metadata": {
        "id": "ZSOpCexo9IP1"
      },
      "source": [
        "Fit the model as usual"
      ]
    },
    {
      "cell_type": "code",
      "metadata": {
        "id": "ha-KoggH9IP1"
      },
      "source": [
        "model.fit(reviews_train[\"text\"], reviews_train[\"label\"]); #reviews_train.text = reviews_train[\"text\"]"
      ],
      "execution_count": null,
      "outputs": []
    },
    {
      "cell_type": "markdown",
      "metadata": {
        "id": "py-_TiXu9IP4"
      },
      "source": [
        "Adding bigrams to single words, the dimensionality is sensibly higher..."
      ]
    },
    {
      "cell_type": "code",
      "metadata": {
        "id": "hA6B_k8q9IP4",
        "colab": {
          "base_uri": "https://localhost:8080/"
        },
        "outputId": "eb094a94-f4d4-4754-989d-6cd138dfa6fa"
      },
      "source": [
        "len(model.named_steps[\"vectorizer\"].get_feature_names()) # \"sentiment\" + \"sentiment analysis\""
      ],
      "execution_count": null,
      "outputs": [
        {
          "output_type": "execute_result",
          "data": {
            "text/plain": [
              "71800"
            ]
          },
          "metadata": {
            "tags": []
          },
          "execution_count": 149
        }
      ]
    },
    {
      "cell_type": "markdown",
      "metadata": {
        "id": "tW1Xe-wy9IP5"
      },
      "source": [
        "...but in this case we successfully increase the accuracy"
      ]
    },
    {
      "cell_type": "code",
      "metadata": {
        "id": "-zKZ1Eq_9IP5",
        "colab": {
          "base_uri": "https://localhost:8080/"
        },
        "outputId": "9919ca27-a32c-4a6e-ab8f-e3ca73717663"
      },
      "source": [
        "model.score(reviews_test[\"text\"], reviews_test[\"label\"])"
      ],
      "execution_count": null,
      "outputs": [
        {
          "output_type": "execute_result",
          "data": {
            "text/plain": [
              "0.851"
            ]
          },
          "metadata": {
            "tags": []
          },
          "execution_count": 150
        }
      ]
    },
    {
      "cell_type": "markdown",
      "metadata": {
        "id": "n_k_q0uh9IP5"
      },
      "source": [
        "### Sentiment analysis with NLTK\n",
        "\n",
        "NLTK integrates specific functions for sentiment analysis, allowing to evaluate the subjectivity and the sentiment of text\n",
        "\n",
        "Let's see for example how to classify reviews using VADER (_Valence Aware Dictionary for sEntiment Reasoning_), a lexicon and rule-based sentiment estimator specifically oriented to social media, of which NLTK provides an implementation\n",
        "\n",
        "- **Reference:** Hutto, C. J., and Eric Gilbert. \"VADER: A Parsimonious Rule-Based Model for Sentiment Analysis of Social Media Text.\" _Eighth International AAAI Conference on Weblogs and Social Media_. 2014."
      ]
    },
    {
      "cell_type": "markdown",
      "metadata": {
        "id": "rgCSzAi59IP6"
      },
      "source": [
        "Download the necessary data"
      ]
    },
    {
      "cell_type": "code",
      "metadata": {
        "id": "mmAuvsax9IP6",
        "colab": {
          "base_uri": "https://localhost:8080/"
        },
        "outputId": "8a7e5940-46f5-4aa2-8bae-7ad10de91fd3"
      },
      "source": [
        "nltk.download(\"vader_lexicon\")"
      ],
      "execution_count": null,
      "outputs": [
        {
          "output_type": "stream",
          "text": [
            "[nltk_data] Downloading package vader_lexicon to /root/nltk_data...\n"
          ],
          "name": "stdout"
        },
        {
          "output_type": "execute_result",
          "data": {
            "text/plain": [
              "True"
            ]
          },
          "metadata": {
            "tags": []
          },
          "execution_count": 151
        }
      ]
    },
    {
      "cell_type": "markdown",
      "metadata": {
        "id": "C_-UnfYU9IP6"
      },
      "source": [
        "Import the class and create an analyzer object"
      ]
    },
    {
      "cell_type": "code",
      "metadata": {
        "id": "WNOc25rqu1GP",
        "colab": {
          "base_uri": "https://localhost:8080/"
        },
        "outputId": "35213ba1-0165-4ad7-c974-92a4a41bf6bf"
      },
      "source": [
        "!pip install twython # nltk.sentiment dependency"
      ],
      "execution_count": null,
      "outputs": [
        {
          "output_type": "stream",
          "text": [
            "Collecting twython\n",
            "  Downloading https://files.pythonhosted.org/packages/24/80/579b96dfaa9b536efde883d4f0df7ea2598a6f3117a6dd572787f4a2bcfb/twython-3.8.2-py3-none-any.whl\n",
            "Requirement already satisfied: requests>=2.1.0 in /usr/local/lib/python3.7/dist-packages (from twython) (2.23.0)\n",
            "Requirement already satisfied: requests-oauthlib>=0.4.0 in /usr/local/lib/python3.7/dist-packages (from twython) (1.3.0)\n",
            "Requirement already satisfied: idna<3,>=2.5 in /usr/local/lib/python3.7/dist-packages (from requests>=2.1.0->twython) (2.10)\n",
            "Requirement already satisfied: urllib3!=1.25.0,!=1.25.1,<1.26,>=1.21.1 in /usr/local/lib/python3.7/dist-packages (from requests>=2.1.0->twython) (1.24.3)\n",
            "Requirement already satisfied: chardet<4,>=3.0.2 in /usr/local/lib/python3.7/dist-packages (from requests>=2.1.0->twython) (3.0.4)\n",
            "Requirement already satisfied: certifi>=2017.4.17 in /usr/local/lib/python3.7/dist-packages (from requests>=2.1.0->twython) (2020.12.5)\n",
            "Requirement already satisfied: oauthlib>=3.0.0 in /usr/local/lib/python3.7/dist-packages (from requests-oauthlib>=0.4.0->twython) (3.1.0)\n",
            "Installing collected packages: twython\n",
            "Successfully installed twython-3.8.2\n"
          ],
          "name": "stdout"
        }
      ]
    },
    {
      "cell_type": "code",
      "metadata": {
        "id": "nnZ6wPt_9IP6"
      },
      "source": [
        "from nltk.sentiment.vader import SentimentIntensityAnalyzer\n",
        "vader = SentimentIntensityAnalyzer()"
      ],
      "execution_count": null,
      "outputs": []
    },
    {
      "cell_type": "markdown",
      "metadata": {
        "id": "MoLmF1HV9IP7"
      },
      "source": [
        "We can see some words in the VADER lexicon along with the positive or negative orientation assigned to them: we can see that typical social media language is recognized"
      ]
    },
    {
      "cell_type": "code",
      "metadata": {
        "id": "_5T7h5oA9IP7",
        "colab": {
          "base_uri": "https://localhost:8080/"
        },
        "outputId": "d23308f7-d689-488f-a8dc-03fdc55cf753"
      },
      "source": [
        "vader.lexicon[\"excellent\"]"
      ],
      "execution_count": null,
      "outputs": [
        {
          "output_type": "execute_result",
          "data": {
            "text/plain": [
              "2.7"
            ]
          },
          "metadata": {
            "tags": []
          },
          "execution_count": 154
        }
      ]
    },
    {
      "cell_type": "code",
      "metadata": {
        "id": "OxOoK2PH9IP8",
        "colab": {
          "base_uri": "https://localhost:8080/"
        },
        "outputId": "7bf9f7dd-850c-4ca7-ee57-ef06de690451"
      },
      "source": [
        "vader.lexicon[\"sux\"]"
      ],
      "execution_count": null,
      "outputs": [
        {
          "output_type": "execute_result",
          "data": {
            "text/plain": [
              "-1.5"
            ]
          },
          "metadata": {
            "tags": []
          },
          "execution_count": 155
        }
      ]
    },
    {
      "cell_type": "code",
      "metadata": {
        "id": "TGFlq5j59IP8",
        "colab": {
          "base_uri": "https://localhost:8080/"
        },
        "outputId": "2358c999-b8dc-4624-d07b-3c103b7cba4c"
      },
      "source": [
        "vader.lexicon[\"wtf\"]"
      ],
      "execution_count": null,
      "outputs": [
        {
          "output_type": "execute_result",
          "data": {
            "text/plain": [
              "-2.8"
            ]
          },
          "metadata": {
            "tags": []
          },
          "execution_count": 156
        }
      ]
    },
    {
      "cell_type": "code",
      "metadata": {
        "id": "9Z-AOTKC9IP9",
        "colab": {
          "base_uri": "https://localhost:8080/"
        },
        "outputId": "c1ce0792-dce4-4748-8b2c-5787e9f1b40d"
      },
      "source": [
        "vader.lexicon[\":-)\"]"
      ],
      "execution_count": null,
      "outputs": [
        {
          "output_type": "execute_result",
          "data": {
            "text/plain": [
              "1.3"
            ]
          },
          "metadata": {
            "tags": []
          },
          "execution_count": 157
        }
      ]
    },
    {
      "cell_type": "markdown",
      "metadata": {
        "id": "DwkZwp419IP_"
      },
      "source": [
        "Using the `polarity_score` method, given some text, we obtain a dictionary stating the probability of the sentence being either positive, negative or sentiment-neutral.\n",
        "\n",
        "The `compound` score is a metric that calculates the sum of all the lexicon ratings which have been normalized between -1 (most extreme negative) and +1 (most extreme positive)."
      ]
    },
    {
      "cell_type": "code",
      "metadata": {
        "id": "9w-Tk-NI9IP_",
        "colab": {
          "base_uri": "https://localhost:8080/"
        },
        "outputId": "68f0be23-7753-48c4-8ad3-9e2182d4a5b9"
      },
      "source": [
        "vader.polarity_scores(\"Not a bad movie\")"
      ],
      "execution_count": null,
      "outputs": [
        {
          "output_type": "execute_result",
          "data": {
            "text/plain": [
              "{'compound': 0.431, 'neg': 0.0, 'neu': 0.412, 'pos': 0.588}"
            ]
          },
          "metadata": {
            "tags": []
          },
          "execution_count": 158
        }
      ]
    },
    {
      "cell_type": "code",
      "metadata": {
        "id": "AMFpr1YA9IQA",
        "colab": {
          "base_uri": "https://localhost:8080/"
        },
        "outputId": "d85ec5d3-135c-47d8-dd86-fbddee08b2c3"
      },
      "source": [
        "vader.polarity_scores(\"I wouldn't recommend this movie\")"
      ],
      "execution_count": null,
      "outputs": [
        {
          "output_type": "execute_result",
          "data": {
            "text/plain": [
              "{'compound': -0.2755, 'neg': 0.413, 'neu': 0.587, 'pos': 0.0}"
            ]
          },
          "metadata": {
            "tags": []
          },
          "execution_count": 159
        }
      ]
    },
    {
      "cell_type": "code",
      "metadata": {
        "id": "-28eatr59IQC",
        "colab": {
          "base_uri": "https://localhost:8080/"
        },
        "outputId": "4114e7ea-5144-49c8-f9be-f43a4ca315d1"
      },
      "source": [
        "vader.polarity_scores(\"This movie is candidated to 3 Academy awards\")"
      ],
      "execution_count": null,
      "outputs": [
        {
          "output_type": "execute_result",
          "data": {
            "text/plain": [
              "{'compound': 0.4588, 'neg': 0.0, 'neu': 0.667, 'pos': 0.333}"
            ]
          },
          "metadata": {
            "tags": []
          },
          "execution_count": 160
        }
      ]
    },
    {
      "cell_type": "markdown",
      "metadata": {
        "id": "wnBSC1np9IQE"
      },
      "source": [
        "We can see that the model is reasonably good in detecting compound statements such as negations"
      ]
    },
    {
      "cell_type": "markdown",
      "metadata": {
        "id": "L6s63IFF9IQE"
      },
      "source": [
        "Let's create a function that, given a review, returns a \"pos\" or \"neg\" label according to VADER scores"
      ]
    },
    {
      "cell_type": "code",
      "metadata": {
        "id": "cNMhwi1i9IQE"
      },
      "source": [
        "def vader_classify(text):\n",
        "    scores = vader.polarity_scores(text)\n",
        "    return \"pos\" if scores[\"pos\"] >= scores[\"neg\"] else \"neg\""
      ],
      "execution_count": null,
      "outputs": []
    },
    {
      "cell_type": "markdown",
      "metadata": {
        "id": "MW-iJVP-9IQF"
      },
      "source": [
        "Using the `apply` method of series, we apply the function to each review text obtaining a series of pos/neg labels"
      ]
    },
    {
      "cell_type": "code",
      "metadata": {
        "id": "bUtWVwWa9IQF"
      },
      "source": [
        "vader_preds = reviews_test[\"text\"].apply(vader_classify)"
      ],
      "execution_count": null,
      "outputs": []
    },
    {
      "cell_type": "markdown",
      "metadata": {
        "id": "uIS92sBh9IQH"
      },
      "source": [
        "We compare this series with actual labels, obtaining a boolean series stating for which reviews the classifier indicated the correct label"
      ]
    },
    {
      "cell_type": "code",
      "metadata": {
        "id": "xPTLs0SR9IQH"
      },
      "source": [
        "vader_hits = vader_preds == reviews_test[\"label\"]"
      ],
      "execution_count": null,
      "outputs": []
    },
    {
      "cell_type": "code",
      "metadata": {
        "id": "Q9_JcA9v9IQJ",
        "colab": {
          "base_uri": "https://localhost:8080/"
        },
        "outputId": "6041acd7-1b35-4e07-d05a-c9eeaa5cd9a0"
      },
      "source": [
        "vader_hits.values[:9]"
      ],
      "execution_count": null,
      "outputs": [
        {
          "output_type": "execute_result",
          "data": {
            "text/plain": [
              "array([ True,  True,  True,  True,  True,  True,  True, False,  True])"
            ]
          },
          "metadata": {
            "tags": []
          },
          "execution_count": 164
        }
      ]
    },
    {
      "cell_type": "markdown",
      "metadata": {
        "id": "AWYLf4HU9IQL"
      },
      "source": [
        "Computing the mean, we obtain the ratio of `True` values"
      ]
    },
    {
      "cell_type": "code",
      "metadata": {
        "id": "BT_IrQIf9IQL",
        "colab": {
          "base_uri": "https://localhost:8080/"
        },
        "outputId": "3cdd40d5-13b4-487c-c908-aed7441682e4"
      },
      "source": [
        "vader_hits.mean()"
      ],
      "execution_count": null,
      "outputs": [
        {
          "output_type": "execute_result",
          "data": {
            "text/plain": [
              "0.6936"
            ]
          },
          "metadata": {
            "tags": []
          },
          "execution_count": 165
        }
      ]
    },
    {
      "cell_type": "markdown",
      "metadata": {
        "id": "whSM4e3_9IQM"
      },
      "source": [
        "Here VADER achieves a lower accuracy than our supervised model, which however required a large set of pre-labeled reviews to be trained"
      ]
    },
    {
      "cell_type": "markdown",
      "metadata": {
        "id": "BKe42xjW9IQM"
      },
      "source": [
        "### Exercise 2: test new methods on tweets\n",
        "\n",
        "In this activity we seen two sentiment classification methods\n",
        "- using a classifier trained on the labeled reviews used here\n",
        "- using the pretrained VADER model\n",
        "\n",
        "Test both these new methods on airline tweets from the first activity, giving each tweet a score of -5 or 5 according to the negative or positive response of the classifier, then compare as above summary scores obtained by both methods with ACSI scores\n",
        "\n",
        "Which of the two methods do you expect to be more accurate?"
      ]
    }
  ]
}